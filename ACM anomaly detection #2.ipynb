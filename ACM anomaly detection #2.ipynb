{
 "cells": [
  {
   "cell_type": "code",
   "execution_count": 1,
   "id": "660e31a7-611e-46c1-a357-af5dcef1aa5a",
   "metadata": {},
   "outputs": [],
   "source": [
    "import pandas as pd\n",
    "import numpy as np\n",
    "import matplotlib.pyplot as plt\n",
    "import seaborn as sns\n",
    "from sklearn.model_selection import train_test_split\n",
    "from sklearn.ensemble import IsolationForest\n",
    "from sklearn.svm import OneClassSVM\n",
    "import tensorflow as tf\n",
    "from tensorflow.keras.models import Model\n",
    "from tensorflow.keras.layers import Input, Dense\n",
    "from sklearn.model_selection import train_test_split\n",
    "from sklearn.metrics import accuracy_score, precision_score, recall_score, f1_score\n",
    "# from pyod.models.iforest import IForest\n",
    "# from pyod.models.gmm import GMM\n",
    "# from sklearn.svm import OneClassSVM\n",
    "# from tensorflow.keras.models import Model\n",
    "# from tensorflow.keras.layers import Input, Dense\n",
    "# import numpy as np\n",
    "# from sklearn.model_selection import train_test_split\n"
   ]
  },
  {
   "cell_type": "code",
   "execution_count": 2,
   "id": "e3e95df5-d4fc-452a-b087-5ee093ea1975",
   "metadata": {},
   "outputs": [],
   "source": [
    "# import requests\n",
    "\n",
    "# site_id = \"site_104\"  \n",
    "# params = \"pm10cnc,pm2.5cnc\"\n",
    "# startdate = \"2021-11-01T00:00\"\n",
    "# enddate = \"2025-03-13T00:00\"\n",
    "\n",
    "# # API URL\n",
    "# api_url = f\"http://atmos.urbansciences.in/adp/v4/getDeviceDataParam/imei/{site_id}/params/{params}/startdate/{startdate}/enddate/{enddate}/ts/mm/avg/30/api/63h3AckbgtY?gaps=1&gap_value=NaN\"\n",
    "\n",
    "# # Make request\n",
    "# response = requests.get(api_url)\n",
    "\n",
    "# # Check if request was successful\n",
    "# if response.status_code == 200:\n",
    "#     # Save CSV file\n",
    "#     filename = f\"{site_id}_data.csv\"\n",
    "#     with open(filename, \"wb\") as file:\n",
    "#         file.write(response.content)\n",
    "#     print(f\"CSV file saved as: {filename}\")\n",
    "# else:\n",
    "#     print(f\"Error: API request failed with status code {response.status_code}\")\n"
   ]
  },
  {
   "cell_type": "code",
   "execution_count": null,
   "id": "1b890699-3a06-44f1-a2c3-75fe2f339951",
   "metadata": {},
   "outputs": [],
   "source": []
  },
  {
   "cell_type": "code",
   "execution_count": 3,
   "id": "761ac668-abc8-4ce9-a7df-493444de90ee",
   "metadata": {},
   "outputs": [],
   "source": [
    "import pandas as pd\n",
    "import numpy as np\n",
    "\n",
    "def clean_and_prepare(df):\n",
    "    \"\"\"\n",
    "    Cleans and prepares the dataframe:\n",
    "    - Ensures datetime index\n",
    "    - Converts numeric data before interpolation\n",
    "    - Creates time-based features (hour, sin_hour, cos_hour)\n",
    "    - Adds lag features for pm2.5cnc and pm10cnc\n",
    "    - Handles missing values correctly\n",
    "    \"\"\"\n",
    "\n",
    "    if isinstance(df.index, pd.MultiIndex):\n",
    "        dt_index = pd.to_datetime(df.index.get_level_values(0), errors=\"coerce\")\n",
    "        df.index = df.index.set_levels(dt_index, level=0)\n",
    "    else:\n",
    "        if \"dt_time\" in df.columns:\n",
    "            df[\"dt_time\"] = pd.to_datetime(df[\"dt_time\"], errors=\"coerce\")\n",
    "            df.dropna(subset=[\"dt_time\"], inplace=True)\n",
    "            df.set_index(\"dt_time\", inplace=True)\n",
    "\n",
    "    if \"pm2_5cnc\" not in df.columns or \"pm10cnc\" not in df.columns:\n",
    "        print(f\"Warning: One or both pollutant columns are missing! Columns available: {df.columns}\")\n",
    "\n",
    "    for col in [\"pm2_5cnc\", \"pm10cnc\"]:\n",
    "        if col in df.columns:\n",
    "            df[col] = pd.to_numeric(df[col], errors=\"coerce\")\n",
    "\n",
    "    numeric_cols = df.select_dtypes(include=[np.number]).columns\n",
    "    df = df[numeric_cols]\n",
    "\n",
    "    if isinstance(df.index, pd.MultiIndex) and \"site_id\" in df.columns:\n",
    "        df.set_index(\"site_id\", append=True, inplace=True)\n",
    "\n",
    "    if not df.empty:\n",
    "        df.interpolate(method=\"time\", inplace=True)\n",
    "\n",
    "    df[\"hour\"] = df.index.get_level_values(0).hour\n",
    "    df[\"sin_hour\"] = np.sin(2 * np.pi * df[\"hour\"] / 24)\n",
    "    df[\"cos_hour\"] = np.cos(2 * np.pi * df[\"hour\"] / 24)\n",
    "\n",
    "    for col in [\"pm2.5cnc\", \"pm10cnc\"]:\n",
    "        if col in df.columns:\n",
    "            df[f\"{col}_lag1\"] = df[col].shift(1).bfill()\n",
    "            df[f\"{col}_lag2\"] = df[col].shift(2).bfill()\n",
    "\n",
    "    df[\"month\"] = df.index.get_level_values(0).month\n",
    "\n",
    "    def get_season(month):\n",
    "        if month in [1, 2]: return \"Winter\"\n",
    "        elif month in [6, 7, 8, 9]: return \"Monsoon\"\n",
    "        else: return \"Post-Monsoon\"\n",
    "\n",
    "    df[\"season\"] = df[\"month\"].apply(get_season)\n",
    "    df[\"season_code\"] = pd.Categorical(df[\"season\"]).codes\n",
    "    df.drop(columns=[\"season\"], inplace=True)\n",
    "\n",
    "    df.fillna(method=\"ffill\", inplace=True)\n",
    "    df.fillna(method=\"bfill\", inplace=True)\n",
    "\n",
    "    if \"pm2_5cnc\" not in df.columns:\n",
    "        raise ValueError(\"ERROR: 'pm2.5cnc' column is missing from DataFrame after processing!\")\n",
    "\n",
    "    return df\n"
   ]
  },
  {
   "cell_type": "code",
   "execution_count": 4,
   "id": "f1369d7e-3e97-4731-ae7d-1c9b79975326",
   "metadata": {},
   "outputs": [],
   "source": [
    "import numpy as np\n",
    "import pandas as pd\n",
    "import matplotlib.pyplot as plt\n",
    "\n",
    "def encode_pm25(pm25):\n",
    "    \"\"\"\n",
    "    Encodes PM2.5 value into a numeric score:\n",
    "      1: Good (0–30 µg/m³)\n",
    "      2: Satisfactory (31–60 µg/m³)\n",
    "      3: Moderate (61–90 µg/m³)\n",
    "      4: Poor (91–120 µg/m³)\n",
    "      5: Very Poor (121–250 µg/m³)\n",
    "      6: Severe (251 µg/m³ and above)\n",
    "    \"\"\"\n",
    "    if pm25 <= 30:\n",
    "        return 1\n",
    "    elif pm25 <= 60:\n",
    "        return 2\n",
    "    elif pm25 <= 90:\n",
    "        return 3\n",
    "    elif pm25 <= 120:\n",
    "        return 4\n",
    "    elif pm25 <= 250:\n",
    "        return 5\n",
    "    else:\n",
    "        return 6\n",
    "\n",
    "def encode_pm10(pm10):\n",
    "    \"\"\"\n",
    "    Encodes PM10 value into a numeric score:\n",
    "      1: Good (0–50 µg/m³)\n",
    "      2: Satisfactory (51–100 µg/m³)\n",
    "      3: Moderately Polluted (101–250 µg/m³)\n",
    "      4: Poor (251–350 µg/m³)\n",
    "      5: Very Poor (351–430 µg/m³)\n",
    "      6: Severe (431 µg/m³ and above)\n",
    "    \"\"\"\n",
    "    if pm10 <= 50:\n",
    "        return 1\n",
    "    elif pm10 <= 100:\n",
    "        return 2\n",
    "    elif pm10 <= 250:\n",
    "        return 3\n",
    "    elif pm10 <= 350:\n",
    "        return 4\n",
    "    elif pm10 <= 430:\n",
    "        return 5\n",
    "    else:\n",
    "        return 6\n",
    "\n",
    "def combined_air_quality_label(pm25, pm10):\n",
    "    \"\"\"\n",
    "    Combines PM2.5 and PM10 numeric scores by taking the floor of the average.\n",
    "    For example, if one pollutant is 'Severe' (6) and the other 'Moderate' (3),\n",
    "    the average (4.5) is floored to 4, which we interpret as 'Poor'.\n",
    "    \"\"\"\n",
    "    score_pm25 = encode_pm25(pm25)\n",
    "    score_pm10 = encode_pm10(pm10)\n",
    "    combined_score = (score_pm25 + score_pm10) // 2\n",
    "    return combined_score\n",
    "\n",
    "\n",
    "combined_labels = {\n",
    "    1: \"Good\",\n",
    "    2: \"Satisfactory\",\n",
    "    3: \"Moderate\",\n",
    "    4: \"Poor\",\n",
    "    5: \"Very Poor\",\n",
    "    6: \"Severe\"\n",
    "}\n",
    "\n",
    "def process_air_quality_data(df):\n",
    "    \"\"\"\n",
    "    Processes a DataFrame containing 'pm25' and 'pm10' columns:\n",
    "      - Encodes each pollutant into its numeric score.\n",
    "      - Creates a combined score.\n",
    "      - Retains only numeric columns.\n",
    "    \"\"\"\n",
    "    df['pm25_numeric'] = df['pm25'].apply(encode_pm25)\n",
    "    df['pm10_numeric'] = df['pm10'].apply(encode_pm10)\n",
    "    df['combined_numeric'] = df.apply(\n",
    "        lambda row: combined_air_quality_label(row['pm25'], row['pm10']),\n",
    "        axis=1\n",
    "    )\n",
    "    df['combined_label'] = df['combined_numeric'].map(combined_labels)\n",
    "    \n",
    "    # Keep only numeric columns (if desired)\n",
    "    df_numeric = df.select_dtypes(include=[np.number])\n",
    "    return df_numeric\n",
    "\n",
    "\n",
    "\n",
    "def check_misclassification(row, pollutant):\n",
    "    \"\"\"\n",
    "    Identifies if the anomaly detection for a row is a misclassification.\n",
    "    \n",
    "    Logic:\n",
    "      - Computes the combined numeric air quality label using both 'pm2.5cnc' and 'pm10cnc' columns.\n",
    "      - If an anomaly is flagged (column value 1) but the combined label is in a milder category (1, 2, or 3),\n",
    "        it is a misclassification.\n",
    "      - If no anomaly is flagged (0) but the combined label is in a worse category (4, 5, or 6),\n",
    "        it is a misclassification.\n",
    "    \n",
    "    Returns:\n",
    "      - True if misclassification, False otherwise.\n",
    "    \"\"\"\n",
    "    # Compute combined numeric label from the pollutant values (assumes both columns are available)\n",
    "    combined = combined_air_quality_label(row[\"pm2.5cnc\"], row[\"pm10cnc\"])\n",
    "    \n",
    "    # Determine the anomaly flag column (e.g., \"Anomaly_pm25cnc_features\" for \"pm2.5cnc\")\n",
    "    anomaly_col = f\"Anomaly_{pollutant.replace('.', '')}\"\n",
    "    anomaly_flag = row[anomaly_col]\n",
    "    \n",
    "    if anomaly_flag == 1 and combined in [1, 2, 3]:\n",
    "        return True\n",
    "    # elif anomaly_flag == 0 and combined in [4, 5, 6]:\n",
    "    #     return True\n",
    "    else:\n",
    "        return False"
   ]
  },
  {
   "cell_type": "code",
   "execution_count": 5,
   "id": "9fa88bc6-63e7-4acb-aeb7-ee848026ade8",
   "metadata": {},
   "outputs": [],
   "source": [
    "def run_isoforest(train_data):\n",
    "    \"\"\"\n",
    "    Trains an Isolation Forest on the given training data.\n",
    "    Converts detected anomalies (-1) to normal (1) only if they fall within safe AQI ranges:\n",
    "      - For 'pm2.5cnc': safe range is 0 to 90.\n",
    "      - For 'pm10cnc': safe range is 0 to 350.\n",
    "    Returns: (model, scores, labels)\n",
    "    \"\"\"\n",
    "    # Train the model\n",
    "    model = IsolationForest(n_estimators=100, contamination=0.05, random_state=42)\n",
    "    model.fit(train_data)\n",
    "    \n",
    "    # Get outputs from Isolation Forest\n",
    "    scores = model.decision_function(train_data)  # Higher => more normal\n",
    "    labels = model.predict(train_data)              # 1 => normal, -1 => anomaly\n",
    "\n",
    "    # safe_range_mask = None\n",
    "    # if 'pm2.5cnc' in train_data.columns and 'pm10cnc' in train_data.columns:\n",
    "    #     mask_pm25 = (train_data[\"pm2.5cnc\"] >= 0) & (train_data[\"pm2.5cnc\"] <= 90)\n",
    "    #     mask_pm10 = (train_data[\"pm10cnc\"] >= 0) & (train_data[\"pm10cnc\"] <= 350)\n",
    "    #     safe_range_mask = mask_pm25 & mask_pm10\n",
    "    # elif 'pm2.5cnc' in train_data.columns:\n",
    "    #     safe_range_mask = (train_data[\"pm2.5cnc\"] >= 0) & (train_data[\"pm2.5cnc\"] <= 90)\n",
    "    # elif 'pm10cnc' in train_data.columns:\n",
    "    #     safe_range_mask = (train_data[\"pm10cnc\"] >= 0) & (train_data[\"pm10cnc\"] <= 350)\n",
    "    \n",
    "    # # For rows flagged as anomaly (-1) but within the safe range, force them to normal (1)\n",
    "    # if safe_range_mask is not None:\n",
    "    #     labels = np.where((labels == -1) & safe_range_mask, 1, labels)\n",
    "    \n",
    "    return model, scores, labels\n",
    "\n",
    "\n",
    "# def run_svm(train_data):\n",
    "#     \"\"\"\n",
    "#     Trains a One-Class SVM on the given training data.\n",
    "#     Converts detected anomalies (-1) to normal (1) only if they fall within safe AQI ranges:\n",
    "#       - For 'pm2.5cnc': safe range is 0 to 90.\n",
    "#       - For 'pm10cnc': safe range is 0 to 350.\n",
    "#     Returns: (model, scores, labels)\n",
    "#     \"\"\"\n",
    "#     # Train the model\n",
    "#     model = OneClassSVM(nu=0.05, kernel=\"rbf\", gamma=\"scale\")\n",
    "#     model.fit(train_data)\n",
    "    \n",
    "#     # Get outputs from One-Class SVM\n",
    "#     scores = model.decision_function(train_data)  # Higher => more normal\n",
    "#     labels = model.predict(train_data)              # 1 => normal, -1 => anomaly\n",
    "\n",
    "#     # Define safe range mask based on available pollutant columns\n",
    "#     safe_range_mask = None\n",
    "#     if 'pm2.5cnc' in train_data.columns and 'pm10cnc' in train_data.columns:\n",
    "#         mask_pm25 = (train_data[\"pm2.5cnc\"] >= 0) & (train_data[\"pm2.5cnc\"] <= 250)\n",
    "#         mask_pm10 = (train_data[\"pm10cnc\"] >= 0) & (train_data[\"pm10cnc\"] <= 350)\n",
    "#         safe_range_mask = mask_pm25 & mask_pm10\n",
    "#     elif 'pm2.5cnc' in train_data.columns:\n",
    "#         safe_range_mask = (train_data[\"pm2.5cnc\"] >= 0) & (train_data[\"pm2.5cnc\"] <= 250)\n",
    "#     elif 'pm10cnc' in train_data.columns:\n",
    "#         safe_range_mask = (train_data[\"pm10cnc\"] >= 0) & (train_data[\"pm10cnc\"] <= 350)\n",
    "    \n",
    "#     # For rows flagged as anomaly (-1) but within the safe range, force them to normal (1)\n",
    "#     if safe_range_mask is not None:\n",
    "#         labels = np.where((labels == -1) & safe_range_mask, 1, labels)\n",
    "    \n",
    "#     return model, scores, labels\n",
    "\n",
    "def split_data_random(df):\n",
    "    \"\"\"\n",
    "    Splits the dataset into train (70%), test (20%), and validation (10%).\n",
    "\n",
    "    Parameters:\n",
    "    df (DataFrame): The dataset to split.\n",
    "\n",
    "    Returns:\n",
    "    train (DataFrame): 70% of data for training.\n",
    "    test (DataFrame): 20% of data for testing.\n",
    "    validation (DataFrame): 10% of data for final validation.\n",
    "    \"\"\"\n",
    "    train, temp = train_test_split(df, test_size=0.3, random_state=42)  # 70% train, 30% temp\n",
    "    test, validation = train_test_split(temp, test_size=1/3, random_state=42)  # 20% test, 10% validation\n",
    "    return train, test, validation\n",
    "\n",
    "def split_data(df):\n",
    "    \"\"\"\n",
    "    Splits the dataset into train (70%), test (20%), and validation (10%) \n",
    "    in a historical order (earliest to latest).\n",
    "    \n",
    "    Parameters:\n",
    "    df (DataFrame): The dataset to split. Assumes it is sorted by timestamp.\n",
    "    \n",
    "    Returns:\n",
    "    train (DataFrame): First 70% of data for training.\n",
    "    test (DataFrame): Next 20% of data for testing.\n",
    "    validation (DataFrame): Final 10% of data for validation.\n",
    "    \"\"\"\n",
    "    # Ensure data is sorted by timestamp (assuming a 'timestamp' column exists)\n",
    "    df = df.sort_values(by='dt_time')\n",
    "\n",
    "    # Compute split indices\n",
    "    n = len(df)\n",
    "    train_end = int(n * 0.7)\n",
    "    test_end = int(n * 0.9)  # 70% train + 20% test = 90%, remaining 10% is validation\n",
    "\n",
    "    # Split sequentially\n",
    "    train = df.iloc[:train_end]\n",
    "    test = df.iloc[train_end:test_end]\n",
    "    validation = df.iloc[test_end:]\n",
    "\n",
    "    return train, test, validation"
   ]
  },
  {
   "cell_type": "code",
   "execution_count": 6,
   "id": "738a72e5-41eb-423b-932a-020008f6d8a3",
   "metadata": {},
   "outputs": [],
   "source": [
    "import matplotlib.pyplot as plt\n",
    "\n",
    "def plot_zoomed_anomalies(df, start_date, end_date, pollutant):\n",
    "    anomaly_col = \"Anomaly\"  # Fixed syntax error\n",
    "\n",
    "    if anomaly_col not in df.columns:\n",
    "        raise KeyError(f\"No anomaly column found. Available columns: {df.columns}\")\n",
    "    \n",
    "    # Filter DataFrame for the specified date range\n",
    "    df_filtered = df.loc[start_date:end_date]\n",
    "    \n",
    "    plt.figure(figsize=(12, 6))\n",
    "    plt.plot(df_filtered.index, df_filtered[pollutant], label=pollutant, color='blue')\n",
    "    \n",
    "    # Highlight anomalies using the found anomaly column\n",
    "    anomalies = df_filtered[df_filtered[anomaly_col] == 1]\n",
    "    plt.scatter(anomalies.index, anomalies[pollutant], color='red', label=\"Anomaly\", marker='o')\n",
    "    \n",
    "    plt.xlabel(\"Date\")\n",
    "    plt.ylabel(\"Value\")\n",
    "    plt.title(f\"Zoomed Anomalies for {pollutant}\")\n",
    "    plt.legend()\n",
    "    plt.grid()\n",
    "    plt.show()\n"
   ]
  },
  {
   "cell_type": "code",
   "execution_count": 7,
   "id": "21a1db3d-fcde-4453-8260-3d09e112610d",
   "metadata": {},
   "outputs": [],
   "source": [
    "import pandas as pd\n",
    "import numpy as np\n",
    "import matplotlib.pyplot as plt\n",
    "\n",
    "def process_and_plot_anomalies(df, pollutant):\n",
    "    \"\"\"\n",
    "    Anomaly detection pipeline for PM2.5 or PM10 using Isolation Forest.\n",
    "    \n",
    "    Parameters:\n",
    "      - df: DataFrame containing the air quality data.\n",
    "      - pollutant: Either \"pm2_5cnc\" or \"pm10cnc\".\n",
    "      \n",
    "    Returns:\n",
    "      - Updated DataFrame with anomaly labels.\n",
    "    \"\"\"\n",
    "\n",
    "    # Validate pollutant\n",
    "    if pollutant not in [\"pm2_5cnc\", \"pm10cnc\"]:\n",
    "        raise ValueError(\"Invalid pollutant. Choose 'pm2_5cnc' or 'pm10cnc'.\")\n",
    "\n",
    "    # Define anomaly column name (e.g., \"Anomaly_pm10cnc\")\n",
    "    anomaly_col = f\"Anomaly_{pollutant.replace('.', '')}\"\n",
    "\n",
    "    # 🛠️ Data Cleaning & Preparation\n",
    "    df_clean = clean_and_prepare(df)\n",
    "    df_clean = df_clean.infer_objects(copy=False)  # Fix FutureWarning\n",
    "\n",
    "    # Ensure datetime index (reset MultiIndex if needed)\n",
    "    if isinstance(df_clean.index, pd.MultiIndex):\n",
    "        df_for_split = df_clean.reset_index(level=1, drop=True)\n",
    "    else:\n",
    "        df_for_split = df_clean.copy()\n",
    "\n",
    "    # 🏆 Split data (Train 70%, Test 20%, Validation 10%)\n",
    "    train, test, validation = split_data_random(df_for_split)\n",
    "\n",
    "    # Select the pollutant column\n",
    "    train_data = train[[pollutant]]\n",
    "    test_data = test[[pollutant]]\n",
    "    val_data = validation[[pollutant]]\n",
    "\n",
    "    # 🎯 Run Isolation Forest Model\n",
    "    model, train_scores, train_labels = run_isoforest(train_data)\n",
    "    _, test_scores, test_labels = run_isoforest(test_data)\n",
    "    _, val_scores, val_labels = run_isoforest(val_data)\n",
    "\n",
    "    # Convert anomaly labels: Isolation Forest returns -1 for anomalies.\n",
    "    train[\"Anomaly\"] = (train_labels == -1).astype(int)\n",
    "    test[\"Anomaly\"] = (test_labels == -1).astype(int)\n",
    "    validation[\"Anomaly\"] = (val_labels == -1).astype(int)\n",
    "\n",
    "    # Reset index so dt_time becomes a column (if it isn't already)\n",
    "    train.reset_index(inplace=True)\n",
    "    test.reset_index(inplace=True)\n",
    "    validation.reset_index(inplace=True)\n",
    "    df_clean.reset_index(inplace=True)\n",
    "\n",
    "    # Combine anomaly data from train, test, and validation into a single DataFrame.\n",
    "    anomalies_combined = pd.concat([\n",
    "        train[[\"dt_time\", \"Anomaly\"]],\n",
    "        test[[\"dt_time\", \"Anomaly\"]],\n",
    "        validation[[\"dt_time\", \"Anomaly\"]]\n",
    "    ])\n",
    "\n",
    "    # If a timestamp appears in more than one set, mark it as an anomaly if any of them is 1.\n",
    "    anomalies_combined = anomalies_combined.groupby(\"dt_time\").max().reset_index()\n",
    "\n",
    "    # Merge the combined anomaly information back into df_clean.\n",
    "    df_merged = pd.merge(df_clean, anomalies_combined, on=\"dt_time\", how=\"left\")\n",
    "    df_merged[\"Anomaly\"] = df_merged[\"Anomaly\"].fillna(0).astype(int)\n",
    "\n",
    "    # Rename the generic \"Anomaly\" column to the desired anomaly_col.\n",
    "    df_merged.rename(columns={\"Anomaly\": anomaly_col}, inplace=True)\n",
    "\n",
    "    # Optionally, set the dt_time column back as index.\n",
    "    df_merged.set_index(\"dt_time\", inplace=True)\n",
    "\n",
    "    # # 📈 Plot anomalies\n",
    "    # plt.figure(figsize=(12, 5))\n",
    "    # plt.scatter(train[\"dt_time\"], train[pollutant], c=train[\"Anomaly\"], cmap=\"coolwarm\", label=\"Train\", s=15)\n",
    "    # plt.title(f\"{pollutant.upper()} Concentration Anomalies (Isolation Forest)\")\n",
    "    # plt.xlabel(\"Time\")\n",
    "    # plt.ylabel(f\"{pollutant} Concentration\")\n",
    "    # plt.legend()\n",
    "    # plt.show()\n",
    "\n",
    "    print(f\"Train anomalies ({pollutant}): {train['Anomaly'].sum()}\")\n",
    "    print(f\"Test anomalies ({pollutant}): {test['Anomaly'].sum()}\")\n",
    "    print(f\"Validation anomalies ({pollutant}): {validation['Anomaly'].sum()}\")\n",
    "\n",
    "    return df_merged\n"
   ]
  },
  {
   "cell_type": "code",
   "execution_count": 8,
   "id": "04ebf63c-9b54-40a5-9ff4-f962874ac094",
   "metadata": {},
   "outputs": [],
   "source": [
    "# df10 = process_and_plot_anomalies(df,\"pm2_5cnc\")"
   ]
  },
  {
   "cell_type": "code",
   "execution_count": 9,
   "id": "63983b5d-7341-4ac5-9239-761ffd23bfd3",
   "metadata": {},
   "outputs": [],
   "source": [
    "# import os\n",
    "# import pandas as pd\n",
    "# import json\n",
    "\n",
    "# # Ensure required folders exist\n",
    "# CSV_FOLDER = \"csvs/\"\n",
    "# JSON_FOLDER = \"jsons/\"\n",
    "# os.makedirs(JSON_FOLDER, exist_ok=True)\n",
    "\n",
    "# # Dictionary to store all site data\n",
    "# all_sites_data = {}\n",
    "\n",
    "# # Loop through all CSV files in \"csvs/\" folder\n",
    "# for filename in os.listdir(CSV_FOLDER):\n",
    "#     if filename.endswith(\".csv\"):\n",
    "#         file_path = os.path.join(CSV_FOLDER, filename)\n",
    "\n",
    "#         # Load CSV\n",
    "#         df = pd.read_csv(file_path)\n",
    "\n",
    "#         # Ensure 'site_id' column exists\n",
    "#         if \"deviceid\" not in df.columns:\n",
    "#             print(f\"⚠️ Skipping {filename}: No 'site_id' column found!\")\n",
    "#             continue\n",
    "\n",
    "#         # Get unique site IDs in this file\n",
    "#         site_ids = df[\"deviceid\"].unique()\n",
    "\n",
    "#         for site_id in site_ids:\n",
    "#             site_df = df[df[\"deviceid\"] == site_id]  # Filter data per site\n",
    "            \n",
    "#             # Run anomaly detection for both pollutants\n",
    "#             df10_iforest = process_and_plot_anomalies(site_df, pollutant=\"pm10cnc\")\n",
    "#             df25_iforest = process_and_plot_anomalies(site_df, pollutant=\"pm2_5cnc\")\n",
    "\n",
    "#             # Extract required columns\n",
    "#             df10_iforest = df10_iforest[['dt_time', 'pm10cnc', 'Anomaly_pm10cnc']]\n",
    "#             df25_iforest = df25_iforest[['dt_time', 'pm2_5cnc', 'Anomaly_pm25cnc']]\n",
    "\n",
    "#             # Convert dt_time to string for JSON\n",
    "#             df10_iforest[\"dt_time\"] = df10_iforest[\"dt_time\"].astype(str)\n",
    "#             df25_iforest[\"dt_time\"] = df25_iforest[\"dt_time\"].astype(str)\n",
    "\n",
    "#             # Merge both DataFrames on \"dt_time\"\n",
    "#             merged_df = pd.merge(df10_iforest, df25_iforest, on=\"dt_time\", how=\"inner\")\n",
    "\n",
    "#             # Store data in dictionary format\n",
    "#             site_data = {str(site_id): merged_df.to_dict(orient=\"records\")}\n",
    "#             all_sites_data[str(site_id)] = merged_df.to_dict(orient=\"records\")\n",
    "\n",
    "#             # Save as separate JSON file for this site\n",
    "#             json_filename = os.path.join(JSON_FOLDER, f\"{site_id}.json\")\n",
    "#             with open(json_filename, \"w\") as f:\n",
    "#                 json.dump(site_data, f, indent=4)\n",
    "\n",
    "#             print(f\"✅ Saved: {json_filename}\")\n",
    "\n",
    "# # Save master JSON file mapping all site IDs to their data\n",
    "# master_json_path = os.path.join(JSON_FOLDER, \"all_sites.json\")\n",
    "# with open(master_json_path, \"w\") as f:\n",
    "#     json.dump(all_sites_data, f, indent=4)\n",
    "\n",
    "# print(f\"🚀 Master JSON saved: {master_json_path}\")\n"
   ]
  },
  {
   "cell_type": "code",
   "execution_count": 10,
   "id": "771375f9-a353-40f2-b3b6-d1f6d6b1431e",
   "metadata": {},
   "outputs": [
    {
     "name": "stdout",
     "output_type": "stream",
     "text": [
      "Processing site_104_data.csv (Site ID: 104)...\n"
     ]
    },
    {
     "name": "stderr",
     "output_type": "stream",
     "text": [
      "C:\\Users\\21til\\AppData\\Local\\Temp\\ipykernel_21288\\2886358829.py:37: SettingWithCopyWarning: \n",
      "A value is trying to be set on a copy of a slice from a DataFrame\n",
      "\n",
      "See the caveats in the documentation: https://pandas.pydata.org/pandas-docs/stable/user_guide/indexing.html#returning-a-view-versus-a-copy\n",
      "  df.interpolate(method=\"time\", inplace=True)\n",
      "C:\\Users\\21til\\AppData\\Local\\Temp\\ipykernel_21288\\2886358829.py:59: FutureWarning: DataFrame.fillna with 'method' is deprecated and will raise in a future version. Use obj.ffill() or obj.bfill() instead.\n",
      "  df.fillna(method=\"ffill\", inplace=True)\n",
      "C:\\Users\\21til\\AppData\\Local\\Temp\\ipykernel_21288\\2886358829.py:60: FutureWarning: DataFrame.fillna with 'method' is deprecated and will raise in a future version. Use obj.ffill() or obj.bfill() instead.\n",
      "  df.fillna(method=\"bfill\", inplace=True)\n"
     ]
    },
    {
     "name": "stdout",
     "output_type": "stream",
     "text": [
      "Train anomalies (pm10cnc): 2074\n",
      "Test anomalies (pm10cnc): 590\n",
      "Validation anomalies (pm10cnc): 294\n"
     ]
    },
    {
     "name": "stderr",
     "output_type": "stream",
     "text": [
      "C:\\Users\\21til\\AppData\\Local\\Temp\\ipykernel_21288\\2886358829.py:37: SettingWithCopyWarning: \n",
      "A value is trying to be set on a copy of a slice from a DataFrame\n",
      "\n",
      "See the caveats in the documentation: https://pandas.pydata.org/pandas-docs/stable/user_guide/indexing.html#returning-a-view-versus-a-copy\n",
      "  df.interpolate(method=\"time\", inplace=True)\n",
      "C:\\Users\\21til\\AppData\\Local\\Temp\\ipykernel_21288\\2886358829.py:59: FutureWarning: DataFrame.fillna with 'method' is deprecated and will raise in a future version. Use obj.ffill() or obj.bfill() instead.\n",
      "  df.fillna(method=\"ffill\", inplace=True)\n",
      "C:\\Users\\21til\\AppData\\Local\\Temp\\ipykernel_21288\\2886358829.py:60: FutureWarning: DataFrame.fillna with 'method' is deprecated and will raise in a future version. Use obj.ffill() or obj.bfill() instead.\n",
      "  df.fillna(method=\"bfill\", inplace=True)\n"
     ]
    },
    {
     "name": "stdout",
     "output_type": "stream",
     "text": [
      "Train anomalies (pm2_5cnc): 2072\n",
      "Test anomalies (pm2_5cnc): 592\n",
      "Validation anomalies (pm2_5cnc): 296\n",
      "✅ JSON saved: jsons/104.json\n",
      "Processing site_106_data.csv (Site ID: 106)...\n"
     ]
    },
    {
     "name": "stderr",
     "output_type": "stream",
     "text": [
      "C:\\Users\\21til\\AppData\\Local\\Temp\\ipykernel_21288\\2886358829.py:37: SettingWithCopyWarning: \n",
      "A value is trying to be set on a copy of a slice from a DataFrame\n",
      "\n",
      "See the caveats in the documentation: https://pandas.pydata.org/pandas-docs/stable/user_guide/indexing.html#returning-a-view-versus-a-copy\n",
      "  df.interpolate(method=\"time\", inplace=True)\n",
      "C:\\Users\\21til\\AppData\\Local\\Temp\\ipykernel_21288\\2886358829.py:59: FutureWarning: DataFrame.fillna with 'method' is deprecated and will raise in a future version. Use obj.ffill() or obj.bfill() instead.\n",
      "  df.fillna(method=\"ffill\", inplace=True)\n",
      "C:\\Users\\21til\\AppData\\Local\\Temp\\ipykernel_21288\\2886358829.py:60: FutureWarning: DataFrame.fillna with 'method' is deprecated and will raise in a future version. Use obj.ffill() or obj.bfill() instead.\n",
      "  df.fillna(method=\"bfill\", inplace=True)\n"
     ]
    },
    {
     "name": "stdout",
     "output_type": "stream",
     "text": [
      "Train anomalies (pm10cnc): 2074\n",
      "Test anomalies (pm10cnc): 593\n",
      "Validation anomalies (pm10cnc): 297\n"
     ]
    },
    {
     "name": "stderr",
     "output_type": "stream",
     "text": [
      "C:\\Users\\21til\\AppData\\Local\\Temp\\ipykernel_21288\\2886358829.py:37: SettingWithCopyWarning: \n",
      "A value is trying to be set on a copy of a slice from a DataFrame\n",
      "\n",
      "See the caveats in the documentation: https://pandas.pydata.org/pandas-docs/stable/user_guide/indexing.html#returning-a-view-versus-a-copy\n",
      "  df.interpolate(method=\"time\", inplace=True)\n",
      "C:\\Users\\21til\\AppData\\Local\\Temp\\ipykernel_21288\\2886358829.py:59: FutureWarning: DataFrame.fillna with 'method' is deprecated and will raise in a future version. Use obj.ffill() or obj.bfill() instead.\n",
      "  df.fillna(method=\"ffill\", inplace=True)\n",
      "C:\\Users\\21til\\AppData\\Local\\Temp\\ipykernel_21288\\2886358829.py:60: FutureWarning: DataFrame.fillna with 'method' is deprecated and will raise in a future version. Use obj.ffill() or obj.bfill() instead.\n",
      "  df.fillna(method=\"bfill\", inplace=True)\n"
     ]
    },
    {
     "name": "stdout",
     "output_type": "stream",
     "text": [
      "Train anomalies (pm2_5cnc): 2074\n",
      "Test anomalies (pm2_5cnc): 592\n",
      "Validation anomalies (pm2_5cnc): 297\n",
      "✅ JSON saved: jsons/106.json\n",
      "Processing site_113_data.csv (Site ID: 113)...\n"
     ]
    },
    {
     "name": "stderr",
     "output_type": "stream",
     "text": [
      "C:\\Users\\21til\\AppData\\Local\\Temp\\ipykernel_21288\\2886358829.py:37: SettingWithCopyWarning: \n",
      "A value is trying to be set on a copy of a slice from a DataFrame\n",
      "\n",
      "See the caveats in the documentation: https://pandas.pydata.org/pandas-docs/stable/user_guide/indexing.html#returning-a-view-versus-a-copy\n",
      "  df.interpolate(method=\"time\", inplace=True)\n",
      "C:\\Users\\21til\\AppData\\Local\\Temp\\ipykernel_21288\\2886358829.py:59: FutureWarning: DataFrame.fillna with 'method' is deprecated and will raise in a future version. Use obj.ffill() or obj.bfill() instead.\n",
      "  df.fillna(method=\"ffill\", inplace=True)\n",
      "C:\\Users\\21til\\AppData\\Local\\Temp\\ipykernel_21288\\2886358829.py:60: FutureWarning: DataFrame.fillna with 'method' is deprecated and will raise in a future version. Use obj.ffill() or obj.bfill() instead.\n",
      "  df.fillna(method=\"bfill\", inplace=True)\n"
     ]
    },
    {
     "name": "stdout",
     "output_type": "stream",
     "text": [
      "Train anomalies (pm10cnc): 2074\n",
      "Test anomalies (pm10cnc): 592\n",
      "Validation anomalies (pm10cnc): 297\n"
     ]
    },
    {
     "name": "stderr",
     "output_type": "stream",
     "text": [
      "C:\\Users\\21til\\AppData\\Local\\Temp\\ipykernel_21288\\2886358829.py:37: SettingWithCopyWarning: \n",
      "A value is trying to be set on a copy of a slice from a DataFrame\n",
      "\n",
      "See the caveats in the documentation: https://pandas.pydata.org/pandas-docs/stable/user_guide/indexing.html#returning-a-view-versus-a-copy\n",
      "  df.interpolate(method=\"time\", inplace=True)\n",
      "C:\\Users\\21til\\AppData\\Local\\Temp\\ipykernel_21288\\2886358829.py:59: FutureWarning: DataFrame.fillna with 'method' is deprecated and will raise in a future version. Use obj.ffill() or obj.bfill() instead.\n",
      "  df.fillna(method=\"ffill\", inplace=True)\n",
      "C:\\Users\\21til\\AppData\\Local\\Temp\\ipykernel_21288\\2886358829.py:60: FutureWarning: DataFrame.fillna with 'method' is deprecated and will raise in a future version. Use obj.ffill() or obj.bfill() instead.\n",
      "  df.fillna(method=\"bfill\", inplace=True)\n"
     ]
    },
    {
     "name": "stdout",
     "output_type": "stream",
     "text": [
      "Train anomalies (pm2_5cnc): 2072\n",
      "Test anomalies (pm2_5cnc): 593\n",
      "Validation anomalies (pm2_5cnc): 297\n",
      "✅ JSON saved: jsons/113.json\n",
      "Processing site_114_data.csv (Site ID: 114)...\n"
     ]
    },
    {
     "name": "stderr",
     "output_type": "stream",
     "text": [
      "C:\\Users\\21til\\AppData\\Local\\Temp\\ipykernel_21288\\2886358829.py:37: SettingWithCopyWarning: \n",
      "A value is trying to be set on a copy of a slice from a DataFrame\n",
      "\n",
      "See the caveats in the documentation: https://pandas.pydata.org/pandas-docs/stable/user_guide/indexing.html#returning-a-view-versus-a-copy\n",
      "  df.interpolate(method=\"time\", inplace=True)\n",
      "C:\\Users\\21til\\AppData\\Local\\Temp\\ipykernel_21288\\2886358829.py:59: FutureWarning: DataFrame.fillna with 'method' is deprecated and will raise in a future version. Use obj.ffill() or obj.bfill() instead.\n",
      "  df.fillna(method=\"ffill\", inplace=True)\n",
      "C:\\Users\\21til\\AppData\\Local\\Temp\\ipykernel_21288\\2886358829.py:60: FutureWarning: DataFrame.fillna with 'method' is deprecated and will raise in a future version. Use obj.ffill() or obj.bfill() instead.\n",
      "  df.fillna(method=\"bfill\", inplace=True)\n"
     ]
    },
    {
     "name": "stdout",
     "output_type": "stream",
     "text": [
      "Train anomalies (pm10cnc): 2073\n",
      "Test anomalies (pm10cnc): 590\n",
      "Validation anomalies (pm10cnc): 297\n"
     ]
    },
    {
     "name": "stderr",
     "output_type": "stream",
     "text": [
      "C:\\Users\\21til\\AppData\\Local\\Temp\\ipykernel_21288\\2886358829.py:37: SettingWithCopyWarning: \n",
      "A value is trying to be set on a copy of a slice from a DataFrame\n",
      "\n",
      "See the caveats in the documentation: https://pandas.pydata.org/pandas-docs/stable/user_guide/indexing.html#returning-a-view-versus-a-copy\n",
      "  df.interpolate(method=\"time\", inplace=True)\n",
      "C:\\Users\\21til\\AppData\\Local\\Temp\\ipykernel_21288\\2886358829.py:59: FutureWarning: DataFrame.fillna with 'method' is deprecated and will raise in a future version. Use obj.ffill() or obj.bfill() instead.\n",
      "  df.fillna(method=\"ffill\", inplace=True)\n",
      "C:\\Users\\21til\\AppData\\Local\\Temp\\ipykernel_21288\\2886358829.py:60: FutureWarning: DataFrame.fillna with 'method' is deprecated and will raise in a future version. Use obj.ffill() or obj.bfill() instead.\n",
      "  df.fillna(method=\"bfill\", inplace=True)\n"
     ]
    },
    {
     "name": "stdout",
     "output_type": "stream",
     "text": [
      "Train anomalies (pm2_5cnc): 2069\n",
      "Test anomalies (pm2_5cnc): 591\n",
      "Validation anomalies (pm2_5cnc): 294\n",
      "✅ JSON saved: jsons/114.json\n",
      "Processing site_115_data.csv (Site ID: 115)...\n"
     ]
    },
    {
     "name": "stderr",
     "output_type": "stream",
     "text": [
      "C:\\Users\\21til\\AppData\\Local\\Temp\\ipykernel_21288\\2886358829.py:37: SettingWithCopyWarning: \n",
      "A value is trying to be set on a copy of a slice from a DataFrame\n",
      "\n",
      "See the caveats in the documentation: https://pandas.pydata.org/pandas-docs/stable/user_guide/indexing.html#returning-a-view-versus-a-copy\n",
      "  df.interpolate(method=\"time\", inplace=True)\n",
      "C:\\Users\\21til\\AppData\\Local\\Temp\\ipykernel_21288\\2886358829.py:59: FutureWarning: DataFrame.fillna with 'method' is deprecated and will raise in a future version. Use obj.ffill() or obj.bfill() instead.\n",
      "  df.fillna(method=\"ffill\", inplace=True)\n",
      "C:\\Users\\21til\\AppData\\Local\\Temp\\ipykernel_21288\\2886358829.py:60: FutureWarning: DataFrame.fillna with 'method' is deprecated and will raise in a future version. Use obj.ffill() or obj.bfill() instead.\n",
      "  df.fillna(method=\"bfill\", inplace=True)\n"
     ]
    },
    {
     "name": "stdout",
     "output_type": "stream",
     "text": [
      "Train anomalies (pm10cnc): 2074\n",
      "Test anomalies (pm10cnc): 588\n",
      "Validation anomalies (pm10cnc): 297\n"
     ]
    },
    {
     "name": "stderr",
     "output_type": "stream",
     "text": [
      "C:\\Users\\21til\\AppData\\Local\\Temp\\ipykernel_21288\\2886358829.py:37: SettingWithCopyWarning: \n",
      "A value is trying to be set on a copy of a slice from a DataFrame\n",
      "\n",
      "See the caveats in the documentation: https://pandas.pydata.org/pandas-docs/stable/user_guide/indexing.html#returning-a-view-versus-a-copy\n",
      "  df.interpolate(method=\"time\", inplace=True)\n",
      "C:\\Users\\21til\\AppData\\Local\\Temp\\ipykernel_21288\\2886358829.py:59: FutureWarning: DataFrame.fillna with 'method' is deprecated and will raise in a future version. Use obj.ffill() or obj.bfill() instead.\n",
      "  df.fillna(method=\"ffill\", inplace=True)\n",
      "C:\\Users\\21til\\AppData\\Local\\Temp\\ipykernel_21288\\2886358829.py:60: FutureWarning: DataFrame.fillna with 'method' is deprecated and will raise in a future version. Use obj.ffill() or obj.bfill() instead.\n",
      "  df.fillna(method=\"bfill\", inplace=True)\n"
     ]
    },
    {
     "name": "stdout",
     "output_type": "stream",
     "text": [
      "Train anomalies (pm2_5cnc): 2062\n",
      "Test anomalies (pm2_5cnc): 592\n",
      "Validation anomalies (pm2_5cnc): 296\n",
      "✅ JSON saved: jsons/115.json\n",
      "Processing site_117_data.csv (Site ID: 117)...\n"
     ]
    },
    {
     "name": "stderr",
     "output_type": "stream",
     "text": [
      "C:\\Users\\21til\\AppData\\Local\\Temp\\ipykernel_21288\\2886358829.py:37: SettingWithCopyWarning: \n",
      "A value is trying to be set on a copy of a slice from a DataFrame\n",
      "\n",
      "See the caveats in the documentation: https://pandas.pydata.org/pandas-docs/stable/user_guide/indexing.html#returning-a-view-versus-a-copy\n",
      "  df.interpolate(method=\"time\", inplace=True)\n",
      "C:\\Users\\21til\\AppData\\Local\\Temp\\ipykernel_21288\\2886358829.py:59: FutureWarning: DataFrame.fillna with 'method' is deprecated and will raise in a future version. Use obj.ffill() or obj.bfill() instead.\n",
      "  df.fillna(method=\"ffill\", inplace=True)\n",
      "C:\\Users\\21til\\AppData\\Local\\Temp\\ipykernel_21288\\2886358829.py:60: FutureWarning: DataFrame.fillna with 'method' is deprecated and will raise in a future version. Use obj.ffill() or obj.bfill() instead.\n",
      "  df.fillna(method=\"bfill\", inplace=True)\n"
     ]
    },
    {
     "name": "stdout",
     "output_type": "stream",
     "text": [
      "Train anomalies (pm10cnc): 2067\n",
      "Test anomalies (pm10cnc): 593\n",
      "Validation anomalies (pm10cnc): 297\n"
     ]
    },
    {
     "name": "stderr",
     "output_type": "stream",
     "text": [
      "C:\\Users\\21til\\AppData\\Local\\Temp\\ipykernel_21288\\2886358829.py:37: SettingWithCopyWarning: \n",
      "A value is trying to be set on a copy of a slice from a DataFrame\n",
      "\n",
      "See the caveats in the documentation: https://pandas.pydata.org/pandas-docs/stable/user_guide/indexing.html#returning-a-view-versus-a-copy\n",
      "  df.interpolate(method=\"time\", inplace=True)\n",
      "C:\\Users\\21til\\AppData\\Local\\Temp\\ipykernel_21288\\2886358829.py:59: FutureWarning: DataFrame.fillna with 'method' is deprecated and will raise in a future version. Use obj.ffill() or obj.bfill() instead.\n",
      "  df.fillna(method=\"ffill\", inplace=True)\n",
      "C:\\Users\\21til\\AppData\\Local\\Temp\\ipykernel_21288\\2886358829.py:60: FutureWarning: DataFrame.fillna with 'method' is deprecated and will raise in a future version. Use obj.ffill() or obj.bfill() instead.\n",
      "  df.fillna(method=\"bfill\", inplace=True)\n"
     ]
    },
    {
     "name": "stdout",
     "output_type": "stream",
     "text": [
      "Train anomalies (pm2_5cnc): 2065\n",
      "Test anomalies (pm2_5cnc): 590\n",
      "Validation anomalies (pm2_5cnc): 296\n",
      "✅ JSON saved: jsons/117.json\n",
      "Processing site_118_data.csv (Site ID: 118)...\n"
     ]
    },
    {
     "name": "stderr",
     "output_type": "stream",
     "text": [
      "C:\\Users\\21til\\AppData\\Local\\Temp\\ipykernel_21288\\2886358829.py:37: SettingWithCopyWarning: \n",
      "A value is trying to be set on a copy of a slice from a DataFrame\n",
      "\n",
      "See the caveats in the documentation: https://pandas.pydata.org/pandas-docs/stable/user_guide/indexing.html#returning-a-view-versus-a-copy\n",
      "  df.interpolate(method=\"time\", inplace=True)\n",
      "C:\\Users\\21til\\AppData\\Local\\Temp\\ipykernel_21288\\2886358829.py:59: FutureWarning: DataFrame.fillna with 'method' is deprecated and will raise in a future version. Use obj.ffill() or obj.bfill() instead.\n",
      "  df.fillna(method=\"ffill\", inplace=True)\n",
      "C:\\Users\\21til\\AppData\\Local\\Temp\\ipykernel_21288\\2886358829.py:60: FutureWarning: DataFrame.fillna with 'method' is deprecated and will raise in a future version. Use obj.ffill() or obj.bfill() instead.\n",
      "  df.fillna(method=\"bfill\", inplace=True)\n"
     ]
    },
    {
     "name": "stdout",
     "output_type": "stream",
     "text": [
      "Train anomalies (pm10cnc): 2060\n",
      "Test anomalies (pm10cnc): 592\n",
      "Validation anomalies (pm10cnc): 297\n"
     ]
    },
    {
     "name": "stderr",
     "output_type": "stream",
     "text": [
      "C:\\Users\\21til\\AppData\\Local\\Temp\\ipykernel_21288\\2886358829.py:37: SettingWithCopyWarning: \n",
      "A value is trying to be set on a copy of a slice from a DataFrame\n",
      "\n",
      "See the caveats in the documentation: https://pandas.pydata.org/pandas-docs/stable/user_guide/indexing.html#returning-a-view-versus-a-copy\n",
      "  df.interpolate(method=\"time\", inplace=True)\n",
      "C:\\Users\\21til\\AppData\\Local\\Temp\\ipykernel_21288\\2886358829.py:59: FutureWarning: DataFrame.fillna with 'method' is deprecated and will raise in a future version. Use obj.ffill() or obj.bfill() instead.\n",
      "  df.fillna(method=\"ffill\", inplace=True)\n",
      "C:\\Users\\21til\\AppData\\Local\\Temp\\ipykernel_21288\\2886358829.py:60: FutureWarning: DataFrame.fillna with 'method' is deprecated and will raise in a future version. Use obj.ffill() or obj.bfill() instead.\n",
      "  df.fillna(method=\"bfill\", inplace=True)\n"
     ]
    },
    {
     "name": "stdout",
     "output_type": "stream",
     "text": [
      "Train anomalies (pm2_5cnc): 2064\n",
      "Test anomalies (pm2_5cnc): 593\n",
      "Validation anomalies (pm2_5cnc): 296\n",
      "✅ JSON saved: jsons/118.json\n",
      "Processing site_119_data.csv (Site ID: 119)...\n"
     ]
    },
    {
     "name": "stderr",
     "output_type": "stream",
     "text": [
      "C:\\Users\\21til\\AppData\\Local\\Temp\\ipykernel_21288\\2886358829.py:37: SettingWithCopyWarning: \n",
      "A value is trying to be set on a copy of a slice from a DataFrame\n",
      "\n",
      "See the caveats in the documentation: https://pandas.pydata.org/pandas-docs/stable/user_guide/indexing.html#returning-a-view-versus-a-copy\n",
      "  df.interpolate(method=\"time\", inplace=True)\n",
      "C:\\Users\\21til\\AppData\\Local\\Temp\\ipykernel_21288\\2886358829.py:59: FutureWarning: DataFrame.fillna with 'method' is deprecated and will raise in a future version. Use obj.ffill() or obj.bfill() instead.\n",
      "  df.fillna(method=\"ffill\", inplace=True)\n",
      "C:\\Users\\21til\\AppData\\Local\\Temp\\ipykernel_21288\\2886358829.py:60: FutureWarning: DataFrame.fillna with 'method' is deprecated and will raise in a future version. Use obj.ffill() or obj.bfill() instead.\n",
      "  df.fillna(method=\"bfill\", inplace=True)\n"
     ]
    },
    {
     "name": "stdout",
     "output_type": "stream",
     "text": [
      "Train anomalies (pm10cnc): 2074\n",
      "Test anomalies (pm10cnc): 592\n",
      "Validation anomalies (pm10cnc): 294\n"
     ]
    },
    {
     "name": "stderr",
     "output_type": "stream",
     "text": [
      "C:\\Users\\21til\\AppData\\Local\\Temp\\ipykernel_21288\\2886358829.py:37: SettingWithCopyWarning: \n",
      "A value is trying to be set on a copy of a slice from a DataFrame\n",
      "\n",
      "See the caveats in the documentation: https://pandas.pydata.org/pandas-docs/stable/user_guide/indexing.html#returning-a-view-versus-a-copy\n",
      "  df.interpolate(method=\"time\", inplace=True)\n",
      "C:\\Users\\21til\\AppData\\Local\\Temp\\ipykernel_21288\\2886358829.py:59: FutureWarning: DataFrame.fillna with 'method' is deprecated and will raise in a future version. Use obj.ffill() or obj.bfill() instead.\n",
      "  df.fillna(method=\"ffill\", inplace=True)\n",
      "C:\\Users\\21til\\AppData\\Local\\Temp\\ipykernel_21288\\2886358829.py:60: FutureWarning: DataFrame.fillna with 'method' is deprecated and will raise in a future version. Use obj.ffill() or obj.bfill() instead.\n",
      "  df.fillna(method=\"bfill\", inplace=True)\n"
     ]
    },
    {
     "name": "stdout",
     "output_type": "stream",
     "text": [
      "Train anomalies (pm2_5cnc): 2058\n",
      "Test anomalies (pm2_5cnc): 586\n",
      "Validation anomalies (pm2_5cnc): 288\n",
      "✅ JSON saved: jsons/119.json\n",
      "Processing site_122_data.csv (Site ID: 122)...\n"
     ]
    },
    {
     "name": "stderr",
     "output_type": "stream",
     "text": [
      "C:\\Users\\21til\\AppData\\Local\\Temp\\ipykernel_21288\\2886358829.py:37: SettingWithCopyWarning: \n",
      "A value is trying to be set on a copy of a slice from a DataFrame\n",
      "\n",
      "See the caveats in the documentation: https://pandas.pydata.org/pandas-docs/stable/user_guide/indexing.html#returning-a-view-versus-a-copy\n",
      "  df.interpolate(method=\"time\", inplace=True)\n",
      "C:\\Users\\21til\\AppData\\Local\\Temp\\ipykernel_21288\\2886358829.py:59: FutureWarning: DataFrame.fillna with 'method' is deprecated and will raise in a future version. Use obj.ffill() or obj.bfill() instead.\n",
      "  df.fillna(method=\"ffill\", inplace=True)\n",
      "C:\\Users\\21til\\AppData\\Local\\Temp\\ipykernel_21288\\2886358829.py:60: FutureWarning: DataFrame.fillna with 'method' is deprecated and will raise in a future version. Use obj.ffill() or obj.bfill() instead.\n",
      "  df.fillna(method=\"bfill\", inplace=True)\n"
     ]
    },
    {
     "name": "stdout",
     "output_type": "stream",
     "text": [
      "Train anomalies (pm10cnc): 2049\n",
      "Test anomalies (pm10cnc): 589\n",
      "Validation anomalies (pm10cnc): 296\n"
     ]
    },
    {
     "name": "stderr",
     "output_type": "stream",
     "text": [
      "C:\\Users\\21til\\AppData\\Local\\Temp\\ipykernel_21288\\2886358829.py:37: SettingWithCopyWarning: \n",
      "A value is trying to be set on a copy of a slice from a DataFrame\n",
      "\n",
      "See the caveats in the documentation: https://pandas.pydata.org/pandas-docs/stable/user_guide/indexing.html#returning-a-view-versus-a-copy\n",
      "  df.interpolate(method=\"time\", inplace=True)\n",
      "C:\\Users\\21til\\AppData\\Local\\Temp\\ipykernel_21288\\2886358829.py:59: FutureWarning: DataFrame.fillna with 'method' is deprecated and will raise in a future version. Use obj.ffill() or obj.bfill() instead.\n",
      "  df.fillna(method=\"ffill\", inplace=True)\n",
      "C:\\Users\\21til\\AppData\\Local\\Temp\\ipykernel_21288\\2886358829.py:60: FutureWarning: DataFrame.fillna with 'method' is deprecated and will raise in a future version. Use obj.ffill() or obj.bfill() instead.\n",
      "  df.fillna(method=\"bfill\", inplace=True)\n"
     ]
    },
    {
     "name": "stdout",
     "output_type": "stream",
     "text": [
      "Train anomalies (pm2_5cnc): 2057\n",
      "Test anomalies (pm2_5cnc): 591\n",
      "Validation anomalies (pm2_5cnc): 295\n",
      "✅ JSON saved: jsons/122.json\n",
      "Processing site_124_data.csv (Site ID: 124)...\n"
     ]
    },
    {
     "name": "stderr",
     "output_type": "stream",
     "text": [
      "C:\\Users\\21til\\AppData\\Local\\Temp\\ipykernel_21288\\2886358829.py:37: SettingWithCopyWarning: \n",
      "A value is trying to be set on a copy of a slice from a DataFrame\n",
      "\n",
      "See the caveats in the documentation: https://pandas.pydata.org/pandas-docs/stable/user_guide/indexing.html#returning-a-view-versus-a-copy\n",
      "  df.interpolate(method=\"time\", inplace=True)\n",
      "C:\\Users\\21til\\AppData\\Local\\Temp\\ipykernel_21288\\2886358829.py:59: FutureWarning: DataFrame.fillna with 'method' is deprecated and will raise in a future version. Use obj.ffill() or obj.bfill() instead.\n",
      "  df.fillna(method=\"ffill\", inplace=True)\n",
      "C:\\Users\\21til\\AppData\\Local\\Temp\\ipykernel_21288\\2886358829.py:60: FutureWarning: DataFrame.fillna with 'method' is deprecated and will raise in a future version. Use obj.ffill() or obj.bfill() instead.\n",
      "  df.fillna(method=\"bfill\", inplace=True)\n"
     ]
    },
    {
     "name": "stdout",
     "output_type": "stream",
     "text": [
      "Train anomalies (pm10cnc): 2066\n",
      "Test anomalies (pm10cnc): 585\n",
      "Validation anomalies (pm10cnc): 295\n"
     ]
    },
    {
     "name": "stderr",
     "output_type": "stream",
     "text": [
      "C:\\Users\\21til\\AppData\\Local\\Temp\\ipykernel_21288\\2886358829.py:37: SettingWithCopyWarning: \n",
      "A value is trying to be set on a copy of a slice from a DataFrame\n",
      "\n",
      "See the caveats in the documentation: https://pandas.pydata.org/pandas-docs/stable/user_guide/indexing.html#returning-a-view-versus-a-copy\n",
      "  df.interpolate(method=\"time\", inplace=True)\n",
      "C:\\Users\\21til\\AppData\\Local\\Temp\\ipykernel_21288\\2886358829.py:59: FutureWarning: DataFrame.fillna with 'method' is deprecated and will raise in a future version. Use obj.ffill() or obj.bfill() instead.\n",
      "  df.fillna(method=\"ffill\", inplace=True)\n",
      "C:\\Users\\21til\\AppData\\Local\\Temp\\ipykernel_21288\\2886358829.py:60: FutureWarning: DataFrame.fillna with 'method' is deprecated and will raise in a future version. Use obj.ffill() or obj.bfill() instead.\n",
      "  df.fillna(method=\"bfill\", inplace=True)\n"
     ]
    },
    {
     "name": "stdout",
     "output_type": "stream",
     "text": [
      "Train anomalies (pm2_5cnc): 2070\n",
      "Test anomalies (pm2_5cnc): 582\n",
      "Validation anomalies (pm2_5cnc): 297\n",
      "✅ JSON saved: jsons/124.json\n",
      "Processing site_1420_data.csv (Site ID: 1420)...\n"
     ]
    },
    {
     "name": "stderr",
     "output_type": "stream",
     "text": [
      "C:\\Users\\21til\\AppData\\Local\\Temp\\ipykernel_21288\\2886358829.py:37: SettingWithCopyWarning: \n",
      "A value is trying to be set on a copy of a slice from a DataFrame\n",
      "\n",
      "See the caveats in the documentation: https://pandas.pydata.org/pandas-docs/stable/user_guide/indexing.html#returning-a-view-versus-a-copy\n",
      "  df.interpolate(method=\"time\", inplace=True)\n",
      "C:\\Users\\21til\\AppData\\Local\\Temp\\ipykernel_21288\\2886358829.py:59: FutureWarning: DataFrame.fillna with 'method' is deprecated and will raise in a future version. Use obj.ffill() or obj.bfill() instead.\n",
      "  df.fillna(method=\"ffill\", inplace=True)\n",
      "C:\\Users\\21til\\AppData\\Local\\Temp\\ipykernel_21288\\2886358829.py:60: FutureWarning: DataFrame.fillna with 'method' is deprecated and will raise in a future version. Use obj.ffill() or obj.bfill() instead.\n",
      "  df.fillna(method=\"bfill\", inplace=True)\n"
     ]
    },
    {
     "name": "stdout",
     "output_type": "stream",
     "text": [
      "Train anomalies (pm10cnc): 2072\n",
      "Test anomalies (pm10cnc): 589\n",
      "Validation anomalies (pm10cnc): 296\n"
     ]
    },
    {
     "name": "stderr",
     "output_type": "stream",
     "text": [
      "C:\\Users\\21til\\AppData\\Local\\Temp\\ipykernel_21288\\2886358829.py:37: SettingWithCopyWarning: \n",
      "A value is trying to be set on a copy of a slice from a DataFrame\n",
      "\n",
      "See the caveats in the documentation: https://pandas.pydata.org/pandas-docs/stable/user_guide/indexing.html#returning-a-view-versus-a-copy\n",
      "  df.interpolate(method=\"time\", inplace=True)\n",
      "C:\\Users\\21til\\AppData\\Local\\Temp\\ipykernel_21288\\2886358829.py:59: FutureWarning: DataFrame.fillna with 'method' is deprecated and will raise in a future version. Use obj.ffill() or obj.bfill() instead.\n",
      "  df.fillna(method=\"ffill\", inplace=True)\n",
      "C:\\Users\\21til\\AppData\\Local\\Temp\\ipykernel_21288\\2886358829.py:60: FutureWarning: DataFrame.fillna with 'method' is deprecated and will raise in a future version. Use obj.ffill() or obj.bfill() instead.\n",
      "  df.fillna(method=\"bfill\", inplace=True)\n"
     ]
    },
    {
     "name": "stdout",
     "output_type": "stream",
     "text": [
      "Train anomalies (pm2_5cnc): 2071\n",
      "Test anomalies (pm2_5cnc): 591\n",
      "Validation anomalies (pm2_5cnc): 297\n",
      "✅ JSON saved: jsons/1420.json\n",
      "Processing site_1421_data.csv (Site ID: 1421)...\n"
     ]
    },
    {
     "name": "stderr",
     "output_type": "stream",
     "text": [
      "C:\\Users\\21til\\AppData\\Local\\Temp\\ipykernel_21288\\2886358829.py:37: SettingWithCopyWarning: \n",
      "A value is trying to be set on a copy of a slice from a DataFrame\n",
      "\n",
      "See the caveats in the documentation: https://pandas.pydata.org/pandas-docs/stable/user_guide/indexing.html#returning-a-view-versus-a-copy\n",
      "  df.interpolate(method=\"time\", inplace=True)\n",
      "C:\\Users\\21til\\AppData\\Local\\Temp\\ipykernel_21288\\2886358829.py:59: FutureWarning: DataFrame.fillna with 'method' is deprecated and will raise in a future version. Use obj.ffill() or obj.bfill() instead.\n",
      "  df.fillna(method=\"ffill\", inplace=True)\n",
      "C:\\Users\\21til\\AppData\\Local\\Temp\\ipykernel_21288\\2886358829.py:60: FutureWarning: DataFrame.fillna with 'method' is deprecated and will raise in a future version. Use obj.ffill() or obj.bfill() instead.\n",
      "  df.fillna(method=\"bfill\", inplace=True)\n"
     ]
    },
    {
     "name": "stdout",
     "output_type": "stream",
     "text": [
      "Train anomalies (pm10cnc): 2060\n",
      "Test anomalies (pm10cnc): 585\n",
      "Validation anomalies (pm10cnc): 294\n"
     ]
    },
    {
     "name": "stderr",
     "output_type": "stream",
     "text": [
      "C:\\Users\\21til\\AppData\\Local\\Temp\\ipykernel_21288\\2886358829.py:37: SettingWithCopyWarning: \n",
      "A value is trying to be set on a copy of a slice from a DataFrame\n",
      "\n",
      "See the caveats in the documentation: https://pandas.pydata.org/pandas-docs/stable/user_guide/indexing.html#returning-a-view-versus-a-copy\n",
      "  df.interpolate(method=\"time\", inplace=True)\n",
      "C:\\Users\\21til\\AppData\\Local\\Temp\\ipykernel_21288\\2886358829.py:59: FutureWarning: DataFrame.fillna with 'method' is deprecated and will raise in a future version. Use obj.ffill() or obj.bfill() instead.\n",
      "  df.fillna(method=\"ffill\", inplace=True)\n",
      "C:\\Users\\21til\\AppData\\Local\\Temp\\ipykernel_21288\\2886358829.py:60: FutureWarning: DataFrame.fillna with 'method' is deprecated and will raise in a future version. Use obj.ffill() or obj.bfill() instead.\n",
      "  df.fillna(method=\"bfill\", inplace=True)\n"
     ]
    },
    {
     "name": "stdout",
     "output_type": "stream",
     "text": [
      "Train anomalies (pm2_5cnc): 2050\n",
      "Test anomalies (pm2_5cnc): 567\n",
      "Validation anomalies (pm2_5cnc): 291\n",
      "✅ JSON saved: jsons/1421.json\n",
      "Processing site_1423_data.csv (Site ID: 1423)...\n"
     ]
    },
    {
     "name": "stderr",
     "output_type": "stream",
     "text": [
      "C:\\Users\\21til\\AppData\\Local\\Temp\\ipykernel_21288\\2886358829.py:37: SettingWithCopyWarning: \n",
      "A value is trying to be set on a copy of a slice from a DataFrame\n",
      "\n",
      "See the caveats in the documentation: https://pandas.pydata.org/pandas-docs/stable/user_guide/indexing.html#returning-a-view-versus-a-copy\n",
      "  df.interpolate(method=\"time\", inplace=True)\n",
      "C:\\Users\\21til\\AppData\\Local\\Temp\\ipykernel_21288\\2886358829.py:59: FutureWarning: DataFrame.fillna with 'method' is deprecated and will raise in a future version. Use obj.ffill() or obj.bfill() instead.\n",
      "  df.fillna(method=\"ffill\", inplace=True)\n",
      "C:\\Users\\21til\\AppData\\Local\\Temp\\ipykernel_21288\\2886358829.py:60: FutureWarning: DataFrame.fillna with 'method' is deprecated and will raise in a future version. Use obj.ffill() or obj.bfill() instead.\n",
      "  df.fillna(method=\"bfill\", inplace=True)\n"
     ]
    },
    {
     "name": "stdout",
     "output_type": "stream",
     "text": [
      "Train anomalies (pm10cnc): 2064\n",
      "Test anomalies (pm10cnc): 585\n",
      "Validation anomalies (pm10cnc): 297\n"
     ]
    },
    {
     "name": "stderr",
     "output_type": "stream",
     "text": [
      "C:\\Users\\21til\\AppData\\Local\\Temp\\ipykernel_21288\\2886358829.py:37: SettingWithCopyWarning: \n",
      "A value is trying to be set on a copy of a slice from a DataFrame\n",
      "\n",
      "See the caveats in the documentation: https://pandas.pydata.org/pandas-docs/stable/user_guide/indexing.html#returning-a-view-versus-a-copy\n",
      "  df.interpolate(method=\"time\", inplace=True)\n",
      "C:\\Users\\21til\\AppData\\Local\\Temp\\ipykernel_21288\\2886358829.py:59: FutureWarning: DataFrame.fillna with 'method' is deprecated and will raise in a future version. Use obj.ffill() or obj.bfill() instead.\n",
      "  df.fillna(method=\"ffill\", inplace=True)\n",
      "C:\\Users\\21til\\AppData\\Local\\Temp\\ipykernel_21288\\2886358829.py:60: FutureWarning: DataFrame.fillna with 'method' is deprecated and will raise in a future version. Use obj.ffill() or obj.bfill() instead.\n",
      "  df.fillna(method=\"bfill\", inplace=True)\n"
     ]
    },
    {
     "name": "stdout",
     "output_type": "stream",
     "text": [
      "Train anomalies (pm2_5cnc): 2074\n",
      "Test anomalies (pm2_5cnc): 590\n",
      "Validation anomalies (pm2_5cnc): 294\n",
      "✅ JSON saved: jsons/1423.json\n",
      "Processing site_1424_data.csv (Site ID: 1424)...\n"
     ]
    },
    {
     "name": "stderr",
     "output_type": "stream",
     "text": [
      "C:\\Users\\21til\\AppData\\Local\\Temp\\ipykernel_21288\\2886358829.py:37: SettingWithCopyWarning: \n",
      "A value is trying to be set on a copy of a slice from a DataFrame\n",
      "\n",
      "See the caveats in the documentation: https://pandas.pydata.org/pandas-docs/stable/user_guide/indexing.html#returning-a-view-versus-a-copy\n",
      "  df.interpolate(method=\"time\", inplace=True)\n",
      "C:\\Users\\21til\\AppData\\Local\\Temp\\ipykernel_21288\\2886358829.py:59: FutureWarning: DataFrame.fillna with 'method' is deprecated and will raise in a future version. Use obj.ffill() or obj.bfill() instead.\n",
      "  df.fillna(method=\"ffill\", inplace=True)\n",
      "C:\\Users\\21til\\AppData\\Local\\Temp\\ipykernel_21288\\2886358829.py:60: FutureWarning: DataFrame.fillna with 'method' is deprecated and will raise in a future version. Use obj.ffill() or obj.bfill() instead.\n",
      "  df.fillna(method=\"bfill\", inplace=True)\n"
     ]
    },
    {
     "name": "stdout",
     "output_type": "stream",
     "text": [
      "Train anomalies (pm10cnc): 2068\n",
      "Test anomalies (pm10cnc): 575\n",
      "Validation anomalies (pm10cnc): 296\n"
     ]
    },
    {
     "name": "stderr",
     "output_type": "stream",
     "text": [
      "C:\\Users\\21til\\AppData\\Local\\Temp\\ipykernel_21288\\2886358829.py:37: SettingWithCopyWarning: \n",
      "A value is trying to be set on a copy of a slice from a DataFrame\n",
      "\n",
      "See the caveats in the documentation: https://pandas.pydata.org/pandas-docs/stable/user_guide/indexing.html#returning-a-view-versus-a-copy\n",
      "  df.interpolate(method=\"time\", inplace=True)\n",
      "C:\\Users\\21til\\AppData\\Local\\Temp\\ipykernel_21288\\2886358829.py:59: FutureWarning: DataFrame.fillna with 'method' is deprecated and will raise in a future version. Use obj.ffill() or obj.bfill() instead.\n",
      "  df.fillna(method=\"ffill\", inplace=True)\n",
      "C:\\Users\\21til\\AppData\\Local\\Temp\\ipykernel_21288\\2886358829.py:60: FutureWarning: DataFrame.fillna with 'method' is deprecated and will raise in a future version. Use obj.ffill() or obj.bfill() instead.\n",
      "  df.fillna(method=\"bfill\", inplace=True)\n"
     ]
    },
    {
     "name": "stdout",
     "output_type": "stream",
     "text": [
      "Train anomalies (pm2_5cnc): 2069\n",
      "Test anomalies (pm2_5cnc): 593\n",
      "Validation anomalies (pm2_5cnc): 296\n",
      "✅ JSON saved: jsons/1424.json\n",
      "Processing site_1425_data.csv (Site ID: 1425)...\n"
     ]
    },
    {
     "name": "stderr",
     "output_type": "stream",
     "text": [
      "C:\\Users\\21til\\AppData\\Local\\Temp\\ipykernel_21288\\2886358829.py:37: SettingWithCopyWarning: \n",
      "A value is trying to be set on a copy of a slice from a DataFrame\n",
      "\n",
      "See the caveats in the documentation: https://pandas.pydata.org/pandas-docs/stable/user_guide/indexing.html#returning-a-view-versus-a-copy\n",
      "  df.interpolate(method=\"time\", inplace=True)\n",
      "C:\\Users\\21til\\AppData\\Local\\Temp\\ipykernel_21288\\2886358829.py:59: FutureWarning: DataFrame.fillna with 'method' is deprecated and will raise in a future version. Use obj.ffill() or obj.bfill() instead.\n",
      "  df.fillna(method=\"ffill\", inplace=True)\n",
      "C:\\Users\\21til\\AppData\\Local\\Temp\\ipykernel_21288\\2886358829.py:60: FutureWarning: DataFrame.fillna with 'method' is deprecated and will raise in a future version. Use obj.ffill() or obj.bfill() instead.\n",
      "  df.fillna(method=\"bfill\", inplace=True)\n"
     ]
    },
    {
     "name": "stdout",
     "output_type": "stream",
     "text": [
      "Train anomalies (pm10cnc): 2067\n",
      "Test anomalies (pm10cnc): 588\n",
      "Validation anomalies (pm10cnc): 296\n"
     ]
    },
    {
     "name": "stderr",
     "output_type": "stream",
     "text": [
      "C:\\Users\\21til\\AppData\\Local\\Temp\\ipykernel_21288\\2886358829.py:37: SettingWithCopyWarning: \n",
      "A value is trying to be set on a copy of a slice from a DataFrame\n",
      "\n",
      "See the caveats in the documentation: https://pandas.pydata.org/pandas-docs/stable/user_guide/indexing.html#returning-a-view-versus-a-copy\n",
      "  df.interpolate(method=\"time\", inplace=True)\n",
      "C:\\Users\\21til\\AppData\\Local\\Temp\\ipykernel_21288\\2886358829.py:59: FutureWarning: DataFrame.fillna with 'method' is deprecated and will raise in a future version. Use obj.ffill() or obj.bfill() instead.\n",
      "  df.fillna(method=\"ffill\", inplace=True)\n",
      "C:\\Users\\21til\\AppData\\Local\\Temp\\ipykernel_21288\\2886358829.py:60: FutureWarning: DataFrame.fillna with 'method' is deprecated and will raise in a future version. Use obj.ffill() or obj.bfill() instead.\n",
      "  df.fillna(method=\"bfill\", inplace=True)\n"
     ]
    },
    {
     "name": "stdout",
     "output_type": "stream",
     "text": [
      "Train anomalies (pm2_5cnc): 2067\n",
      "Test anomalies (pm2_5cnc): 588\n",
      "Validation anomalies (pm2_5cnc): 295\n",
      "✅ JSON saved: jsons/1425.json\n",
      "Processing site_1426_data.csv (Site ID: 1426)...\n"
     ]
    },
    {
     "name": "stderr",
     "output_type": "stream",
     "text": [
      "C:\\Users\\21til\\AppData\\Local\\Temp\\ipykernel_21288\\2886358829.py:37: SettingWithCopyWarning: \n",
      "A value is trying to be set on a copy of a slice from a DataFrame\n",
      "\n",
      "See the caveats in the documentation: https://pandas.pydata.org/pandas-docs/stable/user_guide/indexing.html#returning-a-view-versus-a-copy\n",
      "  df.interpolate(method=\"time\", inplace=True)\n",
      "C:\\Users\\21til\\AppData\\Local\\Temp\\ipykernel_21288\\2886358829.py:59: FutureWarning: DataFrame.fillna with 'method' is deprecated and will raise in a future version. Use obj.ffill() or obj.bfill() instead.\n",
      "  df.fillna(method=\"ffill\", inplace=True)\n",
      "C:\\Users\\21til\\AppData\\Local\\Temp\\ipykernel_21288\\2886358829.py:60: FutureWarning: DataFrame.fillna with 'method' is deprecated and will raise in a future version. Use obj.ffill() or obj.bfill() instead.\n",
      "  df.fillna(method=\"bfill\", inplace=True)\n"
     ]
    },
    {
     "name": "stdout",
     "output_type": "stream",
     "text": [
      "Train anomalies (pm10cnc): 2065\n",
      "Test anomalies (pm10cnc): 593\n",
      "Validation anomalies (pm10cnc): 294\n"
     ]
    },
    {
     "name": "stderr",
     "output_type": "stream",
     "text": [
      "C:\\Users\\21til\\AppData\\Local\\Temp\\ipykernel_21288\\2886358829.py:37: SettingWithCopyWarning: \n",
      "A value is trying to be set on a copy of a slice from a DataFrame\n",
      "\n",
      "See the caveats in the documentation: https://pandas.pydata.org/pandas-docs/stable/user_guide/indexing.html#returning-a-view-versus-a-copy\n",
      "  df.interpolate(method=\"time\", inplace=True)\n",
      "C:\\Users\\21til\\AppData\\Local\\Temp\\ipykernel_21288\\2886358829.py:59: FutureWarning: DataFrame.fillna with 'method' is deprecated and will raise in a future version. Use obj.ffill() or obj.bfill() instead.\n",
      "  df.fillna(method=\"ffill\", inplace=True)\n",
      "C:\\Users\\21til\\AppData\\Local\\Temp\\ipykernel_21288\\2886358829.py:60: FutureWarning: DataFrame.fillna with 'method' is deprecated and will raise in a future version. Use obj.ffill() or obj.bfill() instead.\n",
      "  df.fillna(method=\"bfill\", inplace=True)\n"
     ]
    },
    {
     "name": "stdout",
     "output_type": "stream",
     "text": [
      "Train anomalies (pm2_5cnc): 2070\n",
      "Test anomalies (pm2_5cnc): 592\n",
      "Validation anomalies (pm2_5cnc): 296\n",
      "✅ JSON saved: jsons/1426.json\n",
      "Processing site_1427_data.csv (Site ID: 1427)...\n"
     ]
    },
    {
     "name": "stderr",
     "output_type": "stream",
     "text": [
      "C:\\Users\\21til\\AppData\\Local\\Temp\\ipykernel_21288\\2886358829.py:37: SettingWithCopyWarning: \n",
      "A value is trying to be set on a copy of a slice from a DataFrame\n",
      "\n",
      "See the caveats in the documentation: https://pandas.pydata.org/pandas-docs/stable/user_guide/indexing.html#returning-a-view-versus-a-copy\n",
      "  df.interpolate(method=\"time\", inplace=True)\n",
      "C:\\Users\\21til\\AppData\\Local\\Temp\\ipykernel_21288\\2886358829.py:59: FutureWarning: DataFrame.fillna with 'method' is deprecated and will raise in a future version. Use obj.ffill() or obj.bfill() instead.\n",
      "  df.fillna(method=\"ffill\", inplace=True)\n",
      "C:\\Users\\21til\\AppData\\Local\\Temp\\ipykernel_21288\\2886358829.py:60: FutureWarning: DataFrame.fillna with 'method' is deprecated and will raise in a future version. Use obj.ffill() or obj.bfill() instead.\n",
      "  df.fillna(method=\"bfill\", inplace=True)\n"
     ]
    },
    {
     "name": "stdout",
     "output_type": "stream",
     "text": [
      "Train anomalies (pm10cnc): 2039\n",
      "Test anomalies (pm10cnc): 593\n",
      "Validation anomalies (pm10cnc): 295\n"
     ]
    },
    {
     "name": "stderr",
     "output_type": "stream",
     "text": [
      "C:\\Users\\21til\\AppData\\Local\\Temp\\ipykernel_21288\\2886358829.py:37: SettingWithCopyWarning: \n",
      "A value is trying to be set on a copy of a slice from a DataFrame\n",
      "\n",
      "See the caveats in the documentation: https://pandas.pydata.org/pandas-docs/stable/user_guide/indexing.html#returning-a-view-versus-a-copy\n",
      "  df.interpolate(method=\"time\", inplace=True)\n",
      "C:\\Users\\21til\\AppData\\Local\\Temp\\ipykernel_21288\\2886358829.py:59: FutureWarning: DataFrame.fillna with 'method' is deprecated and will raise in a future version. Use obj.ffill() or obj.bfill() instead.\n",
      "  df.fillna(method=\"ffill\", inplace=True)\n",
      "C:\\Users\\21til\\AppData\\Local\\Temp\\ipykernel_21288\\2886358829.py:60: FutureWarning: DataFrame.fillna with 'method' is deprecated and will raise in a future version. Use obj.ffill() or obj.bfill() instead.\n",
      "  df.fillna(method=\"bfill\", inplace=True)\n"
     ]
    },
    {
     "name": "stdout",
     "output_type": "stream",
     "text": [
      "Train anomalies (pm2_5cnc): 2051\n",
      "Test anomalies (pm2_5cnc): 593\n",
      "Validation anomalies (pm2_5cnc): 295\n",
      "✅ JSON saved: jsons/1427.json\n",
      "Processing site_1428_data.csv (Site ID: 1428)...\n"
     ]
    },
    {
     "name": "stderr",
     "output_type": "stream",
     "text": [
      "C:\\Users\\21til\\AppData\\Local\\Temp\\ipykernel_21288\\2886358829.py:37: SettingWithCopyWarning: \n",
      "A value is trying to be set on a copy of a slice from a DataFrame\n",
      "\n",
      "See the caveats in the documentation: https://pandas.pydata.org/pandas-docs/stable/user_guide/indexing.html#returning-a-view-versus-a-copy\n",
      "  df.interpolate(method=\"time\", inplace=True)\n",
      "C:\\Users\\21til\\AppData\\Local\\Temp\\ipykernel_21288\\2886358829.py:59: FutureWarning: DataFrame.fillna with 'method' is deprecated and will raise in a future version. Use obj.ffill() or obj.bfill() instead.\n",
      "  df.fillna(method=\"ffill\", inplace=True)\n",
      "C:\\Users\\21til\\AppData\\Local\\Temp\\ipykernel_21288\\2886358829.py:60: FutureWarning: DataFrame.fillna with 'method' is deprecated and will raise in a future version. Use obj.ffill() or obj.bfill() instead.\n",
      "  df.fillna(method=\"bfill\", inplace=True)\n"
     ]
    },
    {
     "name": "stdout",
     "output_type": "stream",
     "text": [
      "Train anomalies (pm10cnc): 2069\n",
      "Test anomalies (pm10cnc): 593\n",
      "Validation anomalies (pm10cnc): 295\n"
     ]
    },
    {
     "name": "stderr",
     "output_type": "stream",
     "text": [
      "C:\\Users\\21til\\AppData\\Local\\Temp\\ipykernel_21288\\2886358829.py:37: SettingWithCopyWarning: \n",
      "A value is trying to be set on a copy of a slice from a DataFrame\n",
      "\n",
      "See the caveats in the documentation: https://pandas.pydata.org/pandas-docs/stable/user_guide/indexing.html#returning-a-view-versus-a-copy\n",
      "  df.interpolate(method=\"time\", inplace=True)\n",
      "C:\\Users\\21til\\AppData\\Local\\Temp\\ipykernel_21288\\2886358829.py:59: FutureWarning: DataFrame.fillna with 'method' is deprecated and will raise in a future version. Use obj.ffill() or obj.bfill() instead.\n",
      "  df.fillna(method=\"ffill\", inplace=True)\n",
      "C:\\Users\\21til\\AppData\\Local\\Temp\\ipykernel_21288\\2886358829.py:60: FutureWarning: DataFrame.fillna with 'method' is deprecated and will raise in a future version. Use obj.ffill() or obj.bfill() instead.\n",
      "  df.fillna(method=\"bfill\", inplace=True)\n"
     ]
    },
    {
     "name": "stdout",
     "output_type": "stream",
     "text": [
      "Train anomalies (pm2_5cnc): 2055\n",
      "Test anomalies (pm2_5cnc): 593\n",
      "Validation anomalies (pm2_5cnc): 296\n",
      "✅ JSON saved: jsons/1428.json\n",
      "Processing site_1429_data.csv (Site ID: 1429)...\n"
     ]
    },
    {
     "name": "stderr",
     "output_type": "stream",
     "text": [
      "C:\\Users\\21til\\AppData\\Local\\Temp\\ipykernel_21288\\2886358829.py:37: SettingWithCopyWarning: \n",
      "A value is trying to be set on a copy of a slice from a DataFrame\n",
      "\n",
      "See the caveats in the documentation: https://pandas.pydata.org/pandas-docs/stable/user_guide/indexing.html#returning-a-view-versus-a-copy\n",
      "  df.interpolate(method=\"time\", inplace=True)\n",
      "C:\\Users\\21til\\AppData\\Local\\Temp\\ipykernel_21288\\2886358829.py:59: FutureWarning: DataFrame.fillna with 'method' is deprecated and will raise in a future version. Use obj.ffill() or obj.bfill() instead.\n",
      "  df.fillna(method=\"ffill\", inplace=True)\n",
      "C:\\Users\\21til\\AppData\\Local\\Temp\\ipykernel_21288\\2886358829.py:60: FutureWarning: DataFrame.fillna with 'method' is deprecated and will raise in a future version. Use obj.ffill() or obj.bfill() instead.\n",
      "  df.fillna(method=\"bfill\", inplace=True)\n"
     ]
    },
    {
     "name": "stdout",
     "output_type": "stream",
     "text": [
      "Train anomalies (pm10cnc): 2053\n",
      "Test anomalies (pm10cnc): 593\n",
      "Validation anomalies (pm10cnc): 296\n"
     ]
    },
    {
     "name": "stderr",
     "output_type": "stream",
     "text": [
      "C:\\Users\\21til\\AppData\\Local\\Temp\\ipykernel_21288\\2886358829.py:37: SettingWithCopyWarning: \n",
      "A value is trying to be set on a copy of a slice from a DataFrame\n",
      "\n",
      "See the caveats in the documentation: https://pandas.pydata.org/pandas-docs/stable/user_guide/indexing.html#returning-a-view-versus-a-copy\n",
      "  df.interpolate(method=\"time\", inplace=True)\n",
      "C:\\Users\\21til\\AppData\\Local\\Temp\\ipykernel_21288\\2886358829.py:59: FutureWarning: DataFrame.fillna with 'method' is deprecated and will raise in a future version. Use obj.ffill() or obj.bfill() instead.\n",
      "  df.fillna(method=\"ffill\", inplace=True)\n",
      "C:\\Users\\21til\\AppData\\Local\\Temp\\ipykernel_21288\\2886358829.py:60: FutureWarning: DataFrame.fillna with 'method' is deprecated and will raise in a future version. Use obj.ffill() or obj.bfill() instead.\n",
      "  df.fillna(method=\"bfill\", inplace=True)\n"
     ]
    },
    {
     "name": "stdout",
     "output_type": "stream",
     "text": [
      "Train anomalies (pm2_5cnc): 2073\n",
      "Test anomalies (pm2_5cnc): 579\n",
      "Validation anomalies (pm2_5cnc): 297\n",
      "✅ JSON saved: jsons/1429.json\n",
      "Processing site_1430_data.csv (Site ID: 1430)...\n"
     ]
    },
    {
     "name": "stderr",
     "output_type": "stream",
     "text": [
      "C:\\Users\\21til\\AppData\\Local\\Temp\\ipykernel_21288\\2886358829.py:37: SettingWithCopyWarning: \n",
      "A value is trying to be set on a copy of a slice from a DataFrame\n",
      "\n",
      "See the caveats in the documentation: https://pandas.pydata.org/pandas-docs/stable/user_guide/indexing.html#returning-a-view-versus-a-copy\n",
      "  df.interpolate(method=\"time\", inplace=True)\n",
      "C:\\Users\\21til\\AppData\\Local\\Temp\\ipykernel_21288\\2886358829.py:59: FutureWarning: DataFrame.fillna with 'method' is deprecated and will raise in a future version. Use obj.ffill() or obj.bfill() instead.\n",
      "  df.fillna(method=\"ffill\", inplace=True)\n",
      "C:\\Users\\21til\\AppData\\Local\\Temp\\ipykernel_21288\\2886358829.py:60: FutureWarning: DataFrame.fillna with 'method' is deprecated and will raise in a future version. Use obj.ffill() or obj.bfill() instead.\n",
      "  df.fillna(method=\"bfill\", inplace=True)\n"
     ]
    },
    {
     "name": "stdout",
     "output_type": "stream",
     "text": [
      "Train anomalies (pm10cnc): 2062\n",
      "Test anomalies (pm10cnc): 593\n",
      "Validation anomalies (pm10cnc): 296\n"
     ]
    },
    {
     "name": "stderr",
     "output_type": "stream",
     "text": [
      "C:\\Users\\21til\\AppData\\Local\\Temp\\ipykernel_21288\\2886358829.py:37: SettingWithCopyWarning: \n",
      "A value is trying to be set on a copy of a slice from a DataFrame\n",
      "\n",
      "See the caveats in the documentation: https://pandas.pydata.org/pandas-docs/stable/user_guide/indexing.html#returning-a-view-versus-a-copy\n",
      "  df.interpolate(method=\"time\", inplace=True)\n",
      "C:\\Users\\21til\\AppData\\Local\\Temp\\ipykernel_21288\\2886358829.py:59: FutureWarning: DataFrame.fillna with 'method' is deprecated and will raise in a future version. Use obj.ffill() or obj.bfill() instead.\n",
      "  df.fillna(method=\"ffill\", inplace=True)\n",
      "C:\\Users\\21til\\AppData\\Local\\Temp\\ipykernel_21288\\2886358829.py:60: FutureWarning: DataFrame.fillna with 'method' is deprecated and will raise in a future version. Use obj.ffill() or obj.bfill() instead.\n",
      "  df.fillna(method=\"bfill\", inplace=True)\n"
     ]
    },
    {
     "name": "stdout",
     "output_type": "stream",
     "text": [
      "Train anomalies (pm2_5cnc): 2056\n",
      "Test anomalies (pm2_5cnc): 586\n",
      "Validation anomalies (pm2_5cnc): 297\n",
      "✅ JSON saved: jsons/1430.json\n",
      "Processing site_1431_data.csv (Site ID: 1431)...\n"
     ]
    },
    {
     "name": "stderr",
     "output_type": "stream",
     "text": [
      "C:\\Users\\21til\\AppData\\Local\\Temp\\ipykernel_21288\\2886358829.py:37: SettingWithCopyWarning: \n",
      "A value is trying to be set on a copy of a slice from a DataFrame\n",
      "\n",
      "See the caveats in the documentation: https://pandas.pydata.org/pandas-docs/stable/user_guide/indexing.html#returning-a-view-versus-a-copy\n",
      "  df.interpolate(method=\"time\", inplace=True)\n",
      "C:\\Users\\21til\\AppData\\Local\\Temp\\ipykernel_21288\\2886358829.py:59: FutureWarning: DataFrame.fillna with 'method' is deprecated and will raise in a future version. Use obj.ffill() or obj.bfill() instead.\n",
      "  df.fillna(method=\"ffill\", inplace=True)\n",
      "C:\\Users\\21til\\AppData\\Local\\Temp\\ipykernel_21288\\2886358829.py:60: FutureWarning: DataFrame.fillna with 'method' is deprecated and will raise in a future version. Use obj.ffill() or obj.bfill() instead.\n",
      "  df.fillna(method=\"bfill\", inplace=True)\n"
     ]
    },
    {
     "name": "stdout",
     "output_type": "stream",
     "text": [
      "Train anomalies (pm10cnc): 2074\n",
      "Test anomalies (pm10cnc): 592\n",
      "Validation anomalies (pm10cnc): 293\n"
     ]
    },
    {
     "name": "stderr",
     "output_type": "stream",
     "text": [
      "C:\\Users\\21til\\AppData\\Local\\Temp\\ipykernel_21288\\2886358829.py:37: SettingWithCopyWarning: \n",
      "A value is trying to be set on a copy of a slice from a DataFrame\n",
      "\n",
      "See the caveats in the documentation: https://pandas.pydata.org/pandas-docs/stable/user_guide/indexing.html#returning-a-view-versus-a-copy\n",
      "  df.interpolate(method=\"time\", inplace=True)\n",
      "C:\\Users\\21til\\AppData\\Local\\Temp\\ipykernel_21288\\2886358829.py:59: FutureWarning: DataFrame.fillna with 'method' is deprecated and will raise in a future version. Use obj.ffill() or obj.bfill() instead.\n",
      "  df.fillna(method=\"ffill\", inplace=True)\n",
      "C:\\Users\\21til\\AppData\\Local\\Temp\\ipykernel_21288\\2886358829.py:60: FutureWarning: DataFrame.fillna with 'method' is deprecated and will raise in a future version. Use obj.ffill() or obj.bfill() instead.\n",
      "  df.fillna(method=\"bfill\", inplace=True)\n"
     ]
    },
    {
     "name": "stdout",
     "output_type": "stream",
     "text": [
      "Train anomalies (pm2_5cnc): 2064\n",
      "Test anomalies (pm2_5cnc): 585\n",
      "Validation anomalies (pm2_5cnc): 297\n",
      "✅ JSON saved: jsons/1431.json\n",
      "Processing site_1432_data.csv (Site ID: 1432)...\n"
     ]
    },
    {
     "name": "stderr",
     "output_type": "stream",
     "text": [
      "C:\\Users\\21til\\AppData\\Local\\Temp\\ipykernel_21288\\2886358829.py:37: SettingWithCopyWarning: \n",
      "A value is trying to be set on a copy of a slice from a DataFrame\n",
      "\n",
      "See the caveats in the documentation: https://pandas.pydata.org/pandas-docs/stable/user_guide/indexing.html#returning-a-view-versus-a-copy\n",
      "  df.interpolate(method=\"time\", inplace=True)\n",
      "C:\\Users\\21til\\AppData\\Local\\Temp\\ipykernel_21288\\2886358829.py:59: FutureWarning: DataFrame.fillna with 'method' is deprecated and will raise in a future version. Use obj.ffill() or obj.bfill() instead.\n",
      "  df.fillna(method=\"ffill\", inplace=True)\n",
      "C:\\Users\\21til\\AppData\\Local\\Temp\\ipykernel_21288\\2886358829.py:60: FutureWarning: DataFrame.fillna with 'method' is deprecated and will raise in a future version. Use obj.ffill() or obj.bfill() instead.\n",
      "  df.fillna(method=\"bfill\", inplace=True)\n"
     ]
    },
    {
     "name": "stdout",
     "output_type": "stream",
     "text": [
      "Train anomalies (pm10cnc): 2074\n",
      "Test anomalies (pm10cnc): 587\n",
      "Validation anomalies (pm10cnc): 297\n"
     ]
    },
    {
     "name": "stderr",
     "output_type": "stream",
     "text": [
      "C:\\Users\\21til\\AppData\\Local\\Temp\\ipykernel_21288\\2886358829.py:37: SettingWithCopyWarning: \n",
      "A value is trying to be set on a copy of a slice from a DataFrame\n",
      "\n",
      "See the caveats in the documentation: https://pandas.pydata.org/pandas-docs/stable/user_guide/indexing.html#returning-a-view-versus-a-copy\n",
      "  df.interpolate(method=\"time\", inplace=True)\n",
      "C:\\Users\\21til\\AppData\\Local\\Temp\\ipykernel_21288\\2886358829.py:59: FutureWarning: DataFrame.fillna with 'method' is deprecated and will raise in a future version. Use obj.ffill() or obj.bfill() instead.\n",
      "  df.fillna(method=\"ffill\", inplace=True)\n",
      "C:\\Users\\21til\\AppData\\Local\\Temp\\ipykernel_21288\\2886358829.py:60: FutureWarning: DataFrame.fillna with 'method' is deprecated and will raise in a future version. Use obj.ffill() or obj.bfill() instead.\n",
      "  df.fillna(method=\"bfill\", inplace=True)\n"
     ]
    },
    {
     "name": "stdout",
     "output_type": "stream",
     "text": [
      "Train anomalies (pm2_5cnc): 2057\n",
      "Test anomalies (pm2_5cnc): 581\n",
      "Validation anomalies (pm2_5cnc): 296\n",
      "✅ JSON saved: jsons/1432.json\n",
      "Processing site_1434_data.csv (Site ID: 1434)...\n"
     ]
    },
    {
     "name": "stderr",
     "output_type": "stream",
     "text": [
      "C:\\Users\\21til\\AppData\\Local\\Temp\\ipykernel_21288\\2886358829.py:37: SettingWithCopyWarning: \n",
      "A value is trying to be set on a copy of a slice from a DataFrame\n",
      "\n",
      "See the caveats in the documentation: https://pandas.pydata.org/pandas-docs/stable/user_guide/indexing.html#returning-a-view-versus-a-copy\n",
      "  df.interpolate(method=\"time\", inplace=True)\n",
      "C:\\Users\\21til\\AppData\\Local\\Temp\\ipykernel_21288\\2886358829.py:59: FutureWarning: DataFrame.fillna with 'method' is deprecated and will raise in a future version. Use obj.ffill() or obj.bfill() instead.\n",
      "  df.fillna(method=\"ffill\", inplace=True)\n",
      "C:\\Users\\21til\\AppData\\Local\\Temp\\ipykernel_21288\\2886358829.py:60: FutureWarning: DataFrame.fillna with 'method' is deprecated and will raise in a future version. Use obj.ffill() or obj.bfill() instead.\n",
      "  df.fillna(method=\"bfill\", inplace=True)\n"
     ]
    },
    {
     "name": "stdout",
     "output_type": "stream",
     "text": [
      "Train anomalies (pm10cnc): 2066\n",
      "Test anomalies (pm10cnc): 593\n",
      "Validation anomalies (pm10cnc): 297\n"
     ]
    },
    {
     "name": "stderr",
     "output_type": "stream",
     "text": [
      "C:\\Users\\21til\\AppData\\Local\\Temp\\ipykernel_21288\\2886358829.py:37: SettingWithCopyWarning: \n",
      "A value is trying to be set on a copy of a slice from a DataFrame\n",
      "\n",
      "See the caveats in the documentation: https://pandas.pydata.org/pandas-docs/stable/user_guide/indexing.html#returning-a-view-versus-a-copy\n",
      "  df.interpolate(method=\"time\", inplace=True)\n",
      "C:\\Users\\21til\\AppData\\Local\\Temp\\ipykernel_21288\\2886358829.py:59: FutureWarning: DataFrame.fillna with 'method' is deprecated and will raise in a future version. Use obj.ffill() or obj.bfill() instead.\n",
      "  df.fillna(method=\"ffill\", inplace=True)\n",
      "C:\\Users\\21til\\AppData\\Local\\Temp\\ipykernel_21288\\2886358829.py:60: FutureWarning: DataFrame.fillna with 'method' is deprecated and will raise in a future version. Use obj.ffill() or obj.bfill() instead.\n",
      "  df.fillna(method=\"bfill\", inplace=True)\n"
     ]
    },
    {
     "name": "stdout",
     "output_type": "stream",
     "text": [
      "Train anomalies (pm2_5cnc): 2037\n",
      "Test anomalies (pm2_5cnc): 585\n",
      "Validation anomalies (pm2_5cnc): 296\n",
      "✅ JSON saved: jsons/1434.json\n",
      "Processing site_1435_data.csv (Site ID: 1435)...\n"
     ]
    },
    {
     "name": "stderr",
     "output_type": "stream",
     "text": [
      "C:\\Users\\21til\\AppData\\Local\\Temp\\ipykernel_21288\\2886358829.py:37: SettingWithCopyWarning: \n",
      "A value is trying to be set on a copy of a slice from a DataFrame\n",
      "\n",
      "See the caveats in the documentation: https://pandas.pydata.org/pandas-docs/stable/user_guide/indexing.html#returning-a-view-versus-a-copy\n",
      "  df.interpolate(method=\"time\", inplace=True)\n",
      "C:\\Users\\21til\\AppData\\Local\\Temp\\ipykernel_21288\\2886358829.py:59: FutureWarning: DataFrame.fillna with 'method' is deprecated and will raise in a future version. Use obj.ffill() or obj.bfill() instead.\n",
      "  df.fillna(method=\"ffill\", inplace=True)\n",
      "C:\\Users\\21til\\AppData\\Local\\Temp\\ipykernel_21288\\2886358829.py:60: FutureWarning: DataFrame.fillna with 'method' is deprecated and will raise in a future version. Use obj.ffill() or obj.bfill() instead.\n",
      "  df.fillna(method=\"bfill\", inplace=True)\n"
     ]
    },
    {
     "name": "stdout",
     "output_type": "stream",
     "text": [
      "Train anomalies (pm10cnc): 2059\n",
      "Test anomalies (pm10cnc): 590\n",
      "Validation anomalies (pm10cnc): 291\n"
     ]
    },
    {
     "name": "stderr",
     "output_type": "stream",
     "text": [
      "C:\\Users\\21til\\AppData\\Local\\Temp\\ipykernel_21288\\2886358829.py:37: SettingWithCopyWarning: \n",
      "A value is trying to be set on a copy of a slice from a DataFrame\n",
      "\n",
      "See the caveats in the documentation: https://pandas.pydata.org/pandas-docs/stable/user_guide/indexing.html#returning-a-view-versus-a-copy\n",
      "  df.interpolate(method=\"time\", inplace=True)\n",
      "C:\\Users\\21til\\AppData\\Local\\Temp\\ipykernel_21288\\2886358829.py:59: FutureWarning: DataFrame.fillna with 'method' is deprecated and will raise in a future version. Use obj.ffill() or obj.bfill() instead.\n",
      "  df.fillna(method=\"ffill\", inplace=True)\n",
      "C:\\Users\\21til\\AppData\\Local\\Temp\\ipykernel_21288\\2886358829.py:60: FutureWarning: DataFrame.fillna with 'method' is deprecated and will raise in a future version. Use obj.ffill() or obj.bfill() instead.\n",
      "  df.fillna(method=\"bfill\", inplace=True)\n"
     ]
    },
    {
     "name": "stdout",
     "output_type": "stream",
     "text": [
      "Train anomalies (pm2_5cnc): 2074\n",
      "Test anomalies (pm2_5cnc): 588\n",
      "Validation anomalies (pm2_5cnc): 296\n",
      "✅ JSON saved: jsons/1435.json\n",
      "Processing site_1553_data.csv (Site ID: 1553)...\n"
     ]
    },
    {
     "name": "stderr",
     "output_type": "stream",
     "text": [
      "C:\\Users\\21til\\AppData\\Local\\Temp\\ipykernel_21288\\2886358829.py:37: SettingWithCopyWarning: \n",
      "A value is trying to be set on a copy of a slice from a DataFrame\n",
      "\n",
      "See the caveats in the documentation: https://pandas.pydata.org/pandas-docs/stable/user_guide/indexing.html#returning-a-view-versus-a-copy\n",
      "  df.interpolate(method=\"time\", inplace=True)\n",
      "C:\\Users\\21til\\AppData\\Local\\Temp\\ipykernel_21288\\2886358829.py:59: FutureWarning: DataFrame.fillna with 'method' is deprecated and will raise in a future version. Use obj.ffill() or obj.bfill() instead.\n",
      "  df.fillna(method=\"ffill\", inplace=True)\n",
      "C:\\Users\\21til\\AppData\\Local\\Temp\\ipykernel_21288\\2886358829.py:60: FutureWarning: DataFrame.fillna with 'method' is deprecated and will raise in a future version. Use obj.ffill() or obj.bfill() instead.\n",
      "  df.fillna(method=\"bfill\", inplace=True)\n"
     ]
    },
    {
     "name": "stdout",
     "output_type": "stream",
     "text": [
      "Train anomalies (pm10cnc): 2036\n",
      "Test anomalies (pm10cnc): 573\n",
      "Validation anomalies (pm10cnc): 297\n"
     ]
    },
    {
     "name": "stderr",
     "output_type": "stream",
     "text": [
      "C:\\Users\\21til\\AppData\\Local\\Temp\\ipykernel_21288\\2886358829.py:37: SettingWithCopyWarning: \n",
      "A value is trying to be set on a copy of a slice from a DataFrame\n",
      "\n",
      "See the caveats in the documentation: https://pandas.pydata.org/pandas-docs/stable/user_guide/indexing.html#returning-a-view-versus-a-copy\n",
      "  df.interpolate(method=\"time\", inplace=True)\n",
      "C:\\Users\\21til\\AppData\\Local\\Temp\\ipykernel_21288\\2886358829.py:59: FutureWarning: DataFrame.fillna with 'method' is deprecated and will raise in a future version. Use obj.ffill() or obj.bfill() instead.\n",
      "  df.fillna(method=\"ffill\", inplace=True)\n",
      "C:\\Users\\21til\\AppData\\Local\\Temp\\ipykernel_21288\\2886358829.py:60: FutureWarning: DataFrame.fillna with 'method' is deprecated and will raise in a future version. Use obj.ffill() or obj.bfill() instead.\n",
      "  df.fillna(method=\"bfill\", inplace=True)\n"
     ]
    },
    {
     "name": "stdout",
     "output_type": "stream",
     "text": [
      "Train anomalies (pm2_5cnc): 2074\n",
      "Test anomalies (pm2_5cnc): 593\n",
      "Validation anomalies (pm2_5cnc): 297\n",
      "✅ JSON saved: jsons/1553.json\n",
      "Processing site_1554_data.csv (Site ID: 1554)...\n"
     ]
    },
    {
     "name": "stderr",
     "output_type": "stream",
     "text": [
      "C:\\Users\\21til\\AppData\\Local\\Temp\\ipykernel_21288\\2886358829.py:37: SettingWithCopyWarning: \n",
      "A value is trying to be set on a copy of a slice from a DataFrame\n",
      "\n",
      "See the caveats in the documentation: https://pandas.pydata.org/pandas-docs/stable/user_guide/indexing.html#returning-a-view-versus-a-copy\n",
      "  df.interpolate(method=\"time\", inplace=True)\n",
      "C:\\Users\\21til\\AppData\\Local\\Temp\\ipykernel_21288\\2886358829.py:59: FutureWarning: DataFrame.fillna with 'method' is deprecated and will raise in a future version. Use obj.ffill() or obj.bfill() instead.\n",
      "  df.fillna(method=\"ffill\", inplace=True)\n",
      "C:\\Users\\21til\\AppData\\Local\\Temp\\ipykernel_21288\\2886358829.py:60: FutureWarning: DataFrame.fillna with 'method' is deprecated and will raise in a future version. Use obj.ffill() or obj.bfill() instead.\n",
      "  df.fillna(method=\"bfill\", inplace=True)\n"
     ]
    },
    {
     "name": "stdout",
     "output_type": "stream",
     "text": [
      "Train anomalies (pm10cnc): 2039\n",
      "Test anomalies (pm10cnc): 592\n",
      "Validation anomalies (pm10cnc): 290\n"
     ]
    },
    {
     "name": "stderr",
     "output_type": "stream",
     "text": [
      "C:\\Users\\21til\\AppData\\Local\\Temp\\ipykernel_21288\\2886358829.py:37: SettingWithCopyWarning: \n",
      "A value is trying to be set on a copy of a slice from a DataFrame\n",
      "\n",
      "See the caveats in the documentation: https://pandas.pydata.org/pandas-docs/stable/user_guide/indexing.html#returning-a-view-versus-a-copy\n",
      "  df.interpolate(method=\"time\", inplace=True)\n",
      "C:\\Users\\21til\\AppData\\Local\\Temp\\ipykernel_21288\\2886358829.py:59: FutureWarning: DataFrame.fillna with 'method' is deprecated and will raise in a future version. Use obj.ffill() or obj.bfill() instead.\n",
      "  df.fillna(method=\"ffill\", inplace=True)\n",
      "C:\\Users\\21til\\AppData\\Local\\Temp\\ipykernel_21288\\2886358829.py:60: FutureWarning: DataFrame.fillna with 'method' is deprecated and will raise in a future version. Use obj.ffill() or obj.bfill() instead.\n",
      "  df.fillna(method=\"bfill\", inplace=True)\n"
     ]
    },
    {
     "name": "stdout",
     "output_type": "stream",
     "text": [
      "Train anomalies (pm2_5cnc): 2050\n",
      "Test anomalies (pm2_5cnc): 593\n",
      "Validation anomalies (pm2_5cnc): 294\n",
      "✅ JSON saved: jsons/1554.json\n",
      "Processing site_1555_data.csv (Site ID: 1555)...\n"
     ]
    },
    {
     "name": "stderr",
     "output_type": "stream",
     "text": [
      "C:\\Users\\21til\\AppData\\Local\\Temp\\ipykernel_21288\\2886358829.py:37: SettingWithCopyWarning: \n",
      "A value is trying to be set on a copy of a slice from a DataFrame\n",
      "\n",
      "See the caveats in the documentation: https://pandas.pydata.org/pandas-docs/stable/user_guide/indexing.html#returning-a-view-versus-a-copy\n",
      "  df.interpolate(method=\"time\", inplace=True)\n",
      "C:\\Users\\21til\\AppData\\Local\\Temp\\ipykernel_21288\\2886358829.py:59: FutureWarning: DataFrame.fillna with 'method' is deprecated and will raise in a future version. Use obj.ffill() or obj.bfill() instead.\n",
      "  df.fillna(method=\"ffill\", inplace=True)\n",
      "C:\\Users\\21til\\AppData\\Local\\Temp\\ipykernel_21288\\2886358829.py:60: FutureWarning: DataFrame.fillna with 'method' is deprecated and will raise in a future version. Use obj.ffill() or obj.bfill() instead.\n",
      "  df.fillna(method=\"bfill\", inplace=True)\n"
     ]
    },
    {
     "name": "stdout",
     "output_type": "stream",
     "text": [
      "Train anomalies (pm10cnc): 2049\n",
      "Test anomalies (pm10cnc): 593\n",
      "Validation anomalies (pm10cnc): 270\n"
     ]
    },
    {
     "name": "stderr",
     "output_type": "stream",
     "text": [
      "C:\\Users\\21til\\AppData\\Local\\Temp\\ipykernel_21288\\2886358829.py:37: SettingWithCopyWarning: \n",
      "A value is trying to be set on a copy of a slice from a DataFrame\n",
      "\n",
      "See the caveats in the documentation: https://pandas.pydata.org/pandas-docs/stable/user_guide/indexing.html#returning-a-view-versus-a-copy\n",
      "  df.interpolate(method=\"time\", inplace=True)\n",
      "C:\\Users\\21til\\AppData\\Local\\Temp\\ipykernel_21288\\2886358829.py:59: FutureWarning: DataFrame.fillna with 'method' is deprecated and will raise in a future version. Use obj.ffill() or obj.bfill() instead.\n",
      "  df.fillna(method=\"ffill\", inplace=True)\n",
      "C:\\Users\\21til\\AppData\\Local\\Temp\\ipykernel_21288\\2886358829.py:60: FutureWarning: DataFrame.fillna with 'method' is deprecated and will raise in a future version. Use obj.ffill() or obj.bfill() instead.\n",
      "  df.fillna(method=\"bfill\", inplace=True)\n"
     ]
    },
    {
     "name": "stdout",
     "output_type": "stream",
     "text": [
      "Train anomalies (pm2_5cnc): 2020\n",
      "Test anomalies (pm2_5cnc): 593\n",
      "Validation anomalies (pm2_5cnc): 288\n",
      "✅ JSON saved: jsons/1555.json\n",
      "Processing site_1556_data.csv (Site ID: 1556)...\n"
     ]
    },
    {
     "name": "stderr",
     "output_type": "stream",
     "text": [
      "C:\\Users\\21til\\AppData\\Local\\Temp\\ipykernel_21288\\2886358829.py:37: SettingWithCopyWarning: \n",
      "A value is trying to be set on a copy of a slice from a DataFrame\n",
      "\n",
      "See the caveats in the documentation: https://pandas.pydata.org/pandas-docs/stable/user_guide/indexing.html#returning-a-view-versus-a-copy\n",
      "  df.interpolate(method=\"time\", inplace=True)\n",
      "C:\\Users\\21til\\AppData\\Local\\Temp\\ipykernel_21288\\2886358829.py:59: FutureWarning: DataFrame.fillna with 'method' is deprecated and will raise in a future version. Use obj.ffill() or obj.bfill() instead.\n",
      "  df.fillna(method=\"ffill\", inplace=True)\n",
      "C:\\Users\\21til\\AppData\\Local\\Temp\\ipykernel_21288\\2886358829.py:60: FutureWarning: DataFrame.fillna with 'method' is deprecated and will raise in a future version. Use obj.ffill() or obj.bfill() instead.\n",
      "  df.fillna(method=\"bfill\", inplace=True)\n"
     ]
    },
    {
     "name": "stdout",
     "output_type": "stream",
     "text": [
      "Train anomalies (pm10cnc): 2048\n",
      "Test anomalies (pm10cnc): 580\n",
      "Validation anomalies (pm10cnc): 283\n"
     ]
    },
    {
     "name": "stderr",
     "output_type": "stream",
     "text": [
      "C:\\Users\\21til\\AppData\\Local\\Temp\\ipykernel_21288\\2886358829.py:37: SettingWithCopyWarning: \n",
      "A value is trying to be set on a copy of a slice from a DataFrame\n",
      "\n",
      "See the caveats in the documentation: https://pandas.pydata.org/pandas-docs/stable/user_guide/indexing.html#returning-a-view-versus-a-copy\n",
      "  df.interpolate(method=\"time\", inplace=True)\n",
      "C:\\Users\\21til\\AppData\\Local\\Temp\\ipykernel_21288\\2886358829.py:59: FutureWarning: DataFrame.fillna with 'method' is deprecated and will raise in a future version. Use obj.ffill() or obj.bfill() instead.\n",
      "  df.fillna(method=\"ffill\", inplace=True)\n",
      "C:\\Users\\21til\\AppData\\Local\\Temp\\ipykernel_21288\\2886358829.py:60: FutureWarning: DataFrame.fillna with 'method' is deprecated and will raise in a future version. Use obj.ffill() or obj.bfill() instead.\n",
      "  df.fillna(method=\"bfill\", inplace=True)\n"
     ]
    },
    {
     "name": "stdout",
     "output_type": "stream",
     "text": [
      "Train anomalies (pm2_5cnc): 2022\n",
      "Test anomalies (pm2_5cnc): 588\n",
      "Validation anomalies (pm2_5cnc): 290\n",
      "✅ JSON saved: jsons/1556.json\n",
      "Processing site_1558_data.csv (Site ID: 1558)...\n"
     ]
    },
    {
     "name": "stderr",
     "output_type": "stream",
     "text": [
      "C:\\Users\\21til\\AppData\\Local\\Temp\\ipykernel_21288\\2886358829.py:37: SettingWithCopyWarning: \n",
      "A value is trying to be set on a copy of a slice from a DataFrame\n",
      "\n",
      "See the caveats in the documentation: https://pandas.pydata.org/pandas-docs/stable/user_guide/indexing.html#returning-a-view-versus-a-copy\n",
      "  df.interpolate(method=\"time\", inplace=True)\n",
      "C:\\Users\\21til\\AppData\\Local\\Temp\\ipykernel_21288\\2886358829.py:59: FutureWarning: DataFrame.fillna with 'method' is deprecated and will raise in a future version. Use obj.ffill() or obj.bfill() instead.\n",
      "  df.fillna(method=\"ffill\", inplace=True)\n",
      "C:\\Users\\21til\\AppData\\Local\\Temp\\ipykernel_21288\\2886358829.py:60: FutureWarning: DataFrame.fillna with 'method' is deprecated and will raise in a future version. Use obj.ffill() or obj.bfill() instead.\n",
      "  df.fillna(method=\"bfill\", inplace=True)\n"
     ]
    },
    {
     "name": "stdout",
     "output_type": "stream",
     "text": [
      "Train anomalies (pm10cnc): 2057\n",
      "Test anomalies (pm10cnc): 589\n",
      "Validation anomalies (pm10cnc): 297\n"
     ]
    },
    {
     "name": "stderr",
     "output_type": "stream",
     "text": [
      "C:\\Users\\21til\\AppData\\Local\\Temp\\ipykernel_21288\\2886358829.py:37: SettingWithCopyWarning: \n",
      "A value is trying to be set on a copy of a slice from a DataFrame\n",
      "\n",
      "See the caveats in the documentation: https://pandas.pydata.org/pandas-docs/stable/user_guide/indexing.html#returning-a-view-versus-a-copy\n",
      "  df.interpolate(method=\"time\", inplace=True)\n",
      "C:\\Users\\21til\\AppData\\Local\\Temp\\ipykernel_21288\\2886358829.py:59: FutureWarning: DataFrame.fillna with 'method' is deprecated and will raise in a future version. Use obj.ffill() or obj.bfill() instead.\n",
      "  df.fillna(method=\"ffill\", inplace=True)\n",
      "C:\\Users\\21til\\AppData\\Local\\Temp\\ipykernel_21288\\2886358829.py:60: FutureWarning: DataFrame.fillna with 'method' is deprecated and will raise in a future version. Use obj.ffill() or obj.bfill() instead.\n",
      "  df.fillna(method=\"bfill\", inplace=True)\n"
     ]
    },
    {
     "name": "stdout",
     "output_type": "stream",
     "text": [
      "Train anomalies (pm2_5cnc): 2062\n",
      "Test anomalies (pm2_5cnc): 588\n",
      "Validation anomalies (pm2_5cnc): 294\n",
      "✅ JSON saved: jsons/1558.json\n",
      "Processing site_1560_data.csv (Site ID: 1560)...\n"
     ]
    },
    {
     "name": "stderr",
     "output_type": "stream",
     "text": [
      "C:\\Users\\21til\\AppData\\Local\\Temp\\ipykernel_21288\\2886358829.py:37: SettingWithCopyWarning: \n",
      "A value is trying to be set on a copy of a slice from a DataFrame\n",
      "\n",
      "See the caveats in the documentation: https://pandas.pydata.org/pandas-docs/stable/user_guide/indexing.html#returning-a-view-versus-a-copy\n",
      "  df.interpolate(method=\"time\", inplace=True)\n",
      "C:\\Users\\21til\\AppData\\Local\\Temp\\ipykernel_21288\\2886358829.py:59: FutureWarning: DataFrame.fillna with 'method' is deprecated and will raise in a future version. Use obj.ffill() or obj.bfill() instead.\n",
      "  df.fillna(method=\"ffill\", inplace=True)\n",
      "C:\\Users\\21til\\AppData\\Local\\Temp\\ipykernel_21288\\2886358829.py:60: FutureWarning: DataFrame.fillna with 'method' is deprecated and will raise in a future version. Use obj.ffill() or obj.bfill() instead.\n",
      "  df.fillna(method=\"bfill\", inplace=True)\n"
     ]
    },
    {
     "name": "stdout",
     "output_type": "stream",
     "text": [
      "Train anomalies (pm10cnc): 2072\n",
      "Test anomalies (pm10cnc): 588\n",
      "Validation anomalies (pm10cnc): 294\n"
     ]
    },
    {
     "name": "stderr",
     "output_type": "stream",
     "text": [
      "C:\\Users\\21til\\AppData\\Local\\Temp\\ipykernel_21288\\2886358829.py:37: SettingWithCopyWarning: \n",
      "A value is trying to be set on a copy of a slice from a DataFrame\n",
      "\n",
      "See the caveats in the documentation: https://pandas.pydata.org/pandas-docs/stable/user_guide/indexing.html#returning-a-view-versus-a-copy\n",
      "  df.interpolate(method=\"time\", inplace=True)\n",
      "C:\\Users\\21til\\AppData\\Local\\Temp\\ipykernel_21288\\2886358829.py:59: FutureWarning: DataFrame.fillna with 'method' is deprecated and will raise in a future version. Use obj.ffill() or obj.bfill() instead.\n",
      "  df.fillna(method=\"ffill\", inplace=True)\n",
      "C:\\Users\\21til\\AppData\\Local\\Temp\\ipykernel_21288\\2886358829.py:60: FutureWarning: DataFrame.fillna with 'method' is deprecated and will raise in a future version. Use obj.ffill() or obj.bfill() instead.\n",
      "  df.fillna(method=\"bfill\", inplace=True)\n"
     ]
    },
    {
     "name": "stdout",
     "output_type": "stream",
     "text": [
      "Train anomalies (pm2_5cnc): 2059\n",
      "Test anomalies (pm2_5cnc): 592\n",
      "Validation anomalies (pm2_5cnc): 295\n",
      "✅ JSON saved: jsons/1560.json\n",
      "Processing site_1561_data.csv (Site ID: 1561)...\n"
     ]
    },
    {
     "name": "stderr",
     "output_type": "stream",
     "text": [
      "C:\\Users\\21til\\AppData\\Local\\Temp\\ipykernel_21288\\2886358829.py:37: SettingWithCopyWarning: \n",
      "A value is trying to be set on a copy of a slice from a DataFrame\n",
      "\n",
      "See the caveats in the documentation: https://pandas.pydata.org/pandas-docs/stable/user_guide/indexing.html#returning-a-view-versus-a-copy\n",
      "  df.interpolate(method=\"time\", inplace=True)\n",
      "C:\\Users\\21til\\AppData\\Local\\Temp\\ipykernel_21288\\2886358829.py:59: FutureWarning: DataFrame.fillna with 'method' is deprecated and will raise in a future version. Use obj.ffill() or obj.bfill() instead.\n",
      "  df.fillna(method=\"ffill\", inplace=True)\n",
      "C:\\Users\\21til\\AppData\\Local\\Temp\\ipykernel_21288\\2886358829.py:60: FutureWarning: DataFrame.fillna with 'method' is deprecated and will raise in a future version. Use obj.ffill() or obj.bfill() instead.\n",
      "  df.fillna(method=\"bfill\", inplace=True)\n"
     ]
    },
    {
     "name": "stdout",
     "output_type": "stream",
     "text": [
      "Train anomalies (pm10cnc): 2068\n",
      "Test anomalies (pm10cnc): 591\n",
      "Validation anomalies (pm10cnc): 297\n"
     ]
    },
    {
     "name": "stderr",
     "output_type": "stream",
     "text": [
      "C:\\Users\\21til\\AppData\\Local\\Temp\\ipykernel_21288\\2886358829.py:37: SettingWithCopyWarning: \n",
      "A value is trying to be set on a copy of a slice from a DataFrame\n",
      "\n",
      "See the caveats in the documentation: https://pandas.pydata.org/pandas-docs/stable/user_guide/indexing.html#returning-a-view-versus-a-copy\n",
      "  df.interpolate(method=\"time\", inplace=True)\n",
      "C:\\Users\\21til\\AppData\\Local\\Temp\\ipykernel_21288\\2886358829.py:59: FutureWarning: DataFrame.fillna with 'method' is deprecated and will raise in a future version. Use obj.ffill() or obj.bfill() instead.\n",
      "  df.fillna(method=\"ffill\", inplace=True)\n",
      "C:\\Users\\21til\\AppData\\Local\\Temp\\ipykernel_21288\\2886358829.py:60: FutureWarning: DataFrame.fillna with 'method' is deprecated and will raise in a future version. Use obj.ffill() or obj.bfill() instead.\n",
      "  df.fillna(method=\"bfill\", inplace=True)\n"
     ]
    },
    {
     "name": "stdout",
     "output_type": "stream",
     "text": [
      "Train anomalies (pm2_5cnc): 2071\n",
      "Test anomalies (pm2_5cnc): 593\n",
      "Validation anomalies (pm2_5cnc): 296\n",
      "✅ JSON saved: jsons/1561.json\n",
      "Processing site_1562_data.csv (Site ID: 1562)...\n"
     ]
    },
    {
     "name": "stderr",
     "output_type": "stream",
     "text": [
      "C:\\Users\\21til\\AppData\\Local\\Temp\\ipykernel_21288\\2886358829.py:37: SettingWithCopyWarning: \n",
      "A value is trying to be set on a copy of a slice from a DataFrame\n",
      "\n",
      "See the caveats in the documentation: https://pandas.pydata.org/pandas-docs/stable/user_guide/indexing.html#returning-a-view-versus-a-copy\n",
      "  df.interpolate(method=\"time\", inplace=True)\n",
      "C:\\Users\\21til\\AppData\\Local\\Temp\\ipykernel_21288\\2886358829.py:59: FutureWarning: DataFrame.fillna with 'method' is deprecated and will raise in a future version. Use obj.ffill() or obj.bfill() instead.\n",
      "  df.fillna(method=\"ffill\", inplace=True)\n",
      "C:\\Users\\21til\\AppData\\Local\\Temp\\ipykernel_21288\\2886358829.py:60: FutureWarning: DataFrame.fillna with 'method' is deprecated and will raise in a future version. Use obj.ffill() or obj.bfill() instead.\n",
      "  df.fillna(method=\"bfill\", inplace=True)\n"
     ]
    },
    {
     "name": "stdout",
     "output_type": "stream",
     "text": [
      "Train anomalies (pm10cnc): 2074\n",
      "Test anomalies (pm10cnc): 588\n",
      "Validation anomalies (pm10cnc): 296\n"
     ]
    },
    {
     "name": "stderr",
     "output_type": "stream",
     "text": [
      "C:\\Users\\21til\\AppData\\Local\\Temp\\ipykernel_21288\\2886358829.py:37: SettingWithCopyWarning: \n",
      "A value is trying to be set on a copy of a slice from a DataFrame\n",
      "\n",
      "See the caveats in the documentation: https://pandas.pydata.org/pandas-docs/stable/user_guide/indexing.html#returning-a-view-versus-a-copy\n",
      "  df.interpolate(method=\"time\", inplace=True)\n",
      "C:\\Users\\21til\\AppData\\Local\\Temp\\ipykernel_21288\\2886358829.py:59: FutureWarning: DataFrame.fillna with 'method' is deprecated and will raise in a future version. Use obj.ffill() or obj.bfill() instead.\n",
      "  df.fillna(method=\"ffill\", inplace=True)\n",
      "C:\\Users\\21til\\AppData\\Local\\Temp\\ipykernel_21288\\2886358829.py:60: FutureWarning: DataFrame.fillna with 'method' is deprecated and will raise in a future version. Use obj.ffill() or obj.bfill() instead.\n",
      "  df.fillna(method=\"bfill\", inplace=True)\n"
     ]
    },
    {
     "name": "stdout",
     "output_type": "stream",
     "text": [
      "Train anomalies (pm2_5cnc): 1979\n",
      "Test anomalies (pm2_5cnc): 587\n",
      "Validation anomalies (pm2_5cnc): 290\n",
      "✅ JSON saved: jsons/1562.json\n",
      "Processing site_1563_data.csv (Site ID: 1563)...\n"
     ]
    },
    {
     "name": "stderr",
     "output_type": "stream",
     "text": [
      "C:\\Users\\21til\\AppData\\Local\\Temp\\ipykernel_21288\\2886358829.py:37: SettingWithCopyWarning: \n",
      "A value is trying to be set on a copy of a slice from a DataFrame\n",
      "\n",
      "See the caveats in the documentation: https://pandas.pydata.org/pandas-docs/stable/user_guide/indexing.html#returning-a-view-versus-a-copy\n",
      "  df.interpolate(method=\"time\", inplace=True)\n",
      "C:\\Users\\21til\\AppData\\Local\\Temp\\ipykernel_21288\\2886358829.py:59: FutureWarning: DataFrame.fillna with 'method' is deprecated and will raise in a future version. Use obj.ffill() or obj.bfill() instead.\n",
      "  df.fillna(method=\"ffill\", inplace=True)\n",
      "C:\\Users\\21til\\AppData\\Local\\Temp\\ipykernel_21288\\2886358829.py:60: FutureWarning: DataFrame.fillna with 'method' is deprecated and will raise in a future version. Use obj.ffill() or obj.bfill() instead.\n",
      "  df.fillna(method=\"bfill\", inplace=True)\n"
     ]
    },
    {
     "name": "stdout",
     "output_type": "stream",
     "text": [
      "Train anomalies (pm10cnc): 2072\n",
      "Test anomalies (pm10cnc): 589\n",
      "Validation anomalies (pm10cnc): 294\n"
     ]
    },
    {
     "name": "stderr",
     "output_type": "stream",
     "text": [
      "C:\\Users\\21til\\AppData\\Local\\Temp\\ipykernel_21288\\2886358829.py:37: SettingWithCopyWarning: \n",
      "A value is trying to be set on a copy of a slice from a DataFrame\n",
      "\n",
      "See the caveats in the documentation: https://pandas.pydata.org/pandas-docs/stable/user_guide/indexing.html#returning-a-view-versus-a-copy\n",
      "  df.interpolate(method=\"time\", inplace=True)\n",
      "C:\\Users\\21til\\AppData\\Local\\Temp\\ipykernel_21288\\2886358829.py:59: FutureWarning: DataFrame.fillna with 'method' is deprecated and will raise in a future version. Use obj.ffill() or obj.bfill() instead.\n",
      "  df.fillna(method=\"ffill\", inplace=True)\n",
      "C:\\Users\\21til\\AppData\\Local\\Temp\\ipykernel_21288\\2886358829.py:60: FutureWarning: DataFrame.fillna with 'method' is deprecated and will raise in a future version. Use obj.ffill() or obj.bfill() instead.\n",
      "  df.fillna(method=\"bfill\", inplace=True)\n"
     ]
    },
    {
     "name": "stdout",
     "output_type": "stream",
     "text": [
      "Train anomalies (pm2_5cnc): 2070\n",
      "Test anomalies (pm2_5cnc): 586\n",
      "Validation anomalies (pm2_5cnc): 297\n",
      "✅ JSON saved: jsons/1563.json\n",
      "Processing site_162_data.csv (Site ID: 162)...\n"
     ]
    },
    {
     "name": "stderr",
     "output_type": "stream",
     "text": [
      "C:\\Users\\21til\\AppData\\Local\\Temp\\ipykernel_21288\\2886358829.py:37: SettingWithCopyWarning: \n",
      "A value is trying to be set on a copy of a slice from a DataFrame\n",
      "\n",
      "See the caveats in the documentation: https://pandas.pydata.org/pandas-docs/stable/user_guide/indexing.html#returning-a-view-versus-a-copy\n",
      "  df.interpolate(method=\"time\", inplace=True)\n",
      "C:\\Users\\21til\\AppData\\Local\\Temp\\ipykernel_21288\\2886358829.py:59: FutureWarning: DataFrame.fillna with 'method' is deprecated and will raise in a future version. Use obj.ffill() or obj.bfill() instead.\n",
      "  df.fillna(method=\"ffill\", inplace=True)\n",
      "C:\\Users\\21til\\AppData\\Local\\Temp\\ipykernel_21288\\2886358829.py:60: FutureWarning: DataFrame.fillna with 'method' is deprecated and will raise in a future version. Use obj.ffill() or obj.bfill() instead.\n",
      "  df.fillna(method=\"bfill\", inplace=True)\n"
     ]
    },
    {
     "name": "stdout",
     "output_type": "stream",
     "text": [
      "Train anomalies (pm10cnc): 2074\n",
      "Test anomalies (pm10cnc): 591\n",
      "Validation anomalies (pm10cnc): 297\n"
     ]
    },
    {
     "name": "stderr",
     "output_type": "stream",
     "text": [
      "C:\\Users\\21til\\AppData\\Local\\Temp\\ipykernel_21288\\2886358829.py:37: SettingWithCopyWarning: \n",
      "A value is trying to be set on a copy of a slice from a DataFrame\n",
      "\n",
      "See the caveats in the documentation: https://pandas.pydata.org/pandas-docs/stable/user_guide/indexing.html#returning-a-view-versus-a-copy\n",
      "  df.interpolate(method=\"time\", inplace=True)\n",
      "C:\\Users\\21til\\AppData\\Local\\Temp\\ipykernel_21288\\2886358829.py:59: FutureWarning: DataFrame.fillna with 'method' is deprecated and will raise in a future version. Use obj.ffill() or obj.bfill() instead.\n",
      "  df.fillna(method=\"ffill\", inplace=True)\n",
      "C:\\Users\\21til\\AppData\\Local\\Temp\\ipykernel_21288\\2886358829.py:60: FutureWarning: DataFrame.fillna with 'method' is deprecated and will raise in a future version. Use obj.ffill() or obj.bfill() instead.\n",
      "  df.fillna(method=\"bfill\", inplace=True)\n"
     ]
    },
    {
     "name": "stdout",
     "output_type": "stream",
     "text": [
      "Train anomalies (pm2_5cnc): 2074\n",
      "Test anomalies (pm2_5cnc): 593\n",
      "Validation anomalies (pm2_5cnc): 297\n",
      "✅ JSON saved: jsons/162.json\n",
      "Processing site_163_data.csv (Site ID: 163)...\n"
     ]
    },
    {
     "name": "stderr",
     "output_type": "stream",
     "text": [
      "C:\\Users\\21til\\AppData\\Local\\Temp\\ipykernel_21288\\2886358829.py:37: SettingWithCopyWarning: \n",
      "A value is trying to be set on a copy of a slice from a DataFrame\n",
      "\n",
      "See the caveats in the documentation: https://pandas.pydata.org/pandas-docs/stable/user_guide/indexing.html#returning-a-view-versus-a-copy\n",
      "  df.interpolate(method=\"time\", inplace=True)\n",
      "C:\\Users\\21til\\AppData\\Local\\Temp\\ipykernel_21288\\2886358829.py:59: FutureWarning: DataFrame.fillna with 'method' is deprecated and will raise in a future version. Use obj.ffill() or obj.bfill() instead.\n",
      "  df.fillna(method=\"ffill\", inplace=True)\n",
      "C:\\Users\\21til\\AppData\\Local\\Temp\\ipykernel_21288\\2886358829.py:60: FutureWarning: DataFrame.fillna with 'method' is deprecated and will raise in a future version. Use obj.ffill() or obj.bfill() instead.\n",
      "  df.fillna(method=\"bfill\", inplace=True)\n"
     ]
    },
    {
     "name": "stdout",
     "output_type": "stream",
     "text": [
      "Train anomalies (pm10cnc): 2072\n",
      "Test anomalies (pm10cnc): 592\n",
      "Validation anomalies (pm10cnc): 296\n"
     ]
    },
    {
     "name": "stderr",
     "output_type": "stream",
     "text": [
      "C:\\Users\\21til\\AppData\\Local\\Temp\\ipykernel_21288\\2886358829.py:37: SettingWithCopyWarning: \n",
      "A value is trying to be set on a copy of a slice from a DataFrame\n",
      "\n",
      "See the caveats in the documentation: https://pandas.pydata.org/pandas-docs/stable/user_guide/indexing.html#returning-a-view-versus-a-copy\n",
      "  df.interpolate(method=\"time\", inplace=True)\n",
      "C:\\Users\\21til\\AppData\\Local\\Temp\\ipykernel_21288\\2886358829.py:59: FutureWarning: DataFrame.fillna with 'method' is deprecated and will raise in a future version. Use obj.ffill() or obj.bfill() instead.\n",
      "  df.fillna(method=\"ffill\", inplace=True)\n",
      "C:\\Users\\21til\\AppData\\Local\\Temp\\ipykernel_21288\\2886358829.py:60: FutureWarning: DataFrame.fillna with 'method' is deprecated and will raise in a future version. Use obj.ffill() or obj.bfill() instead.\n",
      "  df.fillna(method=\"bfill\", inplace=True)\n"
     ]
    },
    {
     "name": "stdout",
     "output_type": "stream",
     "text": [
      "Train anomalies (pm2_5cnc): 2068\n",
      "Test anomalies (pm2_5cnc): 593\n",
      "Validation anomalies (pm2_5cnc): 296\n",
      "✅ JSON saved: jsons/163.json\n",
      "Processing site_165_data.csv (Site ID: 165)...\n"
     ]
    },
    {
     "name": "stderr",
     "output_type": "stream",
     "text": [
      "C:\\Users\\21til\\AppData\\Local\\Temp\\ipykernel_21288\\2886358829.py:37: SettingWithCopyWarning: \n",
      "A value is trying to be set on a copy of a slice from a DataFrame\n",
      "\n",
      "See the caveats in the documentation: https://pandas.pydata.org/pandas-docs/stable/user_guide/indexing.html#returning-a-view-versus-a-copy\n",
      "  df.interpolate(method=\"time\", inplace=True)\n",
      "C:\\Users\\21til\\AppData\\Local\\Temp\\ipykernel_21288\\2886358829.py:59: FutureWarning: DataFrame.fillna with 'method' is deprecated and will raise in a future version. Use obj.ffill() or obj.bfill() instead.\n",
      "  df.fillna(method=\"ffill\", inplace=True)\n",
      "C:\\Users\\21til\\AppData\\Local\\Temp\\ipykernel_21288\\2886358829.py:60: FutureWarning: DataFrame.fillna with 'method' is deprecated and will raise in a future version. Use obj.ffill() or obj.bfill() instead.\n",
      "  df.fillna(method=\"bfill\", inplace=True)\n"
     ]
    },
    {
     "name": "stdout",
     "output_type": "stream",
     "text": [
      "Train anomalies (pm10cnc): 2074\n",
      "Test anomalies (pm10cnc): 593\n",
      "Validation anomalies (pm10cnc): 295\n"
     ]
    },
    {
     "name": "stderr",
     "output_type": "stream",
     "text": [
      "C:\\Users\\21til\\AppData\\Local\\Temp\\ipykernel_21288\\2886358829.py:37: SettingWithCopyWarning: \n",
      "A value is trying to be set on a copy of a slice from a DataFrame\n",
      "\n",
      "See the caveats in the documentation: https://pandas.pydata.org/pandas-docs/stable/user_guide/indexing.html#returning-a-view-versus-a-copy\n",
      "  df.interpolate(method=\"time\", inplace=True)\n",
      "C:\\Users\\21til\\AppData\\Local\\Temp\\ipykernel_21288\\2886358829.py:59: FutureWarning: DataFrame.fillna with 'method' is deprecated and will raise in a future version. Use obj.ffill() or obj.bfill() instead.\n",
      "  df.fillna(method=\"ffill\", inplace=True)\n",
      "C:\\Users\\21til\\AppData\\Local\\Temp\\ipykernel_21288\\2886358829.py:60: FutureWarning: DataFrame.fillna with 'method' is deprecated and will raise in a future version. Use obj.ffill() or obj.bfill() instead.\n",
      "  df.fillna(method=\"bfill\", inplace=True)\n"
     ]
    },
    {
     "name": "stdout",
     "output_type": "stream",
     "text": [
      "Train anomalies (pm2_5cnc): 0\n",
      "Test anomalies (pm2_5cnc): 0\n",
      "Validation anomalies (pm2_5cnc): 0\n",
      "✅ JSON saved: jsons/165.json\n",
      "Processing site_166_data.csv (Site ID: 166)...\n"
     ]
    },
    {
     "name": "stderr",
     "output_type": "stream",
     "text": [
      "C:\\Users\\21til\\AppData\\Local\\Temp\\ipykernel_21288\\2886358829.py:37: SettingWithCopyWarning: \n",
      "A value is trying to be set on a copy of a slice from a DataFrame\n",
      "\n",
      "See the caveats in the documentation: https://pandas.pydata.org/pandas-docs/stable/user_guide/indexing.html#returning-a-view-versus-a-copy\n",
      "  df.interpolate(method=\"time\", inplace=True)\n",
      "C:\\Users\\21til\\AppData\\Local\\Temp\\ipykernel_21288\\2886358829.py:59: FutureWarning: DataFrame.fillna with 'method' is deprecated and will raise in a future version. Use obj.ffill() or obj.bfill() instead.\n",
      "  df.fillna(method=\"ffill\", inplace=True)\n",
      "C:\\Users\\21til\\AppData\\Local\\Temp\\ipykernel_21288\\2886358829.py:60: FutureWarning: DataFrame.fillna with 'method' is deprecated and will raise in a future version. Use obj.ffill() or obj.bfill() instead.\n",
      "  df.fillna(method=\"bfill\", inplace=True)\n"
     ]
    },
    {
     "name": "stdout",
     "output_type": "stream",
     "text": [
      "Train anomalies (pm10cnc): 2074\n",
      "Test anomalies (pm10cnc): 592\n",
      "Validation anomalies (pm10cnc): 291\n"
     ]
    },
    {
     "name": "stderr",
     "output_type": "stream",
     "text": [
      "C:\\Users\\21til\\AppData\\Local\\Temp\\ipykernel_21288\\2886358829.py:37: SettingWithCopyWarning: \n",
      "A value is trying to be set on a copy of a slice from a DataFrame\n",
      "\n",
      "See the caveats in the documentation: https://pandas.pydata.org/pandas-docs/stable/user_guide/indexing.html#returning-a-view-versus-a-copy\n",
      "  df.interpolate(method=\"time\", inplace=True)\n",
      "C:\\Users\\21til\\AppData\\Local\\Temp\\ipykernel_21288\\2886358829.py:59: FutureWarning: DataFrame.fillna with 'method' is deprecated and will raise in a future version. Use obj.ffill() or obj.bfill() instead.\n",
      "  df.fillna(method=\"ffill\", inplace=True)\n",
      "C:\\Users\\21til\\AppData\\Local\\Temp\\ipykernel_21288\\2886358829.py:60: FutureWarning: DataFrame.fillna with 'method' is deprecated and will raise in a future version. Use obj.ffill() or obj.bfill() instead.\n",
      "  df.fillna(method=\"bfill\", inplace=True)\n"
     ]
    },
    {
     "name": "stdout",
     "output_type": "stream",
     "text": [
      "Train anomalies (pm2_5cnc): 0\n",
      "Test anomalies (pm2_5cnc): 0\n",
      "Validation anomalies (pm2_5cnc): 0\n",
      "✅ JSON saved: jsons/166.json\n",
      "Processing site_199_data.csv (Site ID: 199)...\n"
     ]
    },
    {
     "name": "stderr",
     "output_type": "stream",
     "text": [
      "C:\\Users\\21til\\AppData\\Local\\Temp\\ipykernel_21288\\2886358829.py:37: SettingWithCopyWarning: \n",
      "A value is trying to be set on a copy of a slice from a DataFrame\n",
      "\n",
      "See the caveats in the documentation: https://pandas.pydata.org/pandas-docs/stable/user_guide/indexing.html#returning-a-view-versus-a-copy\n",
      "  df.interpolate(method=\"time\", inplace=True)\n",
      "C:\\Users\\21til\\AppData\\Local\\Temp\\ipykernel_21288\\2886358829.py:59: FutureWarning: DataFrame.fillna with 'method' is deprecated and will raise in a future version. Use obj.ffill() or obj.bfill() instead.\n",
      "  df.fillna(method=\"ffill\", inplace=True)\n",
      "C:\\Users\\21til\\AppData\\Local\\Temp\\ipykernel_21288\\2886358829.py:60: FutureWarning: DataFrame.fillna with 'method' is deprecated and will raise in a future version. Use obj.ffill() or obj.bfill() instead.\n",
      "  df.fillna(method=\"bfill\", inplace=True)\n"
     ]
    },
    {
     "name": "stdout",
     "output_type": "stream",
     "text": [
      "Train anomalies (pm10cnc): 2063\n",
      "Test anomalies (pm10cnc): 593\n",
      "Validation anomalies (pm10cnc): 287\n"
     ]
    },
    {
     "name": "stderr",
     "output_type": "stream",
     "text": [
      "C:\\Users\\21til\\AppData\\Local\\Temp\\ipykernel_21288\\2886358829.py:37: SettingWithCopyWarning: \n",
      "A value is trying to be set on a copy of a slice from a DataFrame\n",
      "\n",
      "See the caveats in the documentation: https://pandas.pydata.org/pandas-docs/stable/user_guide/indexing.html#returning-a-view-versus-a-copy\n",
      "  df.interpolate(method=\"time\", inplace=True)\n",
      "C:\\Users\\21til\\AppData\\Local\\Temp\\ipykernel_21288\\2886358829.py:59: FutureWarning: DataFrame.fillna with 'method' is deprecated and will raise in a future version. Use obj.ffill() or obj.bfill() instead.\n",
      "  df.fillna(method=\"ffill\", inplace=True)\n",
      "C:\\Users\\21til\\AppData\\Local\\Temp\\ipykernel_21288\\2886358829.py:60: FutureWarning: DataFrame.fillna with 'method' is deprecated and will raise in a future version. Use obj.ffill() or obj.bfill() instead.\n",
      "  df.fillna(method=\"bfill\", inplace=True)\n"
     ]
    },
    {
     "name": "stdout",
     "output_type": "stream",
     "text": [
      "Train anomalies (pm2_5cnc): 2067\n",
      "Test anomalies (pm2_5cnc): 583\n",
      "Validation anomalies (pm2_5cnc): 292\n",
      "✅ JSON saved: jsons/199.json\n",
      "Processing site_251_data.csv (Site ID: 251)...\n"
     ]
    },
    {
     "name": "stderr",
     "output_type": "stream",
     "text": [
      "C:\\Users\\21til\\AppData\\Local\\Temp\\ipykernel_21288\\2886358829.py:37: SettingWithCopyWarning: \n",
      "A value is trying to be set on a copy of a slice from a DataFrame\n",
      "\n",
      "See the caveats in the documentation: https://pandas.pydata.org/pandas-docs/stable/user_guide/indexing.html#returning-a-view-versus-a-copy\n",
      "  df.interpolate(method=\"time\", inplace=True)\n",
      "C:\\Users\\21til\\AppData\\Local\\Temp\\ipykernel_21288\\2886358829.py:59: FutureWarning: DataFrame.fillna with 'method' is deprecated and will raise in a future version. Use obj.ffill() or obj.bfill() instead.\n",
      "  df.fillna(method=\"ffill\", inplace=True)\n",
      "C:\\Users\\21til\\AppData\\Local\\Temp\\ipykernel_21288\\2886358829.py:60: FutureWarning: DataFrame.fillna with 'method' is deprecated and will raise in a future version. Use obj.ffill() or obj.bfill() instead.\n",
      "  df.fillna(method=\"bfill\", inplace=True)\n"
     ]
    },
    {
     "name": "stdout",
     "output_type": "stream",
     "text": [
      "Train anomalies (pm10cnc): 2070\n",
      "Test anomalies (pm10cnc): 591\n",
      "Validation anomalies (pm10cnc): 297\n"
     ]
    },
    {
     "name": "stderr",
     "output_type": "stream",
     "text": [
      "C:\\Users\\21til\\AppData\\Local\\Temp\\ipykernel_21288\\2886358829.py:37: SettingWithCopyWarning: \n",
      "A value is trying to be set on a copy of a slice from a DataFrame\n",
      "\n",
      "See the caveats in the documentation: https://pandas.pydata.org/pandas-docs/stable/user_guide/indexing.html#returning-a-view-versus-a-copy\n",
      "  df.interpolate(method=\"time\", inplace=True)\n",
      "C:\\Users\\21til\\AppData\\Local\\Temp\\ipykernel_21288\\2886358829.py:59: FutureWarning: DataFrame.fillna with 'method' is deprecated and will raise in a future version. Use obj.ffill() or obj.bfill() instead.\n",
      "  df.fillna(method=\"ffill\", inplace=True)\n",
      "C:\\Users\\21til\\AppData\\Local\\Temp\\ipykernel_21288\\2886358829.py:60: FutureWarning: DataFrame.fillna with 'method' is deprecated and will raise in a future version. Use obj.ffill() or obj.bfill() instead.\n",
      "  df.fillna(method=\"bfill\", inplace=True)\n"
     ]
    },
    {
     "name": "stdout",
     "output_type": "stream",
     "text": [
      "Train anomalies (pm2_5cnc): 2074\n",
      "Test anomalies (pm2_5cnc): 558\n",
      "Validation anomalies (pm2_5cnc): 288\n",
      "✅ JSON saved: jsons/251.json\n",
      "Processing site_262_data.csv (Site ID: 262)...\n"
     ]
    },
    {
     "name": "stderr",
     "output_type": "stream",
     "text": [
      "C:\\Users\\21til\\AppData\\Local\\Temp\\ipykernel_21288\\2886358829.py:37: SettingWithCopyWarning: \n",
      "A value is trying to be set on a copy of a slice from a DataFrame\n",
      "\n",
      "See the caveats in the documentation: https://pandas.pydata.org/pandas-docs/stable/user_guide/indexing.html#returning-a-view-versus-a-copy\n",
      "  df.interpolate(method=\"time\", inplace=True)\n",
      "C:\\Users\\21til\\AppData\\Local\\Temp\\ipykernel_21288\\2886358829.py:59: FutureWarning: DataFrame.fillna with 'method' is deprecated and will raise in a future version. Use obj.ffill() or obj.bfill() instead.\n",
      "  df.fillna(method=\"ffill\", inplace=True)\n",
      "C:\\Users\\21til\\AppData\\Local\\Temp\\ipykernel_21288\\2886358829.py:60: FutureWarning: DataFrame.fillna with 'method' is deprecated and will raise in a future version. Use obj.ffill() or obj.bfill() instead.\n",
      "  df.fillna(method=\"bfill\", inplace=True)\n"
     ]
    },
    {
     "name": "stdout",
     "output_type": "stream",
     "text": [
      "Train anomalies (pm10cnc): 2074\n",
      "Test anomalies (pm10cnc): 580\n",
      "Validation anomalies (pm10cnc): 295\n"
     ]
    },
    {
     "name": "stderr",
     "output_type": "stream",
     "text": [
      "C:\\Users\\21til\\AppData\\Local\\Temp\\ipykernel_21288\\2886358829.py:37: SettingWithCopyWarning: \n",
      "A value is trying to be set on a copy of a slice from a DataFrame\n",
      "\n",
      "See the caveats in the documentation: https://pandas.pydata.org/pandas-docs/stable/user_guide/indexing.html#returning-a-view-versus-a-copy\n",
      "  df.interpolate(method=\"time\", inplace=True)\n",
      "C:\\Users\\21til\\AppData\\Local\\Temp\\ipykernel_21288\\2886358829.py:59: FutureWarning: DataFrame.fillna with 'method' is deprecated and will raise in a future version. Use obj.ffill() or obj.bfill() instead.\n",
      "  df.fillna(method=\"ffill\", inplace=True)\n",
      "C:\\Users\\21til\\AppData\\Local\\Temp\\ipykernel_21288\\2886358829.py:60: FutureWarning: DataFrame.fillna with 'method' is deprecated and will raise in a future version. Use obj.ffill() or obj.bfill() instead.\n",
      "  df.fillna(method=\"bfill\", inplace=True)\n"
     ]
    },
    {
     "name": "stdout",
     "output_type": "stream",
     "text": [
      "Train anomalies (pm2_5cnc): 2072\n",
      "Test anomalies (pm2_5cnc): 573\n",
      "Validation anomalies (pm2_5cnc): 272\n",
      "✅ JSON saved: jsons/262.json\n",
      "Processing site_275_data.csv (Site ID: 275)...\n"
     ]
    },
    {
     "name": "stderr",
     "output_type": "stream",
     "text": [
      "C:\\Users\\21til\\AppData\\Local\\Temp\\ipykernel_21288\\2886358829.py:37: SettingWithCopyWarning: \n",
      "A value is trying to be set on a copy of a slice from a DataFrame\n",
      "\n",
      "See the caveats in the documentation: https://pandas.pydata.org/pandas-docs/stable/user_guide/indexing.html#returning-a-view-versus-a-copy\n",
      "  df.interpolate(method=\"time\", inplace=True)\n",
      "C:\\Users\\21til\\AppData\\Local\\Temp\\ipykernel_21288\\2886358829.py:59: FutureWarning: DataFrame.fillna with 'method' is deprecated and will raise in a future version. Use obj.ffill() or obj.bfill() instead.\n",
      "  df.fillna(method=\"ffill\", inplace=True)\n",
      "C:\\Users\\21til\\AppData\\Local\\Temp\\ipykernel_21288\\2886358829.py:60: FutureWarning: DataFrame.fillna with 'method' is deprecated and will raise in a future version. Use obj.ffill() or obj.bfill() instead.\n",
      "  df.fillna(method=\"bfill\", inplace=True)\n"
     ]
    },
    {
     "name": "stdout",
     "output_type": "stream",
     "text": [
      "Train anomalies (pm10cnc): 2068\n",
      "Test anomalies (pm10cnc): 593\n",
      "Validation anomalies (pm10cnc): 286\n"
     ]
    },
    {
     "name": "stderr",
     "output_type": "stream",
     "text": [
      "C:\\Users\\21til\\AppData\\Local\\Temp\\ipykernel_21288\\2886358829.py:37: SettingWithCopyWarning: \n",
      "A value is trying to be set on a copy of a slice from a DataFrame\n",
      "\n",
      "See the caveats in the documentation: https://pandas.pydata.org/pandas-docs/stable/user_guide/indexing.html#returning-a-view-versus-a-copy\n",
      "  df.interpolate(method=\"time\", inplace=True)\n",
      "C:\\Users\\21til\\AppData\\Local\\Temp\\ipykernel_21288\\2886358829.py:59: FutureWarning: DataFrame.fillna with 'method' is deprecated and will raise in a future version. Use obj.ffill() or obj.bfill() instead.\n",
      "  df.fillna(method=\"ffill\", inplace=True)\n",
      "C:\\Users\\21til\\AppData\\Local\\Temp\\ipykernel_21288\\2886358829.py:60: FutureWarning: DataFrame.fillna with 'method' is deprecated and will raise in a future version. Use obj.ffill() or obj.bfill() instead.\n",
      "  df.fillna(method=\"bfill\", inplace=True)\n"
     ]
    },
    {
     "name": "stdout",
     "output_type": "stream",
     "text": [
      "Train anomalies (pm2_5cnc): 1903\n",
      "Test anomalies (pm2_5cnc): 592\n",
      "Validation anomalies (pm2_5cnc): 282\n",
      "✅ JSON saved: jsons/275.json\n",
      "Processing site_294_data.csv (Site ID: 294)...\n"
     ]
    },
    {
     "name": "stderr",
     "output_type": "stream",
     "text": [
      "C:\\Users\\21til\\AppData\\Local\\Temp\\ipykernel_21288\\2886358829.py:37: SettingWithCopyWarning: \n",
      "A value is trying to be set on a copy of a slice from a DataFrame\n",
      "\n",
      "See the caveats in the documentation: https://pandas.pydata.org/pandas-docs/stable/user_guide/indexing.html#returning-a-view-versus-a-copy\n",
      "  df.interpolate(method=\"time\", inplace=True)\n",
      "C:\\Users\\21til\\AppData\\Local\\Temp\\ipykernel_21288\\2886358829.py:59: FutureWarning: DataFrame.fillna with 'method' is deprecated and will raise in a future version. Use obj.ffill() or obj.bfill() instead.\n",
      "  df.fillna(method=\"ffill\", inplace=True)\n",
      "C:\\Users\\21til\\AppData\\Local\\Temp\\ipykernel_21288\\2886358829.py:60: FutureWarning: DataFrame.fillna with 'method' is deprecated and will raise in a future version. Use obj.ffill() or obj.bfill() instead.\n",
      "  df.fillna(method=\"bfill\", inplace=True)\n"
     ]
    },
    {
     "name": "stdout",
     "output_type": "stream",
     "text": [
      "Train anomalies (pm10cnc): 0\n",
      "Test anomalies (pm10cnc): 0\n",
      "Validation anomalies (pm10cnc): 0\n"
     ]
    },
    {
     "name": "stderr",
     "output_type": "stream",
     "text": [
      "C:\\Users\\21til\\AppData\\Local\\Temp\\ipykernel_21288\\2886358829.py:37: SettingWithCopyWarning: \n",
      "A value is trying to be set on a copy of a slice from a DataFrame\n",
      "\n",
      "See the caveats in the documentation: https://pandas.pydata.org/pandas-docs/stable/user_guide/indexing.html#returning-a-view-versus-a-copy\n",
      "  df.interpolate(method=\"time\", inplace=True)\n",
      "C:\\Users\\21til\\AppData\\Local\\Temp\\ipykernel_21288\\2886358829.py:59: FutureWarning: DataFrame.fillna with 'method' is deprecated and will raise in a future version. Use obj.ffill() or obj.bfill() instead.\n",
      "  df.fillna(method=\"ffill\", inplace=True)\n",
      "C:\\Users\\21til\\AppData\\Local\\Temp\\ipykernel_21288\\2886358829.py:60: FutureWarning: DataFrame.fillna with 'method' is deprecated and will raise in a future version. Use obj.ffill() or obj.bfill() instead.\n",
      "  df.fillna(method=\"bfill\", inplace=True)\n"
     ]
    },
    {
     "name": "stdout",
     "output_type": "stream",
     "text": [
      "Train anomalies (pm2_5cnc): 2074\n",
      "Test anomalies (pm2_5cnc): 573\n",
      "Validation anomalies (pm2_5cnc): 294\n",
      "✅ JSON saved: jsons/294.json\n",
      "Processing site_296_data.csv (Site ID: 296)...\n"
     ]
    },
    {
     "name": "stderr",
     "output_type": "stream",
     "text": [
      "C:\\Users\\21til\\AppData\\Local\\Temp\\ipykernel_21288\\2886358829.py:37: SettingWithCopyWarning: \n",
      "A value is trying to be set on a copy of a slice from a DataFrame\n",
      "\n",
      "See the caveats in the documentation: https://pandas.pydata.org/pandas-docs/stable/user_guide/indexing.html#returning-a-view-versus-a-copy\n",
      "  df.interpolate(method=\"time\", inplace=True)\n",
      "C:\\Users\\21til\\AppData\\Local\\Temp\\ipykernel_21288\\2886358829.py:59: FutureWarning: DataFrame.fillna with 'method' is deprecated and will raise in a future version. Use obj.ffill() or obj.bfill() instead.\n",
      "  df.fillna(method=\"ffill\", inplace=True)\n",
      "C:\\Users\\21til\\AppData\\Local\\Temp\\ipykernel_21288\\2886358829.py:60: FutureWarning: DataFrame.fillna with 'method' is deprecated and will raise in a future version. Use obj.ffill() or obj.bfill() instead.\n",
      "  df.fillna(method=\"bfill\", inplace=True)\n"
     ]
    },
    {
     "name": "stdout",
     "output_type": "stream",
     "text": [
      "Train anomalies (pm10cnc): 2072\n",
      "Test anomalies (pm10cnc): 592\n",
      "Validation anomalies (pm10cnc): 297\n"
     ]
    },
    {
     "name": "stderr",
     "output_type": "stream",
     "text": [
      "C:\\Users\\21til\\AppData\\Local\\Temp\\ipykernel_21288\\2886358829.py:37: SettingWithCopyWarning: \n",
      "A value is trying to be set on a copy of a slice from a DataFrame\n",
      "\n",
      "See the caveats in the documentation: https://pandas.pydata.org/pandas-docs/stable/user_guide/indexing.html#returning-a-view-versus-a-copy\n",
      "  df.interpolate(method=\"time\", inplace=True)\n",
      "C:\\Users\\21til\\AppData\\Local\\Temp\\ipykernel_21288\\2886358829.py:59: FutureWarning: DataFrame.fillna with 'method' is deprecated and will raise in a future version. Use obj.ffill() or obj.bfill() instead.\n",
      "  df.fillna(method=\"ffill\", inplace=True)\n",
      "C:\\Users\\21til\\AppData\\Local\\Temp\\ipykernel_21288\\2886358829.py:60: FutureWarning: DataFrame.fillna with 'method' is deprecated and will raise in a future version. Use obj.ffill() or obj.bfill() instead.\n",
      "  df.fillna(method=\"bfill\", inplace=True)\n"
     ]
    },
    {
     "name": "stdout",
     "output_type": "stream",
     "text": [
      "Train anomalies (pm2_5cnc): 2070\n",
      "Test anomalies (pm2_5cnc): 593\n",
      "Validation anomalies (pm2_5cnc): 297\n",
      "✅ JSON saved: jsons/296.json\n",
      "Processing site_298_data.csv (Site ID: 298)...\n"
     ]
    },
    {
     "name": "stderr",
     "output_type": "stream",
     "text": [
      "C:\\Users\\21til\\AppData\\Local\\Temp\\ipykernel_21288\\2886358829.py:37: SettingWithCopyWarning: \n",
      "A value is trying to be set on a copy of a slice from a DataFrame\n",
      "\n",
      "See the caveats in the documentation: https://pandas.pydata.org/pandas-docs/stable/user_guide/indexing.html#returning-a-view-versus-a-copy\n",
      "  df.interpolate(method=\"time\", inplace=True)\n",
      "C:\\Users\\21til\\AppData\\Local\\Temp\\ipykernel_21288\\2886358829.py:59: FutureWarning: DataFrame.fillna with 'method' is deprecated and will raise in a future version. Use obj.ffill() or obj.bfill() instead.\n",
      "  df.fillna(method=\"ffill\", inplace=True)\n",
      "C:\\Users\\21til\\AppData\\Local\\Temp\\ipykernel_21288\\2886358829.py:60: FutureWarning: DataFrame.fillna with 'method' is deprecated and will raise in a future version. Use obj.ffill() or obj.bfill() instead.\n",
      "  df.fillna(method=\"bfill\", inplace=True)\n"
     ]
    },
    {
     "name": "stdout",
     "output_type": "stream",
     "text": [
      "Train anomalies (pm10cnc): 1888\n",
      "Test anomalies (pm10cnc): 593\n",
      "Validation anomalies (pm10cnc): 291\n"
     ]
    },
    {
     "name": "stderr",
     "output_type": "stream",
     "text": [
      "C:\\Users\\21til\\AppData\\Local\\Temp\\ipykernel_21288\\2886358829.py:37: SettingWithCopyWarning: \n",
      "A value is trying to be set on a copy of a slice from a DataFrame\n",
      "\n",
      "See the caveats in the documentation: https://pandas.pydata.org/pandas-docs/stable/user_guide/indexing.html#returning-a-view-versus-a-copy\n",
      "  df.interpolate(method=\"time\", inplace=True)\n",
      "C:\\Users\\21til\\AppData\\Local\\Temp\\ipykernel_21288\\2886358829.py:59: FutureWarning: DataFrame.fillna with 'method' is deprecated and will raise in a future version. Use obj.ffill() or obj.bfill() instead.\n",
      "  df.fillna(method=\"ffill\", inplace=True)\n",
      "C:\\Users\\21til\\AppData\\Local\\Temp\\ipykernel_21288\\2886358829.py:60: FutureWarning: DataFrame.fillna with 'method' is deprecated and will raise in a future version. Use obj.ffill() or obj.bfill() instead.\n",
      "  df.fillna(method=\"bfill\", inplace=True)\n"
     ]
    },
    {
     "name": "stdout",
     "output_type": "stream",
     "text": [
      "Train anomalies (pm2_5cnc): 1894\n",
      "Test anomalies (pm2_5cnc): 494\n",
      "Validation anomalies (pm2_5cnc): 296\n",
      "✅ JSON saved: jsons/298.json\n",
      "Processing site_301_data.csv (Site ID: 301)...\n"
     ]
    },
    {
     "name": "stderr",
     "output_type": "stream",
     "text": [
      "C:\\Users\\21til\\AppData\\Local\\Temp\\ipykernel_21288\\2886358829.py:37: SettingWithCopyWarning: \n",
      "A value is trying to be set on a copy of a slice from a DataFrame\n",
      "\n",
      "See the caveats in the documentation: https://pandas.pydata.org/pandas-docs/stable/user_guide/indexing.html#returning-a-view-versus-a-copy\n",
      "  df.interpolate(method=\"time\", inplace=True)\n",
      "C:\\Users\\21til\\AppData\\Local\\Temp\\ipykernel_21288\\2886358829.py:59: FutureWarning: DataFrame.fillna with 'method' is deprecated and will raise in a future version. Use obj.ffill() or obj.bfill() instead.\n",
      "  df.fillna(method=\"ffill\", inplace=True)\n",
      "C:\\Users\\21til\\AppData\\Local\\Temp\\ipykernel_21288\\2886358829.py:60: FutureWarning: DataFrame.fillna with 'method' is deprecated and will raise in a future version. Use obj.ffill() or obj.bfill() instead.\n",
      "  df.fillna(method=\"bfill\", inplace=True)\n"
     ]
    },
    {
     "name": "stdout",
     "output_type": "stream",
     "text": [
      "Train anomalies (pm10cnc): 2072\n",
      "Test anomalies (pm10cnc): 588\n",
      "Validation anomalies (pm10cnc): 297\n"
     ]
    },
    {
     "name": "stderr",
     "output_type": "stream",
     "text": [
      "C:\\Users\\21til\\AppData\\Local\\Temp\\ipykernel_21288\\2886358829.py:37: SettingWithCopyWarning: \n",
      "A value is trying to be set on a copy of a slice from a DataFrame\n",
      "\n",
      "See the caveats in the documentation: https://pandas.pydata.org/pandas-docs/stable/user_guide/indexing.html#returning-a-view-versus-a-copy\n",
      "  df.interpolate(method=\"time\", inplace=True)\n",
      "C:\\Users\\21til\\AppData\\Local\\Temp\\ipykernel_21288\\2886358829.py:59: FutureWarning: DataFrame.fillna with 'method' is deprecated and will raise in a future version. Use obj.ffill() or obj.bfill() instead.\n",
      "  df.fillna(method=\"ffill\", inplace=True)\n",
      "C:\\Users\\21til\\AppData\\Local\\Temp\\ipykernel_21288\\2886358829.py:60: FutureWarning: DataFrame.fillna with 'method' is deprecated and will raise in a future version. Use obj.ffill() or obj.bfill() instead.\n",
      "  df.fillna(method=\"bfill\", inplace=True)\n"
     ]
    },
    {
     "name": "stdout",
     "output_type": "stream",
     "text": [
      "Train anomalies (pm2_5cnc): 2068\n",
      "Test anomalies (pm2_5cnc): 588\n",
      "Validation anomalies (pm2_5cnc): 297\n",
      "✅ JSON saved: jsons/301.json\n",
      "Processing site_309_data.csv (Site ID: 309)...\n"
     ]
    },
    {
     "name": "stderr",
     "output_type": "stream",
     "text": [
      "C:\\Users\\21til\\AppData\\Local\\Temp\\ipykernel_21288\\2886358829.py:37: SettingWithCopyWarning: \n",
      "A value is trying to be set on a copy of a slice from a DataFrame\n",
      "\n",
      "See the caveats in the documentation: https://pandas.pydata.org/pandas-docs/stable/user_guide/indexing.html#returning-a-view-versus-a-copy\n",
      "  df.interpolate(method=\"time\", inplace=True)\n",
      "C:\\Users\\21til\\AppData\\Local\\Temp\\ipykernel_21288\\2886358829.py:59: FutureWarning: DataFrame.fillna with 'method' is deprecated and will raise in a future version. Use obj.ffill() or obj.bfill() instead.\n",
      "  df.fillna(method=\"ffill\", inplace=True)\n",
      "C:\\Users\\21til\\AppData\\Local\\Temp\\ipykernel_21288\\2886358829.py:60: FutureWarning: DataFrame.fillna with 'method' is deprecated and will raise in a future version. Use obj.ffill() or obj.bfill() instead.\n",
      "  df.fillna(method=\"bfill\", inplace=True)\n"
     ]
    },
    {
     "name": "stdout",
     "output_type": "stream",
     "text": [
      "Train anomalies (pm10cnc): 2070\n",
      "Test anomalies (pm10cnc): 593\n",
      "Validation anomalies (pm10cnc): 297\n"
     ]
    },
    {
     "name": "stderr",
     "output_type": "stream",
     "text": [
      "C:\\Users\\21til\\AppData\\Local\\Temp\\ipykernel_21288\\2886358829.py:37: SettingWithCopyWarning: \n",
      "A value is trying to be set on a copy of a slice from a DataFrame\n",
      "\n",
      "See the caveats in the documentation: https://pandas.pydata.org/pandas-docs/stable/user_guide/indexing.html#returning-a-view-versus-a-copy\n",
      "  df.interpolate(method=\"time\", inplace=True)\n",
      "C:\\Users\\21til\\AppData\\Local\\Temp\\ipykernel_21288\\2886358829.py:59: FutureWarning: DataFrame.fillna with 'method' is deprecated and will raise in a future version. Use obj.ffill() or obj.bfill() instead.\n",
      "  df.fillna(method=\"ffill\", inplace=True)\n",
      "C:\\Users\\21til\\AppData\\Local\\Temp\\ipykernel_21288\\2886358829.py:60: FutureWarning: DataFrame.fillna with 'method' is deprecated and will raise in a future version. Use obj.ffill() or obj.bfill() instead.\n",
      "  df.fillna(method=\"bfill\", inplace=True)\n"
     ]
    },
    {
     "name": "stdout",
     "output_type": "stream",
     "text": [
      "Train anomalies (pm2_5cnc): 2071\n",
      "Test anomalies (pm2_5cnc): 588\n",
      "Validation anomalies (pm2_5cnc): 297\n",
      "✅ JSON saved: jsons/309.json\n",
      "Processing site_5024_data.csv (Site ID: 5024)...\n"
     ]
    },
    {
     "name": "stderr",
     "output_type": "stream",
     "text": [
      "C:\\Users\\21til\\AppData\\Local\\Temp\\ipykernel_21288\\2886358829.py:37: SettingWithCopyWarning: \n",
      "A value is trying to be set on a copy of a slice from a DataFrame\n",
      "\n",
      "See the caveats in the documentation: https://pandas.pydata.org/pandas-docs/stable/user_guide/indexing.html#returning-a-view-versus-a-copy\n",
      "  df.interpolate(method=\"time\", inplace=True)\n",
      "C:\\Users\\21til\\AppData\\Local\\Temp\\ipykernel_21288\\2886358829.py:59: FutureWarning: DataFrame.fillna with 'method' is deprecated and will raise in a future version. Use obj.ffill() or obj.bfill() instead.\n",
      "  df.fillna(method=\"ffill\", inplace=True)\n",
      "C:\\Users\\21til\\AppData\\Local\\Temp\\ipykernel_21288\\2886358829.py:60: FutureWarning: DataFrame.fillna with 'method' is deprecated and will raise in a future version. Use obj.ffill() or obj.bfill() instead.\n",
      "  df.fillna(method=\"bfill\", inplace=True)\n"
     ]
    },
    {
     "name": "stdout",
     "output_type": "stream",
     "text": [
      "Train anomalies (pm10cnc): 2060\n",
      "Test anomalies (pm10cnc): 589\n",
      "Validation anomalies (pm10cnc): 295\n"
     ]
    },
    {
     "name": "stderr",
     "output_type": "stream",
     "text": [
      "C:\\Users\\21til\\AppData\\Local\\Temp\\ipykernel_21288\\2886358829.py:37: SettingWithCopyWarning: \n",
      "A value is trying to be set on a copy of a slice from a DataFrame\n",
      "\n",
      "See the caveats in the documentation: https://pandas.pydata.org/pandas-docs/stable/user_guide/indexing.html#returning-a-view-versus-a-copy\n",
      "  df.interpolate(method=\"time\", inplace=True)\n",
      "C:\\Users\\21til\\AppData\\Local\\Temp\\ipykernel_21288\\2886358829.py:59: FutureWarning: DataFrame.fillna with 'method' is deprecated and will raise in a future version. Use obj.ffill() or obj.bfill() instead.\n",
      "  df.fillna(method=\"ffill\", inplace=True)\n",
      "C:\\Users\\21til\\AppData\\Local\\Temp\\ipykernel_21288\\2886358829.py:60: FutureWarning: DataFrame.fillna with 'method' is deprecated and will raise in a future version. Use obj.ffill() or obj.bfill() instead.\n",
      "  df.fillna(method=\"bfill\", inplace=True)\n"
     ]
    },
    {
     "name": "stdout",
     "output_type": "stream",
     "text": [
      "Train anomalies (pm2_5cnc): 2053\n",
      "Test anomalies (pm2_5cnc): 589\n",
      "Validation anomalies (pm2_5cnc): 294\n",
      "✅ JSON saved: jsons/5024.json\n",
      "Processing site_5102_data.csv (Site ID: 5102)...\n"
     ]
    },
    {
     "name": "stderr",
     "output_type": "stream",
     "text": [
      "C:\\Users\\21til\\AppData\\Local\\Temp\\ipykernel_21288\\2886358829.py:37: SettingWithCopyWarning: \n",
      "A value is trying to be set on a copy of a slice from a DataFrame\n",
      "\n",
      "See the caveats in the documentation: https://pandas.pydata.org/pandas-docs/stable/user_guide/indexing.html#returning-a-view-versus-a-copy\n",
      "  df.interpolate(method=\"time\", inplace=True)\n",
      "C:\\Users\\21til\\AppData\\Local\\Temp\\ipykernel_21288\\2886358829.py:59: FutureWarning: DataFrame.fillna with 'method' is deprecated and will raise in a future version. Use obj.ffill() or obj.bfill() instead.\n",
      "  df.fillna(method=\"ffill\", inplace=True)\n",
      "C:\\Users\\21til\\AppData\\Local\\Temp\\ipykernel_21288\\2886358829.py:60: FutureWarning: DataFrame.fillna with 'method' is deprecated and will raise in a future version. Use obj.ffill() or obj.bfill() instead.\n",
      "  df.fillna(method=\"bfill\", inplace=True)\n"
     ]
    },
    {
     "name": "stdout",
     "output_type": "stream",
     "text": [
      "Train anomalies (pm10cnc): 2074\n",
      "Test anomalies (pm10cnc): 593\n",
      "Validation anomalies (pm10cnc): 296\n"
     ]
    },
    {
     "name": "stderr",
     "output_type": "stream",
     "text": [
      "C:\\Users\\21til\\AppData\\Local\\Temp\\ipykernel_21288\\2886358829.py:37: SettingWithCopyWarning: \n",
      "A value is trying to be set on a copy of a slice from a DataFrame\n",
      "\n",
      "See the caveats in the documentation: https://pandas.pydata.org/pandas-docs/stable/user_guide/indexing.html#returning-a-view-versus-a-copy\n",
      "  df.interpolate(method=\"time\", inplace=True)\n",
      "C:\\Users\\21til\\AppData\\Local\\Temp\\ipykernel_21288\\2886358829.py:59: FutureWarning: DataFrame.fillna with 'method' is deprecated and will raise in a future version. Use obj.ffill() or obj.bfill() instead.\n",
      "  df.fillna(method=\"ffill\", inplace=True)\n",
      "C:\\Users\\21til\\AppData\\Local\\Temp\\ipykernel_21288\\2886358829.py:60: FutureWarning: DataFrame.fillna with 'method' is deprecated and will raise in a future version. Use obj.ffill() or obj.bfill() instead.\n",
      "  df.fillna(method=\"bfill\", inplace=True)\n"
     ]
    },
    {
     "name": "stdout",
     "output_type": "stream",
     "text": [
      "Train anomalies (pm2_5cnc): 2060\n",
      "Test anomalies (pm2_5cnc): 574\n",
      "Validation anomalies (pm2_5cnc): 296\n",
      "✅ JSON saved: jsons/5102.json\n",
      "Processing site_5104_data.csv (Site ID: 5104)...\n"
     ]
    },
    {
     "name": "stderr",
     "output_type": "stream",
     "text": [
      "C:\\Users\\21til\\AppData\\Local\\Temp\\ipykernel_21288\\2886358829.py:37: SettingWithCopyWarning: \n",
      "A value is trying to be set on a copy of a slice from a DataFrame\n",
      "\n",
      "See the caveats in the documentation: https://pandas.pydata.org/pandas-docs/stable/user_guide/indexing.html#returning-a-view-versus-a-copy\n",
      "  df.interpolate(method=\"time\", inplace=True)\n",
      "C:\\Users\\21til\\AppData\\Local\\Temp\\ipykernel_21288\\2886358829.py:59: FutureWarning: DataFrame.fillna with 'method' is deprecated and will raise in a future version. Use obj.ffill() or obj.bfill() instead.\n",
      "  df.fillna(method=\"ffill\", inplace=True)\n",
      "C:\\Users\\21til\\AppData\\Local\\Temp\\ipykernel_21288\\2886358829.py:60: FutureWarning: DataFrame.fillna with 'method' is deprecated and will raise in a future version. Use obj.ffill() or obj.bfill() instead.\n",
      "  df.fillna(method=\"bfill\", inplace=True)\n"
     ]
    },
    {
     "name": "stdout",
     "output_type": "stream",
     "text": [
      "Train anomalies (pm10cnc): 2068\n",
      "Test anomalies (pm10cnc): 593\n",
      "Validation anomalies (pm10cnc): 296\n"
     ]
    },
    {
     "name": "stderr",
     "output_type": "stream",
     "text": [
      "C:\\Users\\21til\\AppData\\Local\\Temp\\ipykernel_21288\\2886358829.py:37: SettingWithCopyWarning: \n",
      "A value is trying to be set on a copy of a slice from a DataFrame\n",
      "\n",
      "See the caveats in the documentation: https://pandas.pydata.org/pandas-docs/stable/user_guide/indexing.html#returning-a-view-versus-a-copy\n",
      "  df.interpolate(method=\"time\", inplace=True)\n",
      "C:\\Users\\21til\\AppData\\Local\\Temp\\ipykernel_21288\\2886358829.py:59: FutureWarning: DataFrame.fillna with 'method' is deprecated and will raise in a future version. Use obj.ffill() or obj.bfill() instead.\n",
      "  df.fillna(method=\"ffill\", inplace=True)\n",
      "C:\\Users\\21til\\AppData\\Local\\Temp\\ipykernel_21288\\2886358829.py:60: FutureWarning: DataFrame.fillna with 'method' is deprecated and will raise in a future version. Use obj.ffill() or obj.bfill() instead.\n",
      "  df.fillna(method=\"bfill\", inplace=True)\n"
     ]
    },
    {
     "name": "stdout",
     "output_type": "stream",
     "text": [
      "Train anomalies (pm2_5cnc): 2072\n",
      "Test anomalies (pm2_5cnc): 593\n",
      "Validation anomalies (pm2_5cnc): 297\n",
      "✅ JSON saved: jsons/5104.json\n",
      "Processing site_5106_data.csv (Site ID: 5106)...\n"
     ]
    },
    {
     "name": "stderr",
     "output_type": "stream",
     "text": [
      "C:\\Users\\21til\\AppData\\Local\\Temp\\ipykernel_21288\\2886358829.py:37: SettingWithCopyWarning: \n",
      "A value is trying to be set on a copy of a slice from a DataFrame\n",
      "\n",
      "See the caveats in the documentation: https://pandas.pydata.org/pandas-docs/stable/user_guide/indexing.html#returning-a-view-versus-a-copy\n",
      "  df.interpolate(method=\"time\", inplace=True)\n",
      "C:\\Users\\21til\\AppData\\Local\\Temp\\ipykernel_21288\\2886358829.py:59: FutureWarning: DataFrame.fillna with 'method' is deprecated and will raise in a future version. Use obj.ffill() or obj.bfill() instead.\n",
      "  df.fillna(method=\"ffill\", inplace=True)\n",
      "C:\\Users\\21til\\AppData\\Local\\Temp\\ipykernel_21288\\2886358829.py:60: FutureWarning: DataFrame.fillna with 'method' is deprecated and will raise in a future version. Use obj.ffill() or obj.bfill() instead.\n",
      "  df.fillna(method=\"bfill\", inplace=True)\n"
     ]
    },
    {
     "name": "stdout",
     "output_type": "stream",
     "text": [
      "Train anomalies (pm10cnc): 2068\n",
      "Test anomalies (pm10cnc): 593\n",
      "Validation anomalies (pm10cnc): 294\n"
     ]
    },
    {
     "name": "stderr",
     "output_type": "stream",
     "text": [
      "C:\\Users\\21til\\AppData\\Local\\Temp\\ipykernel_21288\\2886358829.py:37: SettingWithCopyWarning: \n",
      "A value is trying to be set on a copy of a slice from a DataFrame\n",
      "\n",
      "See the caveats in the documentation: https://pandas.pydata.org/pandas-docs/stable/user_guide/indexing.html#returning-a-view-versus-a-copy\n",
      "  df.interpolate(method=\"time\", inplace=True)\n",
      "C:\\Users\\21til\\AppData\\Local\\Temp\\ipykernel_21288\\2886358829.py:59: FutureWarning: DataFrame.fillna with 'method' is deprecated and will raise in a future version. Use obj.ffill() or obj.bfill() instead.\n",
      "  df.fillna(method=\"ffill\", inplace=True)\n",
      "C:\\Users\\21til\\AppData\\Local\\Temp\\ipykernel_21288\\2886358829.py:60: FutureWarning: DataFrame.fillna with 'method' is deprecated and will raise in a future version. Use obj.ffill() or obj.bfill() instead.\n",
      "  df.fillna(method=\"bfill\", inplace=True)\n"
     ]
    },
    {
     "name": "stdout",
     "output_type": "stream",
     "text": [
      "Train anomalies (pm2_5cnc): 2074\n",
      "Test anomalies (pm2_5cnc): 587\n",
      "Validation anomalies (pm2_5cnc): 297\n",
      "✅ JSON saved: jsons/5106.json\n",
      "Processing site_5107_data.csv (Site ID: 5107)...\n"
     ]
    },
    {
     "name": "stderr",
     "output_type": "stream",
     "text": [
      "C:\\Users\\21til\\AppData\\Local\\Temp\\ipykernel_21288\\2886358829.py:37: SettingWithCopyWarning: \n",
      "A value is trying to be set on a copy of a slice from a DataFrame\n",
      "\n",
      "See the caveats in the documentation: https://pandas.pydata.org/pandas-docs/stable/user_guide/indexing.html#returning-a-view-versus-a-copy\n",
      "  df.interpolate(method=\"time\", inplace=True)\n",
      "C:\\Users\\21til\\AppData\\Local\\Temp\\ipykernel_21288\\2886358829.py:59: FutureWarning: DataFrame.fillna with 'method' is deprecated and will raise in a future version. Use obj.ffill() or obj.bfill() instead.\n",
      "  df.fillna(method=\"ffill\", inplace=True)\n",
      "C:\\Users\\21til\\AppData\\Local\\Temp\\ipykernel_21288\\2886358829.py:60: FutureWarning: DataFrame.fillna with 'method' is deprecated and will raise in a future version. Use obj.ffill() or obj.bfill() instead.\n",
      "  df.fillna(method=\"bfill\", inplace=True)\n"
     ]
    },
    {
     "name": "stdout",
     "output_type": "stream",
     "text": [
      "Train anomalies (pm10cnc): 2073\n",
      "Test anomalies (pm10cnc): 591\n",
      "Validation anomalies (pm10cnc): 297\n"
     ]
    },
    {
     "name": "stderr",
     "output_type": "stream",
     "text": [
      "C:\\Users\\21til\\AppData\\Local\\Temp\\ipykernel_21288\\2886358829.py:37: SettingWithCopyWarning: \n",
      "A value is trying to be set on a copy of a slice from a DataFrame\n",
      "\n",
      "See the caveats in the documentation: https://pandas.pydata.org/pandas-docs/stable/user_guide/indexing.html#returning-a-view-versus-a-copy\n",
      "  df.interpolate(method=\"time\", inplace=True)\n",
      "C:\\Users\\21til\\AppData\\Local\\Temp\\ipykernel_21288\\2886358829.py:59: FutureWarning: DataFrame.fillna with 'method' is deprecated and will raise in a future version. Use obj.ffill() or obj.bfill() instead.\n",
      "  df.fillna(method=\"ffill\", inplace=True)\n",
      "C:\\Users\\21til\\AppData\\Local\\Temp\\ipykernel_21288\\2886358829.py:60: FutureWarning: DataFrame.fillna with 'method' is deprecated and will raise in a future version. Use obj.ffill() or obj.bfill() instead.\n",
      "  df.fillna(method=\"bfill\", inplace=True)\n"
     ]
    },
    {
     "name": "stdout",
     "output_type": "stream",
     "text": [
      "Train anomalies (pm2_5cnc): 2055\n",
      "Test anomalies (pm2_5cnc): 593\n",
      "Validation anomalies (pm2_5cnc): 292\n",
      "✅ JSON saved: jsons/5107.json\n",
      "Processing site_5110_data.csv (Site ID: 5110)...\n"
     ]
    },
    {
     "name": "stderr",
     "output_type": "stream",
     "text": [
      "C:\\Users\\21til\\AppData\\Local\\Temp\\ipykernel_21288\\2886358829.py:37: SettingWithCopyWarning: \n",
      "A value is trying to be set on a copy of a slice from a DataFrame\n",
      "\n",
      "See the caveats in the documentation: https://pandas.pydata.org/pandas-docs/stable/user_guide/indexing.html#returning-a-view-versus-a-copy\n",
      "  df.interpolate(method=\"time\", inplace=True)\n",
      "C:\\Users\\21til\\AppData\\Local\\Temp\\ipykernel_21288\\2886358829.py:59: FutureWarning: DataFrame.fillna with 'method' is deprecated and will raise in a future version. Use obj.ffill() or obj.bfill() instead.\n",
      "  df.fillna(method=\"ffill\", inplace=True)\n",
      "C:\\Users\\21til\\AppData\\Local\\Temp\\ipykernel_21288\\2886358829.py:60: FutureWarning: DataFrame.fillna with 'method' is deprecated and will raise in a future version. Use obj.ffill() or obj.bfill() instead.\n",
      "  df.fillna(method=\"bfill\", inplace=True)\n"
     ]
    },
    {
     "name": "stdout",
     "output_type": "stream",
     "text": [
      "Train anomalies (pm10cnc): 2070\n",
      "Test anomalies (pm10cnc): 593\n",
      "Validation anomalies (pm10cnc): 297\n"
     ]
    },
    {
     "name": "stderr",
     "output_type": "stream",
     "text": [
      "C:\\Users\\21til\\AppData\\Local\\Temp\\ipykernel_21288\\2886358829.py:37: SettingWithCopyWarning: \n",
      "A value is trying to be set on a copy of a slice from a DataFrame\n",
      "\n",
      "See the caveats in the documentation: https://pandas.pydata.org/pandas-docs/stable/user_guide/indexing.html#returning-a-view-versus-a-copy\n",
      "  df.interpolate(method=\"time\", inplace=True)\n",
      "C:\\Users\\21til\\AppData\\Local\\Temp\\ipykernel_21288\\2886358829.py:59: FutureWarning: DataFrame.fillna with 'method' is deprecated and will raise in a future version. Use obj.ffill() or obj.bfill() instead.\n",
      "  df.fillna(method=\"ffill\", inplace=True)\n",
      "C:\\Users\\21til\\AppData\\Local\\Temp\\ipykernel_21288\\2886358829.py:60: FutureWarning: DataFrame.fillna with 'method' is deprecated and will raise in a future version. Use obj.ffill() or obj.bfill() instead.\n",
      "  df.fillna(method=\"bfill\", inplace=True)\n"
     ]
    },
    {
     "name": "stdout",
     "output_type": "stream",
     "text": [
      "Train anomalies (pm2_5cnc): 2074\n",
      "Test anomalies (pm2_5cnc): 592\n",
      "Validation anomalies (pm2_5cnc): 297\n",
      "✅ JSON saved: jsons/5110.json\n",
      "Processing site_5111_data.csv (Site ID: 5111)...\n"
     ]
    },
    {
     "name": "stderr",
     "output_type": "stream",
     "text": [
      "C:\\Users\\21til\\AppData\\Local\\Temp\\ipykernel_21288\\2886358829.py:37: SettingWithCopyWarning: \n",
      "A value is trying to be set on a copy of a slice from a DataFrame\n",
      "\n",
      "See the caveats in the documentation: https://pandas.pydata.org/pandas-docs/stable/user_guide/indexing.html#returning-a-view-versus-a-copy\n",
      "  df.interpolate(method=\"time\", inplace=True)\n",
      "C:\\Users\\21til\\AppData\\Local\\Temp\\ipykernel_21288\\2886358829.py:59: FutureWarning: DataFrame.fillna with 'method' is deprecated and will raise in a future version. Use obj.ffill() or obj.bfill() instead.\n",
      "  df.fillna(method=\"ffill\", inplace=True)\n",
      "C:\\Users\\21til\\AppData\\Local\\Temp\\ipykernel_21288\\2886358829.py:60: FutureWarning: DataFrame.fillna with 'method' is deprecated and will raise in a future version. Use obj.ffill() or obj.bfill() instead.\n",
      "  df.fillna(method=\"bfill\", inplace=True)\n"
     ]
    },
    {
     "name": "stdout",
     "output_type": "stream",
     "text": [
      "Train anomalies (pm10cnc): 2072\n",
      "Test anomalies (pm10cnc): 593\n",
      "Validation anomalies (pm10cnc): 297\n"
     ]
    },
    {
     "name": "stderr",
     "output_type": "stream",
     "text": [
      "C:\\Users\\21til\\AppData\\Local\\Temp\\ipykernel_21288\\2886358829.py:37: SettingWithCopyWarning: \n",
      "A value is trying to be set on a copy of a slice from a DataFrame\n",
      "\n",
      "See the caveats in the documentation: https://pandas.pydata.org/pandas-docs/stable/user_guide/indexing.html#returning-a-view-versus-a-copy\n",
      "  df.interpolate(method=\"time\", inplace=True)\n",
      "C:\\Users\\21til\\AppData\\Local\\Temp\\ipykernel_21288\\2886358829.py:59: FutureWarning: DataFrame.fillna with 'method' is deprecated and will raise in a future version. Use obj.ffill() or obj.bfill() instead.\n",
      "  df.fillna(method=\"ffill\", inplace=True)\n",
      "C:\\Users\\21til\\AppData\\Local\\Temp\\ipykernel_21288\\2886358829.py:60: FutureWarning: DataFrame.fillna with 'method' is deprecated and will raise in a future version. Use obj.ffill() or obj.bfill() instead.\n",
      "  df.fillna(method=\"bfill\", inplace=True)\n"
     ]
    },
    {
     "name": "stdout",
     "output_type": "stream",
     "text": [
      "Train anomalies (pm2_5cnc): 2071\n",
      "Test anomalies (pm2_5cnc): 587\n",
      "Validation anomalies (pm2_5cnc): 297\n",
      "✅ JSON saved: jsons/5111.json\n",
      "Processing site_5112_data.csv (Site ID: 5112)...\n"
     ]
    },
    {
     "name": "stderr",
     "output_type": "stream",
     "text": [
      "C:\\Users\\21til\\AppData\\Local\\Temp\\ipykernel_21288\\2886358829.py:37: SettingWithCopyWarning: \n",
      "A value is trying to be set on a copy of a slice from a DataFrame\n",
      "\n",
      "See the caveats in the documentation: https://pandas.pydata.org/pandas-docs/stable/user_guide/indexing.html#returning-a-view-versus-a-copy\n",
      "  df.interpolate(method=\"time\", inplace=True)\n",
      "C:\\Users\\21til\\AppData\\Local\\Temp\\ipykernel_21288\\2886358829.py:59: FutureWarning: DataFrame.fillna with 'method' is deprecated and will raise in a future version. Use obj.ffill() or obj.bfill() instead.\n",
      "  df.fillna(method=\"ffill\", inplace=True)\n",
      "C:\\Users\\21til\\AppData\\Local\\Temp\\ipykernel_21288\\2886358829.py:60: FutureWarning: DataFrame.fillna with 'method' is deprecated and will raise in a future version. Use obj.ffill() or obj.bfill() instead.\n",
      "  df.fillna(method=\"bfill\", inplace=True)\n"
     ]
    },
    {
     "name": "stdout",
     "output_type": "stream",
     "text": [
      "Train anomalies (pm10cnc): 2073\n",
      "Test anomalies (pm10cnc): 587\n",
      "Validation anomalies (pm10cnc): 297\n"
     ]
    },
    {
     "name": "stderr",
     "output_type": "stream",
     "text": [
      "C:\\Users\\21til\\AppData\\Local\\Temp\\ipykernel_21288\\2886358829.py:37: SettingWithCopyWarning: \n",
      "A value is trying to be set on a copy of a slice from a DataFrame\n",
      "\n",
      "See the caveats in the documentation: https://pandas.pydata.org/pandas-docs/stable/user_guide/indexing.html#returning-a-view-versus-a-copy\n",
      "  df.interpolate(method=\"time\", inplace=True)\n",
      "C:\\Users\\21til\\AppData\\Local\\Temp\\ipykernel_21288\\2886358829.py:59: FutureWarning: DataFrame.fillna with 'method' is deprecated and will raise in a future version. Use obj.ffill() or obj.bfill() instead.\n",
      "  df.fillna(method=\"ffill\", inplace=True)\n",
      "C:\\Users\\21til\\AppData\\Local\\Temp\\ipykernel_21288\\2886358829.py:60: FutureWarning: DataFrame.fillna with 'method' is deprecated and will raise in a future version. Use obj.ffill() or obj.bfill() instead.\n",
      "  df.fillna(method=\"bfill\", inplace=True)\n"
     ]
    },
    {
     "name": "stdout",
     "output_type": "stream",
     "text": [
      "Train anomalies (pm2_5cnc): 2073\n",
      "Test anomalies (pm2_5cnc): 590\n",
      "Validation anomalies (pm2_5cnc): 293\n",
      "✅ JSON saved: jsons/5112.json\n",
      "Processing site_5113_data.csv (Site ID: 5113)...\n"
     ]
    },
    {
     "name": "stderr",
     "output_type": "stream",
     "text": [
      "C:\\Users\\21til\\AppData\\Local\\Temp\\ipykernel_21288\\2886358829.py:37: SettingWithCopyWarning: \n",
      "A value is trying to be set on a copy of a slice from a DataFrame\n",
      "\n",
      "See the caveats in the documentation: https://pandas.pydata.org/pandas-docs/stable/user_guide/indexing.html#returning-a-view-versus-a-copy\n",
      "  df.interpolate(method=\"time\", inplace=True)\n",
      "C:\\Users\\21til\\AppData\\Local\\Temp\\ipykernel_21288\\2886358829.py:59: FutureWarning: DataFrame.fillna with 'method' is deprecated and will raise in a future version. Use obj.ffill() or obj.bfill() instead.\n",
      "  df.fillna(method=\"ffill\", inplace=True)\n",
      "C:\\Users\\21til\\AppData\\Local\\Temp\\ipykernel_21288\\2886358829.py:60: FutureWarning: DataFrame.fillna with 'method' is deprecated and will raise in a future version. Use obj.ffill() or obj.bfill() instead.\n",
      "  df.fillna(method=\"bfill\", inplace=True)\n"
     ]
    },
    {
     "name": "stdout",
     "output_type": "stream",
     "text": [
      "Train anomalies (pm10cnc): 2068\n",
      "Test anomalies (pm10cnc): 592\n",
      "Validation anomalies (pm10cnc): 296\n"
     ]
    },
    {
     "name": "stderr",
     "output_type": "stream",
     "text": [
      "C:\\Users\\21til\\AppData\\Local\\Temp\\ipykernel_21288\\2886358829.py:37: SettingWithCopyWarning: \n",
      "A value is trying to be set on a copy of a slice from a DataFrame\n",
      "\n",
      "See the caveats in the documentation: https://pandas.pydata.org/pandas-docs/stable/user_guide/indexing.html#returning-a-view-versus-a-copy\n",
      "  df.interpolate(method=\"time\", inplace=True)\n",
      "C:\\Users\\21til\\AppData\\Local\\Temp\\ipykernel_21288\\2886358829.py:59: FutureWarning: DataFrame.fillna with 'method' is deprecated and will raise in a future version. Use obj.ffill() or obj.bfill() instead.\n",
      "  df.fillna(method=\"ffill\", inplace=True)\n",
      "C:\\Users\\21til\\AppData\\Local\\Temp\\ipykernel_21288\\2886358829.py:60: FutureWarning: DataFrame.fillna with 'method' is deprecated and will raise in a future version. Use obj.ffill() or obj.bfill() instead.\n",
      "  df.fillna(method=\"bfill\", inplace=True)\n"
     ]
    },
    {
     "name": "stdout",
     "output_type": "stream",
     "text": [
      "Train anomalies (pm2_5cnc): 2069\n",
      "Test anomalies (pm2_5cnc): 590\n",
      "Validation anomalies (pm2_5cnc): 292\n",
      "✅ JSON saved: jsons/5113.json\n",
      "Processing site_5115_data.csv (Site ID: 5115)...\n"
     ]
    },
    {
     "name": "stderr",
     "output_type": "stream",
     "text": [
      "C:\\Users\\21til\\AppData\\Local\\Temp\\ipykernel_21288\\2886358829.py:37: SettingWithCopyWarning: \n",
      "A value is trying to be set on a copy of a slice from a DataFrame\n",
      "\n",
      "See the caveats in the documentation: https://pandas.pydata.org/pandas-docs/stable/user_guide/indexing.html#returning-a-view-versus-a-copy\n",
      "  df.interpolate(method=\"time\", inplace=True)\n",
      "C:\\Users\\21til\\AppData\\Local\\Temp\\ipykernel_21288\\2886358829.py:59: FutureWarning: DataFrame.fillna with 'method' is deprecated and will raise in a future version. Use obj.ffill() or obj.bfill() instead.\n",
      "  df.fillna(method=\"ffill\", inplace=True)\n",
      "C:\\Users\\21til\\AppData\\Local\\Temp\\ipykernel_21288\\2886358829.py:60: FutureWarning: DataFrame.fillna with 'method' is deprecated and will raise in a future version. Use obj.ffill() or obj.bfill() instead.\n",
      "  df.fillna(method=\"bfill\", inplace=True)\n"
     ]
    },
    {
     "name": "stdout",
     "output_type": "stream",
     "text": [
      "Train anomalies (pm10cnc): 2068\n",
      "Test anomalies (pm10cnc): 588\n",
      "Validation anomalies (pm10cnc): 295\n"
     ]
    },
    {
     "name": "stderr",
     "output_type": "stream",
     "text": [
      "C:\\Users\\21til\\AppData\\Local\\Temp\\ipykernel_21288\\2886358829.py:37: SettingWithCopyWarning: \n",
      "A value is trying to be set on a copy of a slice from a DataFrame\n",
      "\n",
      "See the caveats in the documentation: https://pandas.pydata.org/pandas-docs/stable/user_guide/indexing.html#returning-a-view-versus-a-copy\n",
      "  df.interpolate(method=\"time\", inplace=True)\n",
      "C:\\Users\\21til\\AppData\\Local\\Temp\\ipykernel_21288\\2886358829.py:59: FutureWarning: DataFrame.fillna with 'method' is deprecated and will raise in a future version. Use obj.ffill() or obj.bfill() instead.\n",
      "  df.fillna(method=\"ffill\", inplace=True)\n",
      "C:\\Users\\21til\\AppData\\Local\\Temp\\ipykernel_21288\\2886358829.py:60: FutureWarning: DataFrame.fillna with 'method' is deprecated and will raise in a future version. Use obj.ffill() or obj.bfill() instead.\n",
      "  df.fillna(method=\"bfill\", inplace=True)\n"
     ]
    },
    {
     "name": "stdout",
     "output_type": "stream",
     "text": [
      "Train anomalies (pm2_5cnc): 2074\n",
      "Test anomalies (pm2_5cnc): 584\n",
      "Validation anomalies (pm2_5cnc): 293\n",
      "✅ JSON saved: jsons/5115.json\n",
      "Processing site_5119_data.csv (Site ID: 5119)...\n"
     ]
    },
    {
     "name": "stderr",
     "output_type": "stream",
     "text": [
      "C:\\Users\\21til\\AppData\\Local\\Temp\\ipykernel_21288\\2886358829.py:37: SettingWithCopyWarning: \n",
      "A value is trying to be set on a copy of a slice from a DataFrame\n",
      "\n",
      "See the caveats in the documentation: https://pandas.pydata.org/pandas-docs/stable/user_guide/indexing.html#returning-a-view-versus-a-copy\n",
      "  df.interpolate(method=\"time\", inplace=True)\n",
      "C:\\Users\\21til\\AppData\\Local\\Temp\\ipykernel_21288\\2886358829.py:59: FutureWarning: DataFrame.fillna with 'method' is deprecated and will raise in a future version. Use obj.ffill() or obj.bfill() instead.\n",
      "  df.fillna(method=\"ffill\", inplace=True)\n",
      "C:\\Users\\21til\\AppData\\Local\\Temp\\ipykernel_21288\\2886358829.py:60: FutureWarning: DataFrame.fillna with 'method' is deprecated and will raise in a future version. Use obj.ffill() or obj.bfill() instead.\n",
      "  df.fillna(method=\"bfill\", inplace=True)\n"
     ]
    },
    {
     "name": "stdout",
     "output_type": "stream",
     "text": [
      "Train anomalies (pm10cnc): 2062\n",
      "Test anomalies (pm10cnc): 593\n",
      "Validation anomalies (pm10cnc): 295\n"
     ]
    },
    {
     "name": "stderr",
     "output_type": "stream",
     "text": [
      "C:\\Users\\21til\\AppData\\Local\\Temp\\ipykernel_21288\\2886358829.py:37: SettingWithCopyWarning: \n",
      "A value is trying to be set on a copy of a slice from a DataFrame\n",
      "\n",
      "See the caveats in the documentation: https://pandas.pydata.org/pandas-docs/stable/user_guide/indexing.html#returning-a-view-versus-a-copy\n",
      "  df.interpolate(method=\"time\", inplace=True)\n",
      "C:\\Users\\21til\\AppData\\Local\\Temp\\ipykernel_21288\\2886358829.py:59: FutureWarning: DataFrame.fillna with 'method' is deprecated and will raise in a future version. Use obj.ffill() or obj.bfill() instead.\n",
      "  df.fillna(method=\"ffill\", inplace=True)\n",
      "C:\\Users\\21til\\AppData\\Local\\Temp\\ipykernel_21288\\2886358829.py:60: FutureWarning: DataFrame.fillna with 'method' is deprecated and will raise in a future version. Use obj.ffill() or obj.bfill() instead.\n",
      "  df.fillna(method=\"bfill\", inplace=True)\n"
     ]
    },
    {
     "name": "stdout",
     "output_type": "stream",
     "text": [
      "Train anomalies (pm2_5cnc): 2073\n",
      "Test anomalies (pm2_5cnc): 593\n",
      "Validation anomalies (pm2_5cnc): 295\n",
      "✅ JSON saved: jsons/5119.json\n",
      "Processing site_5120_data.csv (Site ID: 5120)...\n"
     ]
    },
    {
     "name": "stderr",
     "output_type": "stream",
     "text": [
      "C:\\Users\\21til\\AppData\\Local\\Temp\\ipykernel_21288\\2886358829.py:37: SettingWithCopyWarning: \n",
      "A value is trying to be set on a copy of a slice from a DataFrame\n",
      "\n",
      "See the caveats in the documentation: https://pandas.pydata.org/pandas-docs/stable/user_guide/indexing.html#returning-a-view-versus-a-copy\n",
      "  df.interpolate(method=\"time\", inplace=True)\n",
      "C:\\Users\\21til\\AppData\\Local\\Temp\\ipykernel_21288\\2886358829.py:59: FutureWarning: DataFrame.fillna with 'method' is deprecated and will raise in a future version. Use obj.ffill() or obj.bfill() instead.\n",
      "  df.fillna(method=\"ffill\", inplace=True)\n",
      "C:\\Users\\21til\\AppData\\Local\\Temp\\ipykernel_21288\\2886358829.py:60: FutureWarning: DataFrame.fillna with 'method' is deprecated and will raise in a future version. Use obj.ffill() or obj.bfill() instead.\n",
      "  df.fillna(method=\"bfill\", inplace=True)\n"
     ]
    },
    {
     "name": "stdout",
     "output_type": "stream",
     "text": [
      "Train anomalies (pm10cnc): 2064\n",
      "Test anomalies (pm10cnc): 587\n",
      "Validation anomalies (pm10cnc): 295\n"
     ]
    },
    {
     "name": "stderr",
     "output_type": "stream",
     "text": [
      "C:\\Users\\21til\\AppData\\Local\\Temp\\ipykernel_21288\\2886358829.py:37: SettingWithCopyWarning: \n",
      "A value is trying to be set on a copy of a slice from a DataFrame\n",
      "\n",
      "See the caveats in the documentation: https://pandas.pydata.org/pandas-docs/stable/user_guide/indexing.html#returning-a-view-versus-a-copy\n",
      "  df.interpolate(method=\"time\", inplace=True)\n",
      "C:\\Users\\21til\\AppData\\Local\\Temp\\ipykernel_21288\\2886358829.py:59: FutureWarning: DataFrame.fillna with 'method' is deprecated and will raise in a future version. Use obj.ffill() or obj.bfill() instead.\n",
      "  df.fillna(method=\"ffill\", inplace=True)\n",
      "C:\\Users\\21til\\AppData\\Local\\Temp\\ipykernel_21288\\2886358829.py:60: FutureWarning: DataFrame.fillna with 'method' is deprecated and will raise in a future version. Use obj.ffill() or obj.bfill() instead.\n",
      "  df.fillna(method=\"bfill\", inplace=True)\n"
     ]
    },
    {
     "name": "stdout",
     "output_type": "stream",
     "text": [
      "Train anomalies (pm2_5cnc): 2069\n",
      "Test anomalies (pm2_5cnc): 589\n",
      "Validation anomalies (pm2_5cnc): 293\n",
      "✅ JSON saved: jsons/5120.json\n",
      "Processing site_5126_data.csv (Site ID: 5126)...\n"
     ]
    },
    {
     "name": "stderr",
     "output_type": "stream",
     "text": [
      "C:\\Users\\21til\\AppData\\Local\\Temp\\ipykernel_21288\\2886358829.py:37: SettingWithCopyWarning: \n",
      "A value is trying to be set on a copy of a slice from a DataFrame\n",
      "\n",
      "See the caveats in the documentation: https://pandas.pydata.org/pandas-docs/stable/user_guide/indexing.html#returning-a-view-versus-a-copy\n",
      "  df.interpolate(method=\"time\", inplace=True)\n",
      "C:\\Users\\21til\\AppData\\Local\\Temp\\ipykernel_21288\\2886358829.py:59: FutureWarning: DataFrame.fillna with 'method' is deprecated and will raise in a future version. Use obj.ffill() or obj.bfill() instead.\n",
      "  df.fillna(method=\"ffill\", inplace=True)\n",
      "C:\\Users\\21til\\AppData\\Local\\Temp\\ipykernel_21288\\2886358829.py:60: FutureWarning: DataFrame.fillna with 'method' is deprecated and will raise in a future version. Use obj.ffill() or obj.bfill() instead.\n",
      "  df.fillna(method=\"bfill\", inplace=True)\n"
     ]
    },
    {
     "name": "stdout",
     "output_type": "stream",
     "text": [
      "Train anomalies (pm10cnc): 2072\n",
      "Test anomalies (pm10cnc): 592\n",
      "Validation anomalies (pm10cnc): 297\n"
     ]
    },
    {
     "name": "stderr",
     "output_type": "stream",
     "text": [
      "C:\\Users\\21til\\AppData\\Local\\Temp\\ipykernel_21288\\2886358829.py:37: SettingWithCopyWarning: \n",
      "A value is trying to be set on a copy of a slice from a DataFrame\n",
      "\n",
      "See the caveats in the documentation: https://pandas.pydata.org/pandas-docs/stable/user_guide/indexing.html#returning-a-view-versus-a-copy\n",
      "  df.interpolate(method=\"time\", inplace=True)\n",
      "C:\\Users\\21til\\AppData\\Local\\Temp\\ipykernel_21288\\2886358829.py:59: FutureWarning: DataFrame.fillna with 'method' is deprecated and will raise in a future version. Use obj.ffill() or obj.bfill() instead.\n",
      "  df.fillna(method=\"ffill\", inplace=True)\n",
      "C:\\Users\\21til\\AppData\\Local\\Temp\\ipykernel_21288\\2886358829.py:60: FutureWarning: DataFrame.fillna with 'method' is deprecated and will raise in a future version. Use obj.ffill() or obj.bfill() instead.\n",
      "  df.fillna(method=\"bfill\", inplace=True)\n"
     ]
    },
    {
     "name": "stdout",
     "output_type": "stream",
     "text": [
      "Train anomalies (pm2_5cnc): 2069\n",
      "Test anomalies (pm2_5cnc): 591\n",
      "Validation anomalies (pm2_5cnc): 297\n",
      "✅ JSON saved: jsons/5126.json\n",
      "Processing site_5129_data.csv (Site ID: 5129)...\n"
     ]
    },
    {
     "name": "stderr",
     "output_type": "stream",
     "text": [
      "C:\\Users\\21til\\AppData\\Local\\Temp\\ipykernel_21288\\2886358829.py:37: SettingWithCopyWarning: \n",
      "A value is trying to be set on a copy of a slice from a DataFrame\n",
      "\n",
      "See the caveats in the documentation: https://pandas.pydata.org/pandas-docs/stable/user_guide/indexing.html#returning-a-view-versus-a-copy\n",
      "  df.interpolate(method=\"time\", inplace=True)\n",
      "C:\\Users\\21til\\AppData\\Local\\Temp\\ipykernel_21288\\2886358829.py:59: FutureWarning: DataFrame.fillna with 'method' is deprecated and will raise in a future version. Use obj.ffill() or obj.bfill() instead.\n",
      "  df.fillna(method=\"ffill\", inplace=True)\n",
      "C:\\Users\\21til\\AppData\\Local\\Temp\\ipykernel_21288\\2886358829.py:60: FutureWarning: DataFrame.fillna with 'method' is deprecated and will raise in a future version. Use obj.ffill() or obj.bfill() instead.\n",
      "  df.fillna(method=\"bfill\", inplace=True)\n"
     ]
    },
    {
     "name": "stdout",
     "output_type": "stream",
     "text": [
      "Train anomalies (pm10cnc): 2071\n",
      "Test anomalies (pm10cnc): 593\n",
      "Validation anomalies (pm10cnc): 296\n"
     ]
    },
    {
     "name": "stderr",
     "output_type": "stream",
     "text": [
      "C:\\Users\\21til\\AppData\\Local\\Temp\\ipykernel_21288\\2886358829.py:37: SettingWithCopyWarning: \n",
      "A value is trying to be set on a copy of a slice from a DataFrame\n",
      "\n",
      "See the caveats in the documentation: https://pandas.pydata.org/pandas-docs/stable/user_guide/indexing.html#returning-a-view-versus-a-copy\n",
      "  df.interpolate(method=\"time\", inplace=True)\n",
      "C:\\Users\\21til\\AppData\\Local\\Temp\\ipykernel_21288\\2886358829.py:59: FutureWarning: DataFrame.fillna with 'method' is deprecated and will raise in a future version. Use obj.ffill() or obj.bfill() instead.\n",
      "  df.fillna(method=\"ffill\", inplace=True)\n",
      "C:\\Users\\21til\\AppData\\Local\\Temp\\ipykernel_21288\\2886358829.py:60: FutureWarning: DataFrame.fillna with 'method' is deprecated and will raise in a future version. Use obj.ffill() or obj.bfill() instead.\n",
      "  df.fillna(method=\"bfill\", inplace=True)\n"
     ]
    },
    {
     "name": "stdout",
     "output_type": "stream",
     "text": [
      "Train anomalies (pm2_5cnc): 2072\n",
      "Test anomalies (pm2_5cnc): 591\n",
      "Validation anomalies (pm2_5cnc): 294\n",
      "✅ JSON saved: jsons/5129.json\n",
      "Processing site_5238_data.csv (Site ID: 5238)...\n"
     ]
    },
    {
     "name": "stderr",
     "output_type": "stream",
     "text": [
      "C:\\Users\\21til\\AppData\\Local\\Temp\\ipykernel_21288\\2886358829.py:37: SettingWithCopyWarning: \n",
      "A value is trying to be set on a copy of a slice from a DataFrame\n",
      "\n",
      "See the caveats in the documentation: https://pandas.pydata.org/pandas-docs/stable/user_guide/indexing.html#returning-a-view-versus-a-copy\n",
      "  df.interpolate(method=\"time\", inplace=True)\n",
      "C:\\Users\\21til\\AppData\\Local\\Temp\\ipykernel_21288\\2886358829.py:59: FutureWarning: DataFrame.fillna with 'method' is deprecated and will raise in a future version. Use obj.ffill() or obj.bfill() instead.\n",
      "  df.fillna(method=\"ffill\", inplace=True)\n",
      "C:\\Users\\21til\\AppData\\Local\\Temp\\ipykernel_21288\\2886358829.py:60: FutureWarning: DataFrame.fillna with 'method' is deprecated and will raise in a future version. Use obj.ffill() or obj.bfill() instead.\n",
      "  df.fillna(method=\"bfill\", inplace=True)\n"
     ]
    },
    {
     "name": "stdout",
     "output_type": "stream",
     "text": [
      "Train anomalies (pm10cnc): 2071\n",
      "Test anomalies (pm10cnc): 588\n",
      "Validation anomalies (pm10cnc): 297\n"
     ]
    },
    {
     "name": "stderr",
     "output_type": "stream",
     "text": [
      "C:\\Users\\21til\\AppData\\Local\\Temp\\ipykernel_21288\\2886358829.py:37: SettingWithCopyWarning: \n",
      "A value is trying to be set on a copy of a slice from a DataFrame\n",
      "\n",
      "See the caveats in the documentation: https://pandas.pydata.org/pandas-docs/stable/user_guide/indexing.html#returning-a-view-versus-a-copy\n",
      "  df.interpolate(method=\"time\", inplace=True)\n",
      "C:\\Users\\21til\\AppData\\Local\\Temp\\ipykernel_21288\\2886358829.py:59: FutureWarning: DataFrame.fillna with 'method' is deprecated and will raise in a future version. Use obj.ffill() or obj.bfill() instead.\n",
      "  df.fillna(method=\"ffill\", inplace=True)\n",
      "C:\\Users\\21til\\AppData\\Local\\Temp\\ipykernel_21288\\2886358829.py:60: FutureWarning: DataFrame.fillna with 'method' is deprecated and will raise in a future version. Use obj.ffill() or obj.bfill() instead.\n",
      "  df.fillna(method=\"bfill\", inplace=True)\n"
     ]
    },
    {
     "name": "stdout",
     "output_type": "stream",
     "text": [
      "Train anomalies (pm2_5cnc): 2063\n",
      "Test anomalies (pm2_5cnc): 593\n",
      "Validation anomalies (pm2_5cnc): 297\n",
      "✅ JSON saved: jsons/5238.json\n",
      "Processing site_5393_data.csv (Site ID: 5393)...\n"
     ]
    },
    {
     "name": "stderr",
     "output_type": "stream",
     "text": [
      "C:\\Users\\21til\\AppData\\Local\\Temp\\ipykernel_21288\\2886358829.py:37: SettingWithCopyWarning: \n",
      "A value is trying to be set on a copy of a slice from a DataFrame\n",
      "\n",
      "See the caveats in the documentation: https://pandas.pydata.org/pandas-docs/stable/user_guide/indexing.html#returning-a-view-versus-a-copy\n",
      "  df.interpolate(method=\"time\", inplace=True)\n",
      "C:\\Users\\21til\\AppData\\Local\\Temp\\ipykernel_21288\\2886358829.py:59: FutureWarning: DataFrame.fillna with 'method' is deprecated and will raise in a future version. Use obj.ffill() or obj.bfill() instead.\n",
      "  df.fillna(method=\"ffill\", inplace=True)\n",
      "C:\\Users\\21til\\AppData\\Local\\Temp\\ipykernel_21288\\2886358829.py:60: FutureWarning: DataFrame.fillna with 'method' is deprecated and will raise in a future version. Use obj.ffill() or obj.bfill() instead.\n",
      "  df.fillna(method=\"bfill\", inplace=True)\n"
     ]
    },
    {
     "name": "stdout",
     "output_type": "stream",
     "text": [
      "Train anomalies (pm10cnc): 2070\n",
      "Test anomalies (pm10cnc): 587\n",
      "Validation anomalies (pm10cnc): 297\n"
     ]
    },
    {
     "name": "stderr",
     "output_type": "stream",
     "text": [
      "C:\\Users\\21til\\AppData\\Local\\Temp\\ipykernel_21288\\2886358829.py:37: SettingWithCopyWarning: \n",
      "A value is trying to be set on a copy of a slice from a DataFrame\n",
      "\n",
      "See the caveats in the documentation: https://pandas.pydata.org/pandas-docs/stable/user_guide/indexing.html#returning-a-view-versus-a-copy\n",
      "  df.interpolate(method=\"time\", inplace=True)\n",
      "C:\\Users\\21til\\AppData\\Local\\Temp\\ipykernel_21288\\2886358829.py:59: FutureWarning: DataFrame.fillna with 'method' is deprecated and will raise in a future version. Use obj.ffill() or obj.bfill() instead.\n",
      "  df.fillna(method=\"ffill\", inplace=True)\n",
      "C:\\Users\\21til\\AppData\\Local\\Temp\\ipykernel_21288\\2886358829.py:60: FutureWarning: DataFrame.fillna with 'method' is deprecated and will raise in a future version. Use obj.ffill() or obj.bfill() instead.\n",
      "  df.fillna(method=\"bfill\", inplace=True)\n"
     ]
    },
    {
     "name": "stdout",
     "output_type": "stream",
     "text": [
      "Train anomalies (pm2_5cnc): 2073\n",
      "Test anomalies (pm2_5cnc): 590\n",
      "Validation anomalies (pm2_5cnc): 297\n",
      "✅ JSON saved: jsons/5393.json\n",
      "Processing site_5394_data.csv (Site ID: 5394)...\n"
     ]
    },
    {
     "name": "stderr",
     "output_type": "stream",
     "text": [
      "C:\\Users\\21til\\AppData\\Local\\Temp\\ipykernel_21288\\2886358829.py:37: SettingWithCopyWarning: \n",
      "A value is trying to be set on a copy of a slice from a DataFrame\n",
      "\n",
      "See the caveats in the documentation: https://pandas.pydata.org/pandas-docs/stable/user_guide/indexing.html#returning-a-view-versus-a-copy\n",
      "  df.interpolate(method=\"time\", inplace=True)\n",
      "C:\\Users\\21til\\AppData\\Local\\Temp\\ipykernel_21288\\2886358829.py:59: FutureWarning: DataFrame.fillna with 'method' is deprecated and will raise in a future version. Use obj.ffill() or obj.bfill() instead.\n",
      "  df.fillna(method=\"ffill\", inplace=True)\n",
      "C:\\Users\\21til\\AppData\\Local\\Temp\\ipykernel_21288\\2886358829.py:60: FutureWarning: DataFrame.fillna with 'method' is deprecated and will raise in a future version. Use obj.ffill() or obj.bfill() instead.\n",
      "  df.fillna(method=\"bfill\", inplace=True)\n"
     ]
    },
    {
     "name": "stdout",
     "output_type": "stream",
     "text": [
      "Train anomalies (pm10cnc): 2072\n",
      "Test anomalies (pm10cnc): 592\n",
      "Validation anomalies (pm10cnc): 297\n"
     ]
    },
    {
     "name": "stderr",
     "output_type": "stream",
     "text": [
      "C:\\Users\\21til\\AppData\\Local\\Temp\\ipykernel_21288\\2886358829.py:37: SettingWithCopyWarning: \n",
      "A value is trying to be set on a copy of a slice from a DataFrame\n",
      "\n",
      "See the caveats in the documentation: https://pandas.pydata.org/pandas-docs/stable/user_guide/indexing.html#returning-a-view-versus-a-copy\n",
      "  df.interpolate(method=\"time\", inplace=True)\n",
      "C:\\Users\\21til\\AppData\\Local\\Temp\\ipykernel_21288\\2886358829.py:59: FutureWarning: DataFrame.fillna with 'method' is deprecated and will raise in a future version. Use obj.ffill() or obj.bfill() instead.\n",
      "  df.fillna(method=\"ffill\", inplace=True)\n",
      "C:\\Users\\21til\\AppData\\Local\\Temp\\ipykernel_21288\\2886358829.py:60: FutureWarning: DataFrame.fillna with 'method' is deprecated and will raise in a future version. Use obj.ffill() or obj.bfill() instead.\n",
      "  df.fillna(method=\"bfill\", inplace=True)\n"
     ]
    },
    {
     "name": "stdout",
     "output_type": "stream",
     "text": [
      "Train anomalies (pm2_5cnc): 2068\n",
      "Test anomalies (pm2_5cnc): 593\n",
      "Validation anomalies (pm2_5cnc): 297\n",
      "✅ JSON saved: jsons/5394.json\n",
      "Processing site_5395_data.csv (Site ID: 5395)...\n"
     ]
    },
    {
     "name": "stderr",
     "output_type": "stream",
     "text": [
      "C:\\Users\\21til\\AppData\\Local\\Temp\\ipykernel_21288\\2886358829.py:37: SettingWithCopyWarning: \n",
      "A value is trying to be set on a copy of a slice from a DataFrame\n",
      "\n",
      "See the caveats in the documentation: https://pandas.pydata.org/pandas-docs/stable/user_guide/indexing.html#returning-a-view-versus-a-copy\n",
      "  df.interpolate(method=\"time\", inplace=True)\n",
      "C:\\Users\\21til\\AppData\\Local\\Temp\\ipykernel_21288\\2886358829.py:59: FutureWarning: DataFrame.fillna with 'method' is deprecated and will raise in a future version. Use obj.ffill() or obj.bfill() instead.\n",
      "  df.fillna(method=\"ffill\", inplace=True)\n",
      "C:\\Users\\21til\\AppData\\Local\\Temp\\ipykernel_21288\\2886358829.py:60: FutureWarning: DataFrame.fillna with 'method' is deprecated and will raise in a future version. Use obj.ffill() or obj.bfill() instead.\n",
      "  df.fillna(method=\"bfill\", inplace=True)\n"
     ]
    },
    {
     "name": "stdout",
     "output_type": "stream",
     "text": [
      "Train anomalies (pm10cnc): 2071\n",
      "Test anomalies (pm10cnc): 593\n",
      "Validation anomalies (pm10cnc): 294\n"
     ]
    },
    {
     "name": "stderr",
     "output_type": "stream",
     "text": [
      "C:\\Users\\21til\\AppData\\Local\\Temp\\ipykernel_21288\\2886358829.py:37: SettingWithCopyWarning: \n",
      "A value is trying to be set on a copy of a slice from a DataFrame\n",
      "\n",
      "See the caveats in the documentation: https://pandas.pydata.org/pandas-docs/stable/user_guide/indexing.html#returning-a-view-versus-a-copy\n",
      "  df.interpolate(method=\"time\", inplace=True)\n",
      "C:\\Users\\21til\\AppData\\Local\\Temp\\ipykernel_21288\\2886358829.py:59: FutureWarning: DataFrame.fillna with 'method' is deprecated and will raise in a future version. Use obj.ffill() or obj.bfill() instead.\n",
      "  df.fillna(method=\"ffill\", inplace=True)\n",
      "C:\\Users\\21til\\AppData\\Local\\Temp\\ipykernel_21288\\2886358829.py:60: FutureWarning: DataFrame.fillna with 'method' is deprecated and will raise in a future version. Use obj.ffill() or obj.bfill() instead.\n",
      "  df.fillna(method=\"bfill\", inplace=True)\n"
     ]
    },
    {
     "name": "stdout",
     "output_type": "stream",
     "text": [
      "Train anomalies (pm2_5cnc): 2071\n",
      "Test anomalies (pm2_5cnc): 591\n",
      "Validation anomalies (pm2_5cnc): 297\n",
      "✅ JSON saved: jsons/5395.json\n",
      "Processing site_5396_data.csv (Site ID: 5396)...\n"
     ]
    },
    {
     "name": "stderr",
     "output_type": "stream",
     "text": [
      "C:\\Users\\21til\\AppData\\Local\\Temp\\ipykernel_21288\\2886358829.py:37: SettingWithCopyWarning: \n",
      "A value is trying to be set on a copy of a slice from a DataFrame\n",
      "\n",
      "See the caveats in the documentation: https://pandas.pydata.org/pandas-docs/stable/user_guide/indexing.html#returning-a-view-versus-a-copy\n",
      "  df.interpolate(method=\"time\", inplace=True)\n",
      "C:\\Users\\21til\\AppData\\Local\\Temp\\ipykernel_21288\\2886358829.py:59: FutureWarning: DataFrame.fillna with 'method' is deprecated and will raise in a future version. Use obj.ffill() or obj.bfill() instead.\n",
      "  df.fillna(method=\"ffill\", inplace=True)\n",
      "C:\\Users\\21til\\AppData\\Local\\Temp\\ipykernel_21288\\2886358829.py:60: FutureWarning: DataFrame.fillna with 'method' is deprecated and will raise in a future version. Use obj.ffill() or obj.bfill() instead.\n",
      "  df.fillna(method=\"bfill\", inplace=True)\n"
     ]
    },
    {
     "name": "stdout",
     "output_type": "stream",
     "text": [
      "Train anomalies (pm10cnc): 2074\n",
      "Test anomalies (pm10cnc): 592\n",
      "Validation anomalies (pm10cnc): 296\n"
     ]
    },
    {
     "name": "stderr",
     "output_type": "stream",
     "text": [
      "C:\\Users\\21til\\AppData\\Local\\Temp\\ipykernel_21288\\2886358829.py:37: SettingWithCopyWarning: \n",
      "A value is trying to be set on a copy of a slice from a DataFrame\n",
      "\n",
      "See the caveats in the documentation: https://pandas.pydata.org/pandas-docs/stable/user_guide/indexing.html#returning-a-view-versus-a-copy\n",
      "  df.interpolate(method=\"time\", inplace=True)\n",
      "C:\\Users\\21til\\AppData\\Local\\Temp\\ipykernel_21288\\2886358829.py:59: FutureWarning: DataFrame.fillna with 'method' is deprecated and will raise in a future version. Use obj.ffill() or obj.bfill() instead.\n",
      "  df.fillna(method=\"ffill\", inplace=True)\n",
      "C:\\Users\\21til\\AppData\\Local\\Temp\\ipykernel_21288\\2886358829.py:60: FutureWarning: DataFrame.fillna with 'method' is deprecated and will raise in a future version. Use obj.ffill() or obj.bfill() instead.\n",
      "  df.fillna(method=\"bfill\", inplace=True)\n"
     ]
    },
    {
     "name": "stdout",
     "output_type": "stream",
     "text": [
      "Train anomalies (pm2_5cnc): 2074\n",
      "Test anomalies (pm2_5cnc): 592\n",
      "Validation anomalies (pm2_5cnc): 297\n",
      "✅ JSON saved: jsons/5396.json\n",
      "Processing site_5397_data.csv (Site ID: 5397)...\n"
     ]
    },
    {
     "name": "stderr",
     "output_type": "stream",
     "text": [
      "C:\\Users\\21til\\AppData\\Local\\Temp\\ipykernel_21288\\2886358829.py:37: SettingWithCopyWarning: \n",
      "A value is trying to be set on a copy of a slice from a DataFrame\n",
      "\n",
      "See the caveats in the documentation: https://pandas.pydata.org/pandas-docs/stable/user_guide/indexing.html#returning-a-view-versus-a-copy\n",
      "  df.interpolate(method=\"time\", inplace=True)\n",
      "C:\\Users\\21til\\AppData\\Local\\Temp\\ipykernel_21288\\2886358829.py:59: FutureWarning: DataFrame.fillna with 'method' is deprecated and will raise in a future version. Use obj.ffill() or obj.bfill() instead.\n",
      "  df.fillna(method=\"ffill\", inplace=True)\n",
      "C:\\Users\\21til\\AppData\\Local\\Temp\\ipykernel_21288\\2886358829.py:60: FutureWarning: DataFrame.fillna with 'method' is deprecated and will raise in a future version. Use obj.ffill() or obj.bfill() instead.\n",
      "  df.fillna(method=\"bfill\", inplace=True)\n"
     ]
    },
    {
     "name": "stdout",
     "output_type": "stream",
     "text": [
      "Train anomalies (pm10cnc): 2062\n",
      "Test anomalies (pm10cnc): 593\n",
      "Validation anomalies (pm10cnc): 297\n"
     ]
    },
    {
     "name": "stderr",
     "output_type": "stream",
     "text": [
      "C:\\Users\\21til\\AppData\\Local\\Temp\\ipykernel_21288\\2886358829.py:37: SettingWithCopyWarning: \n",
      "A value is trying to be set on a copy of a slice from a DataFrame\n",
      "\n",
      "See the caveats in the documentation: https://pandas.pydata.org/pandas-docs/stable/user_guide/indexing.html#returning-a-view-versus-a-copy\n",
      "  df.interpolate(method=\"time\", inplace=True)\n",
      "C:\\Users\\21til\\AppData\\Local\\Temp\\ipykernel_21288\\2886358829.py:59: FutureWarning: DataFrame.fillna with 'method' is deprecated and will raise in a future version. Use obj.ffill() or obj.bfill() instead.\n",
      "  df.fillna(method=\"ffill\", inplace=True)\n",
      "C:\\Users\\21til\\AppData\\Local\\Temp\\ipykernel_21288\\2886358829.py:60: FutureWarning: DataFrame.fillna with 'method' is deprecated and will raise in a future version. Use obj.ffill() or obj.bfill() instead.\n",
      "  df.fillna(method=\"bfill\", inplace=True)\n"
     ]
    },
    {
     "name": "stdout",
     "output_type": "stream",
     "text": [
      "Train anomalies (pm2_5cnc): 2064\n",
      "Test anomalies (pm2_5cnc): 591\n",
      "Validation anomalies (pm2_5cnc): 297\n",
      "✅ JSON saved: jsons/5397.json\n",
      "Processing site_5398_data.csv (Site ID: 5398)...\n"
     ]
    },
    {
     "name": "stderr",
     "output_type": "stream",
     "text": [
      "C:\\Users\\21til\\AppData\\Local\\Temp\\ipykernel_21288\\2886358829.py:37: SettingWithCopyWarning: \n",
      "A value is trying to be set on a copy of a slice from a DataFrame\n",
      "\n",
      "See the caveats in the documentation: https://pandas.pydata.org/pandas-docs/stable/user_guide/indexing.html#returning-a-view-versus-a-copy\n",
      "  df.interpolate(method=\"time\", inplace=True)\n",
      "C:\\Users\\21til\\AppData\\Local\\Temp\\ipykernel_21288\\2886358829.py:59: FutureWarning: DataFrame.fillna with 'method' is deprecated and will raise in a future version. Use obj.ffill() or obj.bfill() instead.\n",
      "  df.fillna(method=\"ffill\", inplace=True)\n",
      "C:\\Users\\21til\\AppData\\Local\\Temp\\ipykernel_21288\\2886358829.py:60: FutureWarning: DataFrame.fillna with 'method' is deprecated and will raise in a future version. Use obj.ffill() or obj.bfill() instead.\n",
      "  df.fillna(method=\"bfill\", inplace=True)\n"
     ]
    },
    {
     "name": "stdout",
     "output_type": "stream",
     "text": [
      "Train anomalies (pm10cnc): 2073\n",
      "Test anomalies (pm10cnc): 592\n",
      "Validation anomalies (pm10cnc): 297\n"
     ]
    },
    {
     "name": "stderr",
     "output_type": "stream",
     "text": [
      "C:\\Users\\21til\\AppData\\Local\\Temp\\ipykernel_21288\\2886358829.py:37: SettingWithCopyWarning: \n",
      "A value is trying to be set on a copy of a slice from a DataFrame\n",
      "\n",
      "See the caveats in the documentation: https://pandas.pydata.org/pandas-docs/stable/user_guide/indexing.html#returning-a-view-versus-a-copy\n",
      "  df.interpolate(method=\"time\", inplace=True)\n",
      "C:\\Users\\21til\\AppData\\Local\\Temp\\ipykernel_21288\\2886358829.py:59: FutureWarning: DataFrame.fillna with 'method' is deprecated and will raise in a future version. Use obj.ffill() or obj.bfill() instead.\n",
      "  df.fillna(method=\"ffill\", inplace=True)\n",
      "C:\\Users\\21til\\AppData\\Local\\Temp\\ipykernel_21288\\2886358829.py:60: FutureWarning: DataFrame.fillna with 'method' is deprecated and will raise in a future version. Use obj.ffill() or obj.bfill() instead.\n",
      "  df.fillna(method=\"bfill\", inplace=True)\n"
     ]
    },
    {
     "name": "stdout",
     "output_type": "stream",
     "text": [
      "Train anomalies (pm2_5cnc): 2068\n",
      "Test anomalies (pm2_5cnc): 593\n",
      "Validation anomalies (pm2_5cnc): 297\n",
      "✅ JSON saved: jsons/5398.json\n",
      "Processing site_5399_data.csv (Site ID: 5399)...\n"
     ]
    },
    {
     "name": "stderr",
     "output_type": "stream",
     "text": [
      "C:\\Users\\21til\\AppData\\Local\\Temp\\ipykernel_21288\\2886358829.py:37: SettingWithCopyWarning: \n",
      "A value is trying to be set on a copy of a slice from a DataFrame\n",
      "\n",
      "See the caveats in the documentation: https://pandas.pydata.org/pandas-docs/stable/user_guide/indexing.html#returning-a-view-versus-a-copy\n",
      "  df.interpolate(method=\"time\", inplace=True)\n",
      "C:\\Users\\21til\\AppData\\Local\\Temp\\ipykernel_21288\\2886358829.py:59: FutureWarning: DataFrame.fillna with 'method' is deprecated and will raise in a future version. Use obj.ffill() or obj.bfill() instead.\n",
      "  df.fillna(method=\"ffill\", inplace=True)\n",
      "C:\\Users\\21til\\AppData\\Local\\Temp\\ipykernel_21288\\2886358829.py:60: FutureWarning: DataFrame.fillna with 'method' is deprecated and will raise in a future version. Use obj.ffill() or obj.bfill() instead.\n",
      "  df.fillna(method=\"bfill\", inplace=True)\n"
     ]
    },
    {
     "name": "stdout",
     "output_type": "stream",
     "text": [
      "Train anomalies (pm10cnc): 2067\n",
      "Test anomalies (pm10cnc): 588\n",
      "Validation anomalies (pm10cnc): 296\n"
     ]
    },
    {
     "name": "stderr",
     "output_type": "stream",
     "text": [
      "C:\\Users\\21til\\AppData\\Local\\Temp\\ipykernel_21288\\2886358829.py:37: SettingWithCopyWarning: \n",
      "A value is trying to be set on a copy of a slice from a DataFrame\n",
      "\n",
      "See the caveats in the documentation: https://pandas.pydata.org/pandas-docs/stable/user_guide/indexing.html#returning-a-view-versus-a-copy\n",
      "  df.interpolate(method=\"time\", inplace=True)\n",
      "C:\\Users\\21til\\AppData\\Local\\Temp\\ipykernel_21288\\2886358829.py:59: FutureWarning: DataFrame.fillna with 'method' is deprecated and will raise in a future version. Use obj.ffill() or obj.bfill() instead.\n",
      "  df.fillna(method=\"ffill\", inplace=True)\n",
      "C:\\Users\\21til\\AppData\\Local\\Temp\\ipykernel_21288\\2886358829.py:60: FutureWarning: DataFrame.fillna with 'method' is deprecated and will raise in a future version. Use obj.ffill() or obj.bfill() instead.\n",
      "  df.fillna(method=\"bfill\", inplace=True)\n"
     ]
    },
    {
     "name": "stdout",
     "output_type": "stream",
     "text": [
      "Train anomalies (pm2_5cnc): 2066\n",
      "Test anomalies (pm2_5cnc): 589\n",
      "Validation anomalies (pm2_5cnc): 297\n",
      "✅ JSON saved: jsons/5399.json\n",
      "Processing site_5400_data.csv (Site ID: 5400)...\n"
     ]
    },
    {
     "name": "stderr",
     "output_type": "stream",
     "text": [
      "C:\\Users\\21til\\AppData\\Local\\Temp\\ipykernel_21288\\2886358829.py:37: SettingWithCopyWarning: \n",
      "A value is trying to be set on a copy of a slice from a DataFrame\n",
      "\n",
      "See the caveats in the documentation: https://pandas.pydata.org/pandas-docs/stable/user_guide/indexing.html#returning-a-view-versus-a-copy\n",
      "  df.interpolate(method=\"time\", inplace=True)\n",
      "C:\\Users\\21til\\AppData\\Local\\Temp\\ipykernel_21288\\2886358829.py:59: FutureWarning: DataFrame.fillna with 'method' is deprecated and will raise in a future version. Use obj.ffill() or obj.bfill() instead.\n",
      "  df.fillna(method=\"ffill\", inplace=True)\n",
      "C:\\Users\\21til\\AppData\\Local\\Temp\\ipykernel_21288\\2886358829.py:60: FutureWarning: DataFrame.fillna with 'method' is deprecated and will raise in a future version. Use obj.ffill() or obj.bfill() instead.\n",
      "  df.fillna(method=\"bfill\", inplace=True)\n"
     ]
    },
    {
     "name": "stdout",
     "output_type": "stream",
     "text": [
      "Train anomalies (pm10cnc): 2072\n",
      "Test anomalies (pm10cnc): 592\n",
      "Validation anomalies (pm10cnc): 297\n"
     ]
    },
    {
     "name": "stderr",
     "output_type": "stream",
     "text": [
      "C:\\Users\\21til\\AppData\\Local\\Temp\\ipykernel_21288\\2886358829.py:37: SettingWithCopyWarning: \n",
      "A value is trying to be set on a copy of a slice from a DataFrame\n",
      "\n",
      "See the caveats in the documentation: https://pandas.pydata.org/pandas-docs/stable/user_guide/indexing.html#returning-a-view-versus-a-copy\n",
      "  df.interpolate(method=\"time\", inplace=True)\n",
      "C:\\Users\\21til\\AppData\\Local\\Temp\\ipykernel_21288\\2886358829.py:59: FutureWarning: DataFrame.fillna with 'method' is deprecated and will raise in a future version. Use obj.ffill() or obj.bfill() instead.\n",
      "  df.fillna(method=\"ffill\", inplace=True)\n",
      "C:\\Users\\21til\\AppData\\Local\\Temp\\ipykernel_21288\\2886358829.py:60: FutureWarning: DataFrame.fillna with 'method' is deprecated and will raise in a future version. Use obj.ffill() or obj.bfill() instead.\n",
      "  df.fillna(method=\"bfill\", inplace=True)\n"
     ]
    },
    {
     "name": "stdout",
     "output_type": "stream",
     "text": [
      "Train anomalies (pm2_5cnc): 2064\n",
      "Test anomalies (pm2_5cnc): 593\n",
      "Validation anomalies (pm2_5cnc): 297\n",
      "✅ JSON saved: jsons/5400.json\n",
      "Processing site_5402_data.csv (Site ID: 5402)...\n"
     ]
    },
    {
     "name": "stderr",
     "output_type": "stream",
     "text": [
      "C:\\Users\\21til\\AppData\\Local\\Temp\\ipykernel_21288\\2886358829.py:37: SettingWithCopyWarning: \n",
      "A value is trying to be set on a copy of a slice from a DataFrame\n",
      "\n",
      "See the caveats in the documentation: https://pandas.pydata.org/pandas-docs/stable/user_guide/indexing.html#returning-a-view-versus-a-copy\n",
      "  df.interpolate(method=\"time\", inplace=True)\n",
      "C:\\Users\\21til\\AppData\\Local\\Temp\\ipykernel_21288\\2886358829.py:59: FutureWarning: DataFrame.fillna with 'method' is deprecated and will raise in a future version. Use obj.ffill() or obj.bfill() instead.\n",
      "  df.fillna(method=\"ffill\", inplace=True)\n",
      "C:\\Users\\21til\\AppData\\Local\\Temp\\ipykernel_21288\\2886358829.py:60: FutureWarning: DataFrame.fillna with 'method' is deprecated and will raise in a future version. Use obj.ffill() or obj.bfill() instead.\n",
      "  df.fillna(method=\"bfill\", inplace=True)\n"
     ]
    },
    {
     "name": "stdout",
     "output_type": "stream",
     "text": [
      "Train anomalies (pm10cnc): 2072\n",
      "Test anomalies (pm10cnc): 593\n",
      "Validation anomalies (pm10cnc): 294\n"
     ]
    },
    {
     "name": "stderr",
     "output_type": "stream",
     "text": [
      "C:\\Users\\21til\\AppData\\Local\\Temp\\ipykernel_21288\\2886358829.py:37: SettingWithCopyWarning: \n",
      "A value is trying to be set on a copy of a slice from a DataFrame\n",
      "\n",
      "See the caveats in the documentation: https://pandas.pydata.org/pandas-docs/stable/user_guide/indexing.html#returning-a-view-versus-a-copy\n",
      "  df.interpolate(method=\"time\", inplace=True)\n",
      "C:\\Users\\21til\\AppData\\Local\\Temp\\ipykernel_21288\\2886358829.py:59: FutureWarning: DataFrame.fillna with 'method' is deprecated and will raise in a future version. Use obj.ffill() or obj.bfill() instead.\n",
      "  df.fillna(method=\"ffill\", inplace=True)\n",
      "C:\\Users\\21til\\AppData\\Local\\Temp\\ipykernel_21288\\2886358829.py:60: FutureWarning: DataFrame.fillna with 'method' is deprecated and will raise in a future version. Use obj.ffill() or obj.bfill() instead.\n",
      "  df.fillna(method=\"bfill\", inplace=True)\n"
     ]
    },
    {
     "name": "stdout",
     "output_type": "stream",
     "text": [
      "Train anomalies (pm2_5cnc): 2074\n",
      "Test anomalies (pm2_5cnc): 589\n",
      "Validation anomalies (pm2_5cnc): 295\n",
      "✅ JSON saved: jsons/5402.json\n",
      "Processing site_5403_data.csv (Site ID: 5403)...\n"
     ]
    },
    {
     "name": "stderr",
     "output_type": "stream",
     "text": [
      "C:\\Users\\21til\\AppData\\Local\\Temp\\ipykernel_21288\\2886358829.py:37: SettingWithCopyWarning: \n",
      "A value is trying to be set on a copy of a slice from a DataFrame\n",
      "\n",
      "See the caveats in the documentation: https://pandas.pydata.org/pandas-docs/stable/user_guide/indexing.html#returning-a-view-versus-a-copy\n",
      "  df.interpolate(method=\"time\", inplace=True)\n",
      "C:\\Users\\21til\\AppData\\Local\\Temp\\ipykernel_21288\\2886358829.py:59: FutureWarning: DataFrame.fillna with 'method' is deprecated and will raise in a future version. Use obj.ffill() or obj.bfill() instead.\n",
      "  df.fillna(method=\"ffill\", inplace=True)\n",
      "C:\\Users\\21til\\AppData\\Local\\Temp\\ipykernel_21288\\2886358829.py:60: FutureWarning: DataFrame.fillna with 'method' is deprecated and will raise in a future version. Use obj.ffill() or obj.bfill() instead.\n",
      "  df.fillna(method=\"bfill\", inplace=True)\n"
     ]
    },
    {
     "name": "stdout",
     "output_type": "stream",
     "text": [
      "Train anomalies (pm10cnc): 2059\n",
      "Test anomalies (pm10cnc): 590\n",
      "Validation anomalies (pm10cnc): 294\n"
     ]
    },
    {
     "name": "stderr",
     "output_type": "stream",
     "text": [
      "C:\\Users\\21til\\AppData\\Local\\Temp\\ipykernel_21288\\2886358829.py:37: SettingWithCopyWarning: \n",
      "A value is trying to be set on a copy of a slice from a DataFrame\n",
      "\n",
      "See the caveats in the documentation: https://pandas.pydata.org/pandas-docs/stable/user_guide/indexing.html#returning-a-view-versus-a-copy\n",
      "  df.interpolate(method=\"time\", inplace=True)\n",
      "C:\\Users\\21til\\AppData\\Local\\Temp\\ipykernel_21288\\2886358829.py:59: FutureWarning: DataFrame.fillna with 'method' is deprecated and will raise in a future version. Use obj.ffill() or obj.bfill() instead.\n",
      "  df.fillna(method=\"ffill\", inplace=True)\n",
      "C:\\Users\\21til\\AppData\\Local\\Temp\\ipykernel_21288\\2886358829.py:60: FutureWarning: DataFrame.fillna with 'method' is deprecated and will raise in a future version. Use obj.ffill() or obj.bfill() instead.\n",
      "  df.fillna(method=\"bfill\", inplace=True)\n"
     ]
    },
    {
     "name": "stdout",
     "output_type": "stream",
     "text": [
      "Train anomalies (pm2_5cnc): 2066\n",
      "Test anomalies (pm2_5cnc): 593\n",
      "Validation anomalies (pm2_5cnc): 294\n",
      "✅ JSON saved: jsons/5403.json\n",
      "Processing site_5412_data.csv (Site ID: 5412)...\n"
     ]
    },
    {
     "name": "stderr",
     "output_type": "stream",
     "text": [
      "C:\\Users\\21til\\AppData\\Local\\Temp\\ipykernel_21288\\2886358829.py:37: SettingWithCopyWarning: \n",
      "A value is trying to be set on a copy of a slice from a DataFrame\n",
      "\n",
      "See the caveats in the documentation: https://pandas.pydata.org/pandas-docs/stable/user_guide/indexing.html#returning-a-view-versus-a-copy\n",
      "  df.interpolate(method=\"time\", inplace=True)\n",
      "C:\\Users\\21til\\AppData\\Local\\Temp\\ipykernel_21288\\2886358829.py:59: FutureWarning: DataFrame.fillna with 'method' is deprecated and will raise in a future version. Use obj.ffill() or obj.bfill() instead.\n",
      "  df.fillna(method=\"ffill\", inplace=True)\n",
      "C:\\Users\\21til\\AppData\\Local\\Temp\\ipykernel_21288\\2886358829.py:60: FutureWarning: DataFrame.fillna with 'method' is deprecated and will raise in a future version. Use obj.ffill() or obj.bfill() instead.\n",
      "  df.fillna(method=\"bfill\", inplace=True)\n"
     ]
    },
    {
     "name": "stdout",
     "output_type": "stream",
     "text": [
      "Train anomalies (pm10cnc): 2074\n",
      "Test anomalies (pm10cnc): 592\n",
      "Validation anomalies (pm10cnc): 296\n"
     ]
    },
    {
     "name": "stderr",
     "output_type": "stream",
     "text": [
      "C:\\Users\\21til\\AppData\\Local\\Temp\\ipykernel_21288\\2886358829.py:37: SettingWithCopyWarning: \n",
      "A value is trying to be set on a copy of a slice from a DataFrame\n",
      "\n",
      "See the caveats in the documentation: https://pandas.pydata.org/pandas-docs/stable/user_guide/indexing.html#returning-a-view-versus-a-copy\n",
      "  df.interpolate(method=\"time\", inplace=True)\n",
      "C:\\Users\\21til\\AppData\\Local\\Temp\\ipykernel_21288\\2886358829.py:59: FutureWarning: DataFrame.fillna with 'method' is deprecated and will raise in a future version. Use obj.ffill() or obj.bfill() instead.\n",
      "  df.fillna(method=\"ffill\", inplace=True)\n",
      "C:\\Users\\21til\\AppData\\Local\\Temp\\ipykernel_21288\\2886358829.py:60: FutureWarning: DataFrame.fillna with 'method' is deprecated and will raise in a future version. Use obj.ffill() or obj.bfill() instead.\n",
      "  df.fillna(method=\"bfill\", inplace=True)\n"
     ]
    },
    {
     "name": "stdout",
     "output_type": "stream",
     "text": [
      "Train anomalies (pm2_5cnc): 2053\n",
      "Test anomalies (pm2_5cnc): 585\n",
      "Validation anomalies (pm2_5cnc): 295\n",
      "✅ JSON saved: jsons/5412.json\n",
      "Processing site_5413_data.csv (Site ID: 5413)...\n"
     ]
    },
    {
     "name": "stderr",
     "output_type": "stream",
     "text": [
      "C:\\Users\\21til\\AppData\\Local\\Temp\\ipykernel_21288\\2886358829.py:37: SettingWithCopyWarning: \n",
      "A value is trying to be set on a copy of a slice from a DataFrame\n",
      "\n",
      "See the caveats in the documentation: https://pandas.pydata.org/pandas-docs/stable/user_guide/indexing.html#returning-a-view-versus-a-copy\n",
      "  df.interpolate(method=\"time\", inplace=True)\n",
      "C:\\Users\\21til\\AppData\\Local\\Temp\\ipykernel_21288\\2886358829.py:59: FutureWarning: DataFrame.fillna with 'method' is deprecated and will raise in a future version. Use obj.ffill() or obj.bfill() instead.\n",
      "  df.fillna(method=\"ffill\", inplace=True)\n",
      "C:\\Users\\21til\\AppData\\Local\\Temp\\ipykernel_21288\\2886358829.py:60: FutureWarning: DataFrame.fillna with 'method' is deprecated and will raise in a future version. Use obj.ffill() or obj.bfill() instead.\n",
      "  df.fillna(method=\"bfill\", inplace=True)\n"
     ]
    },
    {
     "name": "stdout",
     "output_type": "stream",
     "text": [
      "Train anomalies (pm10cnc): 2071\n",
      "Test anomalies (pm10cnc): 593\n",
      "Validation anomalies (pm10cnc): 297\n"
     ]
    },
    {
     "name": "stderr",
     "output_type": "stream",
     "text": [
      "C:\\Users\\21til\\AppData\\Local\\Temp\\ipykernel_21288\\2886358829.py:37: SettingWithCopyWarning: \n",
      "A value is trying to be set on a copy of a slice from a DataFrame\n",
      "\n",
      "See the caveats in the documentation: https://pandas.pydata.org/pandas-docs/stable/user_guide/indexing.html#returning-a-view-versus-a-copy\n",
      "  df.interpolate(method=\"time\", inplace=True)\n",
      "C:\\Users\\21til\\AppData\\Local\\Temp\\ipykernel_21288\\2886358829.py:59: FutureWarning: DataFrame.fillna with 'method' is deprecated and will raise in a future version. Use obj.ffill() or obj.bfill() instead.\n",
      "  df.fillna(method=\"ffill\", inplace=True)\n",
      "C:\\Users\\21til\\AppData\\Local\\Temp\\ipykernel_21288\\2886358829.py:60: FutureWarning: DataFrame.fillna with 'method' is deprecated and will raise in a future version. Use obj.ffill() or obj.bfill() instead.\n",
      "  df.fillna(method=\"bfill\", inplace=True)\n"
     ]
    },
    {
     "name": "stdout",
     "output_type": "stream",
     "text": [
      "Train anomalies (pm2_5cnc): 2059\n",
      "Test anomalies (pm2_5cnc): 592\n",
      "Validation anomalies (pm2_5cnc): 297\n",
      "✅ JSON saved: jsons/5413.json\n",
      "Processing site_5595_data.csv (Site ID: 5595)...\n"
     ]
    },
    {
     "name": "stderr",
     "output_type": "stream",
     "text": [
      "C:\\Users\\21til\\AppData\\Local\\Temp\\ipykernel_21288\\2886358829.py:37: SettingWithCopyWarning: \n",
      "A value is trying to be set on a copy of a slice from a DataFrame\n",
      "\n",
      "See the caveats in the documentation: https://pandas.pydata.org/pandas-docs/stable/user_guide/indexing.html#returning-a-view-versus-a-copy\n",
      "  df.interpolate(method=\"time\", inplace=True)\n",
      "C:\\Users\\21til\\AppData\\Local\\Temp\\ipykernel_21288\\2886358829.py:59: FutureWarning: DataFrame.fillna with 'method' is deprecated and will raise in a future version. Use obj.ffill() or obj.bfill() instead.\n",
      "  df.fillna(method=\"ffill\", inplace=True)\n",
      "C:\\Users\\21til\\AppData\\Local\\Temp\\ipykernel_21288\\2886358829.py:60: FutureWarning: DataFrame.fillna with 'method' is deprecated and will raise in a future version. Use obj.ffill() or obj.bfill() instead.\n",
      "  df.fillna(method=\"bfill\", inplace=True)\n"
     ]
    },
    {
     "name": "stdout",
     "output_type": "stream",
     "text": [
      "Train anomalies (pm10cnc): 2059\n",
      "Test anomalies (pm10cnc): 593\n",
      "Validation anomalies (pm10cnc): 296\n"
     ]
    },
    {
     "name": "stderr",
     "output_type": "stream",
     "text": [
      "C:\\Users\\21til\\AppData\\Local\\Temp\\ipykernel_21288\\2886358829.py:37: SettingWithCopyWarning: \n",
      "A value is trying to be set on a copy of a slice from a DataFrame\n",
      "\n",
      "See the caveats in the documentation: https://pandas.pydata.org/pandas-docs/stable/user_guide/indexing.html#returning-a-view-versus-a-copy\n",
      "  df.interpolate(method=\"time\", inplace=True)\n",
      "C:\\Users\\21til\\AppData\\Local\\Temp\\ipykernel_21288\\2886358829.py:59: FutureWarning: DataFrame.fillna with 'method' is deprecated and will raise in a future version. Use obj.ffill() or obj.bfill() instead.\n",
      "  df.fillna(method=\"ffill\", inplace=True)\n",
      "C:\\Users\\21til\\AppData\\Local\\Temp\\ipykernel_21288\\2886358829.py:60: FutureWarning: DataFrame.fillna with 'method' is deprecated and will raise in a future version. Use obj.ffill() or obj.bfill() instead.\n",
      "  df.fillna(method=\"bfill\", inplace=True)\n"
     ]
    },
    {
     "name": "stdout",
     "output_type": "stream",
     "text": [
      "Train anomalies (pm2_5cnc): 2071\n",
      "Test anomalies (pm2_5cnc): 593\n",
      "Validation anomalies (pm2_5cnc): 293\n",
      "✅ JSON saved: jsons/5595.json\n",
      "Processing site_5596_data.csv (Site ID: 5596)...\n"
     ]
    },
    {
     "name": "stderr",
     "output_type": "stream",
     "text": [
      "C:\\Users\\21til\\AppData\\Local\\Temp\\ipykernel_21288\\2886358829.py:37: SettingWithCopyWarning: \n",
      "A value is trying to be set on a copy of a slice from a DataFrame\n",
      "\n",
      "See the caveats in the documentation: https://pandas.pydata.org/pandas-docs/stable/user_guide/indexing.html#returning-a-view-versus-a-copy\n",
      "  df.interpolate(method=\"time\", inplace=True)\n",
      "C:\\Users\\21til\\AppData\\Local\\Temp\\ipykernel_21288\\2886358829.py:59: FutureWarning: DataFrame.fillna with 'method' is deprecated and will raise in a future version. Use obj.ffill() or obj.bfill() instead.\n",
      "  df.fillna(method=\"ffill\", inplace=True)\n",
      "C:\\Users\\21til\\AppData\\Local\\Temp\\ipykernel_21288\\2886358829.py:60: FutureWarning: DataFrame.fillna with 'method' is deprecated and will raise in a future version. Use obj.ffill() or obj.bfill() instead.\n",
      "  df.fillna(method=\"bfill\", inplace=True)\n"
     ]
    },
    {
     "name": "stdout",
     "output_type": "stream",
     "text": [
      "Train anomalies (pm10cnc): 2069\n",
      "Test anomalies (pm10cnc): 591\n",
      "Validation anomalies (pm10cnc): 297\n"
     ]
    },
    {
     "name": "stderr",
     "output_type": "stream",
     "text": [
      "C:\\Users\\21til\\AppData\\Local\\Temp\\ipykernel_21288\\2886358829.py:37: SettingWithCopyWarning: \n",
      "A value is trying to be set on a copy of a slice from a DataFrame\n",
      "\n",
      "See the caveats in the documentation: https://pandas.pydata.org/pandas-docs/stable/user_guide/indexing.html#returning-a-view-versus-a-copy\n",
      "  df.interpolate(method=\"time\", inplace=True)\n",
      "C:\\Users\\21til\\AppData\\Local\\Temp\\ipykernel_21288\\2886358829.py:59: FutureWarning: DataFrame.fillna with 'method' is deprecated and will raise in a future version. Use obj.ffill() or obj.bfill() instead.\n",
      "  df.fillna(method=\"ffill\", inplace=True)\n",
      "C:\\Users\\21til\\AppData\\Local\\Temp\\ipykernel_21288\\2886358829.py:60: FutureWarning: DataFrame.fillna with 'method' is deprecated and will raise in a future version. Use obj.ffill() or obj.bfill() instead.\n",
      "  df.fillna(method=\"bfill\", inplace=True)\n"
     ]
    },
    {
     "name": "stdout",
     "output_type": "stream",
     "text": [
      "Train anomalies (pm2_5cnc): 2062\n",
      "Test anomalies (pm2_5cnc): 591\n",
      "Validation anomalies (pm2_5cnc): 294\n",
      "✅ JSON saved: jsons/5596.json\n",
      "Processing site_5597_data.csv (Site ID: 5597)...\n"
     ]
    },
    {
     "name": "stderr",
     "output_type": "stream",
     "text": [
      "C:\\Users\\21til\\AppData\\Local\\Temp\\ipykernel_21288\\2886358829.py:37: SettingWithCopyWarning: \n",
      "A value is trying to be set on a copy of a slice from a DataFrame\n",
      "\n",
      "See the caveats in the documentation: https://pandas.pydata.org/pandas-docs/stable/user_guide/indexing.html#returning-a-view-versus-a-copy\n",
      "  df.interpolate(method=\"time\", inplace=True)\n",
      "C:\\Users\\21til\\AppData\\Local\\Temp\\ipykernel_21288\\2886358829.py:59: FutureWarning: DataFrame.fillna with 'method' is deprecated and will raise in a future version. Use obj.ffill() or obj.bfill() instead.\n",
      "  df.fillna(method=\"ffill\", inplace=True)\n",
      "C:\\Users\\21til\\AppData\\Local\\Temp\\ipykernel_21288\\2886358829.py:60: FutureWarning: DataFrame.fillna with 'method' is deprecated and will raise in a future version. Use obj.ffill() or obj.bfill() instead.\n",
      "  df.fillna(method=\"bfill\", inplace=True)\n"
     ]
    },
    {
     "name": "stdout",
     "output_type": "stream",
     "text": [
      "Train anomalies (pm10cnc): 2069\n",
      "Test anomalies (pm10cnc): 592\n",
      "Validation anomalies (pm10cnc): 297\n"
     ]
    },
    {
     "name": "stderr",
     "output_type": "stream",
     "text": [
      "C:\\Users\\21til\\AppData\\Local\\Temp\\ipykernel_21288\\2886358829.py:37: SettingWithCopyWarning: \n",
      "A value is trying to be set on a copy of a slice from a DataFrame\n",
      "\n",
      "See the caveats in the documentation: https://pandas.pydata.org/pandas-docs/stable/user_guide/indexing.html#returning-a-view-versus-a-copy\n",
      "  df.interpolate(method=\"time\", inplace=True)\n",
      "C:\\Users\\21til\\AppData\\Local\\Temp\\ipykernel_21288\\2886358829.py:59: FutureWarning: DataFrame.fillna with 'method' is deprecated and will raise in a future version. Use obj.ffill() or obj.bfill() instead.\n",
      "  df.fillna(method=\"ffill\", inplace=True)\n",
      "C:\\Users\\21til\\AppData\\Local\\Temp\\ipykernel_21288\\2886358829.py:60: FutureWarning: DataFrame.fillna with 'method' is deprecated and will raise in a future version. Use obj.ffill() or obj.bfill() instead.\n",
      "  df.fillna(method=\"bfill\", inplace=True)\n"
     ]
    },
    {
     "name": "stdout",
     "output_type": "stream",
     "text": [
      "Train anomalies (pm2_5cnc): 2073\n",
      "Test anomalies (pm2_5cnc): 593\n",
      "Validation anomalies (pm2_5cnc): 297\n",
      "✅ JSON saved: jsons/5597.json\n",
      "Processing site_5598_data.csv (Site ID: 5598)...\n"
     ]
    },
    {
     "name": "stderr",
     "output_type": "stream",
     "text": [
      "C:\\Users\\21til\\AppData\\Local\\Temp\\ipykernel_21288\\2886358829.py:37: SettingWithCopyWarning: \n",
      "A value is trying to be set on a copy of a slice from a DataFrame\n",
      "\n",
      "See the caveats in the documentation: https://pandas.pydata.org/pandas-docs/stable/user_guide/indexing.html#returning-a-view-versus-a-copy\n",
      "  df.interpolate(method=\"time\", inplace=True)\n",
      "C:\\Users\\21til\\AppData\\Local\\Temp\\ipykernel_21288\\2886358829.py:59: FutureWarning: DataFrame.fillna with 'method' is deprecated and will raise in a future version. Use obj.ffill() or obj.bfill() instead.\n",
      "  df.fillna(method=\"ffill\", inplace=True)\n",
      "C:\\Users\\21til\\AppData\\Local\\Temp\\ipykernel_21288\\2886358829.py:60: FutureWarning: DataFrame.fillna with 'method' is deprecated and will raise in a future version. Use obj.ffill() or obj.bfill() instead.\n",
      "  df.fillna(method=\"bfill\", inplace=True)\n"
     ]
    },
    {
     "name": "stdout",
     "output_type": "stream",
     "text": [
      "Train anomalies (pm10cnc): 2071\n",
      "Test anomalies (pm10cnc): 591\n",
      "Validation anomalies (pm10cnc): 297\n"
     ]
    },
    {
     "name": "stderr",
     "output_type": "stream",
     "text": [
      "C:\\Users\\21til\\AppData\\Local\\Temp\\ipykernel_21288\\2886358829.py:37: SettingWithCopyWarning: \n",
      "A value is trying to be set on a copy of a slice from a DataFrame\n",
      "\n",
      "See the caveats in the documentation: https://pandas.pydata.org/pandas-docs/stable/user_guide/indexing.html#returning-a-view-versus-a-copy\n",
      "  df.interpolate(method=\"time\", inplace=True)\n",
      "C:\\Users\\21til\\AppData\\Local\\Temp\\ipykernel_21288\\2886358829.py:59: FutureWarning: DataFrame.fillna with 'method' is deprecated and will raise in a future version. Use obj.ffill() or obj.bfill() instead.\n",
      "  df.fillna(method=\"ffill\", inplace=True)\n",
      "C:\\Users\\21til\\AppData\\Local\\Temp\\ipykernel_21288\\2886358829.py:60: FutureWarning: DataFrame.fillna with 'method' is deprecated and will raise in a future version. Use obj.ffill() or obj.bfill() instead.\n",
      "  df.fillna(method=\"bfill\", inplace=True)\n"
     ]
    },
    {
     "name": "stdout",
     "output_type": "stream",
     "text": [
      "Train anomalies (pm2_5cnc): 2072\n",
      "Test anomalies (pm2_5cnc): 592\n",
      "Validation anomalies (pm2_5cnc): 297\n",
      "✅ JSON saved: jsons/5598.json\n",
      "Processing site_5599_data.csv (Site ID: 5599)...\n"
     ]
    },
    {
     "name": "stderr",
     "output_type": "stream",
     "text": [
      "C:\\Users\\21til\\AppData\\Local\\Temp\\ipykernel_21288\\2886358829.py:37: SettingWithCopyWarning: \n",
      "A value is trying to be set on a copy of a slice from a DataFrame\n",
      "\n",
      "See the caveats in the documentation: https://pandas.pydata.org/pandas-docs/stable/user_guide/indexing.html#returning-a-view-versus-a-copy\n",
      "  df.interpolate(method=\"time\", inplace=True)\n",
      "C:\\Users\\21til\\AppData\\Local\\Temp\\ipykernel_21288\\2886358829.py:59: FutureWarning: DataFrame.fillna with 'method' is deprecated and will raise in a future version. Use obj.ffill() or obj.bfill() instead.\n",
      "  df.fillna(method=\"ffill\", inplace=True)\n",
      "C:\\Users\\21til\\AppData\\Local\\Temp\\ipykernel_21288\\2886358829.py:60: FutureWarning: DataFrame.fillna with 'method' is deprecated and will raise in a future version. Use obj.ffill() or obj.bfill() instead.\n",
      "  df.fillna(method=\"bfill\", inplace=True)\n"
     ]
    },
    {
     "name": "stdout",
     "output_type": "stream",
     "text": [
      "Train anomalies (pm10cnc): 2070\n",
      "Test anomalies (pm10cnc): 593\n",
      "Validation anomalies (pm10cnc): 297\n"
     ]
    },
    {
     "name": "stderr",
     "output_type": "stream",
     "text": [
      "C:\\Users\\21til\\AppData\\Local\\Temp\\ipykernel_21288\\2886358829.py:37: SettingWithCopyWarning: \n",
      "A value is trying to be set on a copy of a slice from a DataFrame\n",
      "\n",
      "See the caveats in the documentation: https://pandas.pydata.org/pandas-docs/stable/user_guide/indexing.html#returning-a-view-versus-a-copy\n",
      "  df.interpolate(method=\"time\", inplace=True)\n",
      "C:\\Users\\21til\\AppData\\Local\\Temp\\ipykernel_21288\\2886358829.py:59: FutureWarning: DataFrame.fillna with 'method' is deprecated and will raise in a future version. Use obj.ffill() or obj.bfill() instead.\n",
      "  df.fillna(method=\"ffill\", inplace=True)\n",
      "C:\\Users\\21til\\AppData\\Local\\Temp\\ipykernel_21288\\2886358829.py:60: FutureWarning: DataFrame.fillna with 'method' is deprecated and will raise in a future version. Use obj.ffill() or obj.bfill() instead.\n",
      "  df.fillna(method=\"bfill\", inplace=True)\n"
     ]
    },
    {
     "name": "stdout",
     "output_type": "stream",
     "text": [
      "Train anomalies (pm2_5cnc): 2074\n",
      "Test anomalies (pm2_5cnc): 592\n",
      "Validation anomalies (pm2_5cnc): 297\n",
      "✅ JSON saved: jsons/5599.json\n",
      "Processing site_5600_data.csv (Site ID: 5600)...\n"
     ]
    },
    {
     "name": "stderr",
     "output_type": "stream",
     "text": [
      "C:\\Users\\21til\\AppData\\Local\\Temp\\ipykernel_21288\\2886358829.py:37: SettingWithCopyWarning: \n",
      "A value is trying to be set on a copy of a slice from a DataFrame\n",
      "\n",
      "See the caveats in the documentation: https://pandas.pydata.org/pandas-docs/stable/user_guide/indexing.html#returning-a-view-versus-a-copy\n",
      "  df.interpolate(method=\"time\", inplace=True)\n",
      "C:\\Users\\21til\\AppData\\Local\\Temp\\ipykernel_21288\\2886358829.py:59: FutureWarning: DataFrame.fillna with 'method' is deprecated and will raise in a future version. Use obj.ffill() or obj.bfill() instead.\n",
      "  df.fillna(method=\"ffill\", inplace=True)\n",
      "C:\\Users\\21til\\AppData\\Local\\Temp\\ipykernel_21288\\2886358829.py:60: FutureWarning: DataFrame.fillna with 'method' is deprecated and will raise in a future version. Use obj.ffill() or obj.bfill() instead.\n",
      "  df.fillna(method=\"bfill\", inplace=True)\n"
     ]
    },
    {
     "name": "stdout",
     "output_type": "stream",
     "text": [
      "Train anomalies (pm10cnc): 2060\n",
      "Test anomalies (pm10cnc): 590\n",
      "Validation anomalies (pm10cnc): 297\n"
     ]
    },
    {
     "name": "stderr",
     "output_type": "stream",
     "text": [
      "C:\\Users\\21til\\AppData\\Local\\Temp\\ipykernel_21288\\2886358829.py:37: SettingWithCopyWarning: \n",
      "A value is trying to be set on a copy of a slice from a DataFrame\n",
      "\n",
      "See the caveats in the documentation: https://pandas.pydata.org/pandas-docs/stable/user_guide/indexing.html#returning-a-view-versus-a-copy\n",
      "  df.interpolate(method=\"time\", inplace=True)\n",
      "C:\\Users\\21til\\AppData\\Local\\Temp\\ipykernel_21288\\2886358829.py:59: FutureWarning: DataFrame.fillna with 'method' is deprecated and will raise in a future version. Use obj.ffill() or obj.bfill() instead.\n",
      "  df.fillna(method=\"ffill\", inplace=True)\n",
      "C:\\Users\\21til\\AppData\\Local\\Temp\\ipykernel_21288\\2886358829.py:60: FutureWarning: DataFrame.fillna with 'method' is deprecated and will raise in a future version. Use obj.ffill() or obj.bfill() instead.\n",
      "  df.fillna(method=\"bfill\", inplace=True)\n"
     ]
    },
    {
     "name": "stdout",
     "output_type": "stream",
     "text": [
      "Train anomalies (pm2_5cnc): 2070\n",
      "Test anomalies (pm2_5cnc): 591\n",
      "Validation anomalies (pm2_5cnc): 297\n",
      "✅ JSON saved: jsons/5600.json\n",
      "Processing site_5602_data.csv (Site ID: 5602)...\n"
     ]
    },
    {
     "name": "stderr",
     "output_type": "stream",
     "text": [
      "C:\\Users\\21til\\AppData\\Local\\Temp\\ipykernel_21288\\2886358829.py:37: SettingWithCopyWarning: \n",
      "A value is trying to be set on a copy of a slice from a DataFrame\n",
      "\n",
      "See the caveats in the documentation: https://pandas.pydata.org/pandas-docs/stable/user_guide/indexing.html#returning-a-view-versus-a-copy\n",
      "  df.interpolate(method=\"time\", inplace=True)\n",
      "C:\\Users\\21til\\AppData\\Local\\Temp\\ipykernel_21288\\2886358829.py:59: FutureWarning: DataFrame.fillna with 'method' is deprecated and will raise in a future version. Use obj.ffill() or obj.bfill() instead.\n",
      "  df.fillna(method=\"ffill\", inplace=True)\n",
      "C:\\Users\\21til\\AppData\\Local\\Temp\\ipykernel_21288\\2886358829.py:60: FutureWarning: DataFrame.fillna with 'method' is deprecated and will raise in a future version. Use obj.ffill() or obj.bfill() instead.\n",
      "  df.fillna(method=\"bfill\", inplace=True)\n"
     ]
    },
    {
     "name": "stdout",
     "output_type": "stream",
     "text": [
      "Train anomalies (pm10cnc): 2069\n",
      "Test anomalies (pm10cnc): 592\n",
      "Validation anomalies (pm10cnc): 297\n"
     ]
    },
    {
     "name": "stderr",
     "output_type": "stream",
     "text": [
      "C:\\Users\\21til\\AppData\\Local\\Temp\\ipykernel_21288\\2886358829.py:37: SettingWithCopyWarning: \n",
      "A value is trying to be set on a copy of a slice from a DataFrame\n",
      "\n",
      "See the caveats in the documentation: https://pandas.pydata.org/pandas-docs/stable/user_guide/indexing.html#returning-a-view-versus-a-copy\n",
      "  df.interpolate(method=\"time\", inplace=True)\n",
      "C:\\Users\\21til\\AppData\\Local\\Temp\\ipykernel_21288\\2886358829.py:59: FutureWarning: DataFrame.fillna with 'method' is deprecated and will raise in a future version. Use obj.ffill() or obj.bfill() instead.\n",
      "  df.fillna(method=\"ffill\", inplace=True)\n",
      "C:\\Users\\21til\\AppData\\Local\\Temp\\ipykernel_21288\\2886358829.py:60: FutureWarning: DataFrame.fillna with 'method' is deprecated and will raise in a future version. Use obj.ffill() or obj.bfill() instead.\n",
      "  df.fillna(method=\"bfill\", inplace=True)\n"
     ]
    },
    {
     "name": "stdout",
     "output_type": "stream",
     "text": [
      "Train anomalies (pm2_5cnc): 2062\n",
      "Test anomalies (pm2_5cnc): 593\n",
      "Validation anomalies (pm2_5cnc): 295\n",
      "✅ JSON saved: jsons/5602.json\n",
      "Processing site_5604_data.csv (Site ID: 5604)...\n"
     ]
    },
    {
     "name": "stderr",
     "output_type": "stream",
     "text": [
      "C:\\Users\\21til\\AppData\\Local\\Temp\\ipykernel_21288\\2886358829.py:37: SettingWithCopyWarning: \n",
      "A value is trying to be set on a copy of a slice from a DataFrame\n",
      "\n",
      "See the caveats in the documentation: https://pandas.pydata.org/pandas-docs/stable/user_guide/indexing.html#returning-a-view-versus-a-copy\n",
      "  df.interpolate(method=\"time\", inplace=True)\n",
      "C:\\Users\\21til\\AppData\\Local\\Temp\\ipykernel_21288\\2886358829.py:59: FutureWarning: DataFrame.fillna with 'method' is deprecated and will raise in a future version. Use obj.ffill() or obj.bfill() instead.\n",
      "  df.fillna(method=\"ffill\", inplace=True)\n",
      "C:\\Users\\21til\\AppData\\Local\\Temp\\ipykernel_21288\\2886358829.py:60: FutureWarning: DataFrame.fillna with 'method' is deprecated and will raise in a future version. Use obj.ffill() or obj.bfill() instead.\n",
      "  df.fillna(method=\"bfill\", inplace=True)\n"
     ]
    },
    {
     "name": "stdout",
     "output_type": "stream",
     "text": [
      "Train anomalies (pm10cnc): 2070\n",
      "Test anomalies (pm10cnc): 593\n",
      "Validation anomalies (pm10cnc): 297\n"
     ]
    },
    {
     "name": "stderr",
     "output_type": "stream",
     "text": [
      "C:\\Users\\21til\\AppData\\Local\\Temp\\ipykernel_21288\\2886358829.py:37: SettingWithCopyWarning: \n",
      "A value is trying to be set on a copy of a slice from a DataFrame\n",
      "\n",
      "See the caveats in the documentation: https://pandas.pydata.org/pandas-docs/stable/user_guide/indexing.html#returning-a-view-versus-a-copy\n",
      "  df.interpolate(method=\"time\", inplace=True)\n",
      "C:\\Users\\21til\\AppData\\Local\\Temp\\ipykernel_21288\\2886358829.py:59: FutureWarning: DataFrame.fillna with 'method' is deprecated and will raise in a future version. Use obj.ffill() or obj.bfill() instead.\n",
      "  df.fillna(method=\"ffill\", inplace=True)\n",
      "C:\\Users\\21til\\AppData\\Local\\Temp\\ipykernel_21288\\2886358829.py:60: FutureWarning: DataFrame.fillna with 'method' is deprecated and will raise in a future version. Use obj.ffill() or obj.bfill() instead.\n",
      "  df.fillna(method=\"bfill\", inplace=True)\n"
     ]
    },
    {
     "name": "stdout",
     "output_type": "stream",
     "text": [
      "Train anomalies (pm2_5cnc): 2073\n",
      "Test anomalies (pm2_5cnc): 589\n",
      "Validation anomalies (pm2_5cnc): 297\n",
      "✅ JSON saved: jsons/5604.json\n",
      "Processing site_5678_data.csv (Site ID: 5678)...\n"
     ]
    },
    {
     "name": "stderr",
     "output_type": "stream",
     "text": [
      "C:\\Users\\21til\\AppData\\Local\\Temp\\ipykernel_21288\\2886358829.py:37: SettingWithCopyWarning: \n",
      "A value is trying to be set on a copy of a slice from a DataFrame\n",
      "\n",
      "See the caveats in the documentation: https://pandas.pydata.org/pandas-docs/stable/user_guide/indexing.html#returning-a-view-versus-a-copy\n",
      "  df.interpolate(method=\"time\", inplace=True)\n",
      "C:\\Users\\21til\\AppData\\Local\\Temp\\ipykernel_21288\\2886358829.py:59: FutureWarning: DataFrame.fillna with 'method' is deprecated and will raise in a future version. Use obj.ffill() or obj.bfill() instead.\n",
      "  df.fillna(method=\"ffill\", inplace=True)\n",
      "C:\\Users\\21til\\AppData\\Local\\Temp\\ipykernel_21288\\2886358829.py:60: FutureWarning: DataFrame.fillna with 'method' is deprecated and will raise in a future version. Use obj.ffill() or obj.bfill() instead.\n",
      "  df.fillna(method=\"bfill\", inplace=True)\n"
     ]
    },
    {
     "name": "stdout",
     "output_type": "stream",
     "text": [
      "Train anomalies (pm10cnc): 2053\n",
      "Test anomalies (pm10cnc): 592\n",
      "Validation anomalies (pm10cnc): 294\n"
     ]
    },
    {
     "name": "stderr",
     "output_type": "stream",
     "text": [
      "C:\\Users\\21til\\AppData\\Local\\Temp\\ipykernel_21288\\2886358829.py:37: SettingWithCopyWarning: \n",
      "A value is trying to be set on a copy of a slice from a DataFrame\n",
      "\n",
      "See the caveats in the documentation: https://pandas.pydata.org/pandas-docs/stable/user_guide/indexing.html#returning-a-view-versus-a-copy\n",
      "  df.interpolate(method=\"time\", inplace=True)\n",
      "C:\\Users\\21til\\AppData\\Local\\Temp\\ipykernel_21288\\2886358829.py:59: FutureWarning: DataFrame.fillna with 'method' is deprecated and will raise in a future version. Use obj.ffill() or obj.bfill() instead.\n",
      "  df.fillna(method=\"ffill\", inplace=True)\n",
      "C:\\Users\\21til\\AppData\\Local\\Temp\\ipykernel_21288\\2886358829.py:60: FutureWarning: DataFrame.fillna with 'method' is deprecated and will raise in a future version. Use obj.ffill() or obj.bfill() instead.\n",
      "  df.fillna(method=\"bfill\", inplace=True)\n"
     ]
    },
    {
     "name": "stdout",
     "output_type": "stream",
     "text": [
      "Train anomalies (pm2_5cnc): 2071\n",
      "Test anomalies (pm2_5cnc): 592\n",
      "Validation anomalies (pm2_5cnc): 296\n",
      "✅ JSON saved: jsons/5678.json\n",
      "Processing site_5681_data.csv (Site ID: 5681)...\n"
     ]
    },
    {
     "name": "stderr",
     "output_type": "stream",
     "text": [
      "C:\\Users\\21til\\AppData\\Local\\Temp\\ipykernel_21288\\2886358829.py:37: SettingWithCopyWarning: \n",
      "A value is trying to be set on a copy of a slice from a DataFrame\n",
      "\n",
      "See the caveats in the documentation: https://pandas.pydata.org/pandas-docs/stable/user_guide/indexing.html#returning-a-view-versus-a-copy\n",
      "  df.interpolate(method=\"time\", inplace=True)\n",
      "C:\\Users\\21til\\AppData\\Local\\Temp\\ipykernel_21288\\2886358829.py:59: FutureWarning: DataFrame.fillna with 'method' is deprecated and will raise in a future version. Use obj.ffill() or obj.bfill() instead.\n",
      "  df.fillna(method=\"ffill\", inplace=True)\n",
      "C:\\Users\\21til\\AppData\\Local\\Temp\\ipykernel_21288\\2886358829.py:60: FutureWarning: DataFrame.fillna with 'method' is deprecated and will raise in a future version. Use obj.ffill() or obj.bfill() instead.\n",
      "  df.fillna(method=\"bfill\", inplace=True)\n"
     ]
    },
    {
     "name": "stdout",
     "output_type": "stream",
     "text": [
      "Train anomalies (pm10cnc): 2073\n",
      "Test anomalies (pm10cnc): 542\n",
      "Validation anomalies (pm10cnc): 280\n"
     ]
    },
    {
     "name": "stderr",
     "output_type": "stream",
     "text": [
      "C:\\Users\\21til\\AppData\\Local\\Temp\\ipykernel_21288\\2886358829.py:37: SettingWithCopyWarning: \n",
      "A value is trying to be set on a copy of a slice from a DataFrame\n",
      "\n",
      "See the caveats in the documentation: https://pandas.pydata.org/pandas-docs/stable/user_guide/indexing.html#returning-a-view-versus-a-copy\n",
      "  df.interpolate(method=\"time\", inplace=True)\n",
      "C:\\Users\\21til\\AppData\\Local\\Temp\\ipykernel_21288\\2886358829.py:59: FutureWarning: DataFrame.fillna with 'method' is deprecated and will raise in a future version. Use obj.ffill() or obj.bfill() instead.\n",
      "  df.fillna(method=\"ffill\", inplace=True)\n",
      "C:\\Users\\21til\\AppData\\Local\\Temp\\ipykernel_21288\\2886358829.py:60: FutureWarning: DataFrame.fillna with 'method' is deprecated and will raise in a future version. Use obj.ffill() or obj.bfill() instead.\n",
      "  df.fillna(method=\"bfill\", inplace=True)\n"
     ]
    },
    {
     "name": "stdout",
     "output_type": "stream",
     "text": [
      "Train anomalies (pm2_5cnc): 2071\n",
      "Test anomalies (pm2_5cnc): 590\n",
      "Validation anomalies (pm2_5cnc): 289\n",
      "✅ JSON saved: jsons/5681.json\n",
      "Processing site_5686_data.csv (Site ID: 5686)...\n"
     ]
    },
    {
     "name": "stderr",
     "output_type": "stream",
     "text": [
      "C:\\Users\\21til\\AppData\\Local\\Temp\\ipykernel_21288\\2886358829.py:37: SettingWithCopyWarning: \n",
      "A value is trying to be set on a copy of a slice from a DataFrame\n",
      "\n",
      "See the caveats in the documentation: https://pandas.pydata.org/pandas-docs/stable/user_guide/indexing.html#returning-a-view-versus-a-copy\n",
      "  df.interpolate(method=\"time\", inplace=True)\n",
      "C:\\Users\\21til\\AppData\\Local\\Temp\\ipykernel_21288\\2886358829.py:59: FutureWarning: DataFrame.fillna with 'method' is deprecated and will raise in a future version. Use obj.ffill() or obj.bfill() instead.\n",
      "  df.fillna(method=\"ffill\", inplace=True)\n",
      "C:\\Users\\21til\\AppData\\Local\\Temp\\ipykernel_21288\\2886358829.py:60: FutureWarning: DataFrame.fillna with 'method' is deprecated and will raise in a future version. Use obj.ffill() or obj.bfill() instead.\n",
      "  df.fillna(method=\"bfill\", inplace=True)\n"
     ]
    },
    {
     "name": "stdout",
     "output_type": "stream",
     "text": [
      "Train anomalies (pm10cnc): 2074\n",
      "Test anomalies (pm10cnc): 592\n",
      "Validation anomalies (pm10cnc): 296\n"
     ]
    },
    {
     "name": "stderr",
     "output_type": "stream",
     "text": [
      "C:\\Users\\21til\\AppData\\Local\\Temp\\ipykernel_21288\\2886358829.py:37: SettingWithCopyWarning: \n",
      "A value is trying to be set on a copy of a slice from a DataFrame\n",
      "\n",
      "See the caveats in the documentation: https://pandas.pydata.org/pandas-docs/stable/user_guide/indexing.html#returning-a-view-versus-a-copy\n",
      "  df.interpolate(method=\"time\", inplace=True)\n",
      "C:\\Users\\21til\\AppData\\Local\\Temp\\ipykernel_21288\\2886358829.py:59: FutureWarning: DataFrame.fillna with 'method' is deprecated and will raise in a future version. Use obj.ffill() or obj.bfill() instead.\n",
      "  df.fillna(method=\"ffill\", inplace=True)\n",
      "C:\\Users\\21til\\AppData\\Local\\Temp\\ipykernel_21288\\2886358829.py:60: FutureWarning: DataFrame.fillna with 'method' is deprecated and will raise in a future version. Use obj.ffill() or obj.bfill() instead.\n",
      "  df.fillna(method=\"bfill\", inplace=True)\n"
     ]
    },
    {
     "name": "stdout",
     "output_type": "stream",
     "text": [
      "Train anomalies (pm2_5cnc): 2067\n",
      "Test anomalies (pm2_5cnc): 593\n",
      "Validation anomalies (pm2_5cnc): 297\n",
      "✅ JSON saved: jsons/5686.json\n",
      "Processing site_5729_data.csv (Site ID: 5729)...\n"
     ]
    },
    {
     "name": "stderr",
     "output_type": "stream",
     "text": [
      "C:\\Users\\21til\\AppData\\Local\\Temp\\ipykernel_21288\\2886358829.py:37: SettingWithCopyWarning: \n",
      "A value is trying to be set on a copy of a slice from a DataFrame\n",
      "\n",
      "See the caveats in the documentation: https://pandas.pydata.org/pandas-docs/stable/user_guide/indexing.html#returning-a-view-versus-a-copy\n",
      "  df.interpolate(method=\"time\", inplace=True)\n",
      "C:\\Users\\21til\\AppData\\Local\\Temp\\ipykernel_21288\\2886358829.py:59: FutureWarning: DataFrame.fillna with 'method' is deprecated and will raise in a future version. Use obj.ffill() or obj.bfill() instead.\n",
      "  df.fillna(method=\"ffill\", inplace=True)\n",
      "C:\\Users\\21til\\AppData\\Local\\Temp\\ipykernel_21288\\2886358829.py:60: FutureWarning: DataFrame.fillna with 'method' is deprecated and will raise in a future version. Use obj.ffill() or obj.bfill() instead.\n",
      "  df.fillna(method=\"bfill\", inplace=True)\n"
     ]
    },
    {
     "name": "stdout",
     "output_type": "stream",
     "text": [
      "Train anomalies (pm10cnc): 2064\n",
      "Test anomalies (pm10cnc): 588\n",
      "Validation anomalies (pm10cnc): 293\n"
     ]
    },
    {
     "name": "stderr",
     "output_type": "stream",
     "text": [
      "C:\\Users\\21til\\AppData\\Local\\Temp\\ipykernel_21288\\2886358829.py:37: SettingWithCopyWarning: \n",
      "A value is trying to be set on a copy of a slice from a DataFrame\n",
      "\n",
      "See the caveats in the documentation: https://pandas.pydata.org/pandas-docs/stable/user_guide/indexing.html#returning-a-view-versus-a-copy\n",
      "  df.interpolate(method=\"time\", inplace=True)\n",
      "C:\\Users\\21til\\AppData\\Local\\Temp\\ipykernel_21288\\2886358829.py:59: FutureWarning: DataFrame.fillna with 'method' is deprecated and will raise in a future version. Use obj.ffill() or obj.bfill() instead.\n",
      "  df.fillna(method=\"ffill\", inplace=True)\n",
      "C:\\Users\\21til\\AppData\\Local\\Temp\\ipykernel_21288\\2886358829.py:60: FutureWarning: DataFrame.fillna with 'method' is deprecated and will raise in a future version. Use obj.ffill() or obj.bfill() instead.\n",
      "  df.fillna(method=\"bfill\", inplace=True)\n"
     ]
    },
    {
     "name": "stdout",
     "output_type": "stream",
     "text": [
      "Train anomalies (pm2_5cnc): 2066\n",
      "Test anomalies (pm2_5cnc): 593\n",
      "Validation anomalies (pm2_5cnc): 296\n",
      "✅ JSON saved: jsons/5729.json\n",
      "Processing site_5807_data.csv (Site ID: 5807)...\n"
     ]
    },
    {
     "name": "stderr",
     "output_type": "stream",
     "text": [
      "C:\\Users\\21til\\AppData\\Local\\Temp\\ipykernel_21288\\2886358829.py:37: SettingWithCopyWarning: \n",
      "A value is trying to be set on a copy of a slice from a DataFrame\n",
      "\n",
      "See the caveats in the documentation: https://pandas.pydata.org/pandas-docs/stable/user_guide/indexing.html#returning-a-view-versus-a-copy\n",
      "  df.interpolate(method=\"time\", inplace=True)\n",
      "C:\\Users\\21til\\AppData\\Local\\Temp\\ipykernel_21288\\2886358829.py:59: FutureWarning: DataFrame.fillna with 'method' is deprecated and will raise in a future version. Use obj.ffill() or obj.bfill() instead.\n",
      "  df.fillna(method=\"ffill\", inplace=True)\n",
      "C:\\Users\\21til\\AppData\\Local\\Temp\\ipykernel_21288\\2886358829.py:60: FutureWarning: DataFrame.fillna with 'method' is deprecated and will raise in a future version. Use obj.ffill() or obj.bfill() instead.\n",
      "  df.fillna(method=\"bfill\", inplace=True)\n"
     ]
    },
    {
     "name": "stdout",
     "output_type": "stream",
     "text": [
      "Train anomalies (pm10cnc): 2069\n",
      "Test anomalies (pm10cnc): 593\n",
      "Validation anomalies (pm10cnc): 295\n"
     ]
    },
    {
     "name": "stderr",
     "output_type": "stream",
     "text": [
      "C:\\Users\\21til\\AppData\\Local\\Temp\\ipykernel_21288\\2886358829.py:37: SettingWithCopyWarning: \n",
      "A value is trying to be set on a copy of a slice from a DataFrame\n",
      "\n",
      "See the caveats in the documentation: https://pandas.pydata.org/pandas-docs/stable/user_guide/indexing.html#returning-a-view-versus-a-copy\n",
      "  df.interpolate(method=\"time\", inplace=True)\n",
      "C:\\Users\\21til\\AppData\\Local\\Temp\\ipykernel_21288\\2886358829.py:59: FutureWarning: DataFrame.fillna with 'method' is deprecated and will raise in a future version. Use obj.ffill() or obj.bfill() instead.\n",
      "  df.fillna(method=\"ffill\", inplace=True)\n",
      "C:\\Users\\21til\\AppData\\Local\\Temp\\ipykernel_21288\\2886358829.py:60: FutureWarning: DataFrame.fillna with 'method' is deprecated and will raise in a future version. Use obj.ffill() or obj.bfill() instead.\n",
      "  df.fillna(method=\"bfill\", inplace=True)\n"
     ]
    },
    {
     "name": "stdout",
     "output_type": "stream",
     "text": [
      "Train anomalies (pm2_5cnc): 2074\n",
      "Test anomalies (pm2_5cnc): 593\n",
      "Validation anomalies (pm2_5cnc): 294\n",
      "✅ JSON saved: jsons/5807.json\n",
      "Processing site_5810_data.csv (Site ID: 5810)...\n"
     ]
    },
    {
     "name": "stderr",
     "output_type": "stream",
     "text": [
      "C:\\Users\\21til\\AppData\\Local\\Temp\\ipykernel_21288\\2886358829.py:37: SettingWithCopyWarning: \n",
      "A value is trying to be set on a copy of a slice from a DataFrame\n",
      "\n",
      "See the caveats in the documentation: https://pandas.pydata.org/pandas-docs/stable/user_guide/indexing.html#returning-a-view-versus-a-copy\n",
      "  df.interpolate(method=\"time\", inplace=True)\n",
      "C:\\Users\\21til\\AppData\\Local\\Temp\\ipykernel_21288\\2886358829.py:59: FutureWarning: DataFrame.fillna with 'method' is deprecated and will raise in a future version. Use obj.ffill() or obj.bfill() instead.\n",
      "  df.fillna(method=\"ffill\", inplace=True)\n",
      "C:\\Users\\21til\\AppData\\Local\\Temp\\ipykernel_21288\\2886358829.py:60: FutureWarning: DataFrame.fillna with 'method' is deprecated and will raise in a future version. Use obj.ffill() or obj.bfill() instead.\n",
      "  df.fillna(method=\"bfill\", inplace=True)\n"
     ]
    },
    {
     "name": "stdout",
     "output_type": "stream",
     "text": [
      "Train anomalies (pm10cnc): 2071\n",
      "Test anomalies (pm10cnc): 592\n",
      "Validation anomalies (pm10cnc): 296\n"
     ]
    },
    {
     "name": "stderr",
     "output_type": "stream",
     "text": [
      "C:\\Users\\21til\\AppData\\Local\\Temp\\ipykernel_21288\\2886358829.py:37: SettingWithCopyWarning: \n",
      "A value is trying to be set on a copy of a slice from a DataFrame\n",
      "\n",
      "See the caveats in the documentation: https://pandas.pydata.org/pandas-docs/stable/user_guide/indexing.html#returning-a-view-versus-a-copy\n",
      "  df.interpolate(method=\"time\", inplace=True)\n",
      "C:\\Users\\21til\\AppData\\Local\\Temp\\ipykernel_21288\\2886358829.py:59: FutureWarning: DataFrame.fillna with 'method' is deprecated and will raise in a future version. Use obj.ffill() or obj.bfill() instead.\n",
      "  df.fillna(method=\"ffill\", inplace=True)\n",
      "C:\\Users\\21til\\AppData\\Local\\Temp\\ipykernel_21288\\2886358829.py:60: FutureWarning: DataFrame.fillna with 'method' is deprecated and will raise in a future version. Use obj.ffill() or obj.bfill() instead.\n",
      "  df.fillna(method=\"bfill\", inplace=True)\n"
     ]
    },
    {
     "name": "stdout",
     "output_type": "stream",
     "text": [
      "Train anomalies (pm2_5cnc): 2070\n",
      "Test anomalies (pm2_5cnc): 591\n",
      "Validation anomalies (pm2_5cnc): 296\n",
      "✅ JSON saved: jsons/5810.json\n",
      "Processing site_5811_data.csv (Site ID: 5811)...\n"
     ]
    },
    {
     "name": "stderr",
     "output_type": "stream",
     "text": [
      "C:\\Users\\21til\\AppData\\Local\\Temp\\ipykernel_21288\\2886358829.py:37: SettingWithCopyWarning: \n",
      "A value is trying to be set on a copy of a slice from a DataFrame\n",
      "\n",
      "See the caveats in the documentation: https://pandas.pydata.org/pandas-docs/stable/user_guide/indexing.html#returning-a-view-versus-a-copy\n",
      "  df.interpolate(method=\"time\", inplace=True)\n",
      "C:\\Users\\21til\\AppData\\Local\\Temp\\ipykernel_21288\\2886358829.py:59: FutureWarning: DataFrame.fillna with 'method' is deprecated and will raise in a future version. Use obj.ffill() or obj.bfill() instead.\n",
      "  df.fillna(method=\"ffill\", inplace=True)\n",
      "C:\\Users\\21til\\AppData\\Local\\Temp\\ipykernel_21288\\2886358829.py:60: FutureWarning: DataFrame.fillna with 'method' is deprecated and will raise in a future version. Use obj.ffill() or obj.bfill() instead.\n",
      "  df.fillna(method=\"bfill\", inplace=True)\n"
     ]
    },
    {
     "name": "stdout",
     "output_type": "stream",
     "text": [
      "Train anomalies (pm10cnc): 2073\n",
      "Test anomalies (pm10cnc): 592\n",
      "Validation anomalies (pm10cnc): 297\n"
     ]
    },
    {
     "name": "stderr",
     "output_type": "stream",
     "text": [
      "C:\\Users\\21til\\AppData\\Local\\Temp\\ipykernel_21288\\2886358829.py:37: SettingWithCopyWarning: \n",
      "A value is trying to be set on a copy of a slice from a DataFrame\n",
      "\n",
      "See the caveats in the documentation: https://pandas.pydata.org/pandas-docs/stable/user_guide/indexing.html#returning-a-view-versus-a-copy\n",
      "  df.interpolate(method=\"time\", inplace=True)\n",
      "C:\\Users\\21til\\AppData\\Local\\Temp\\ipykernel_21288\\2886358829.py:59: FutureWarning: DataFrame.fillna with 'method' is deprecated and will raise in a future version. Use obj.ffill() or obj.bfill() instead.\n",
      "  df.fillna(method=\"ffill\", inplace=True)\n",
      "C:\\Users\\21til\\AppData\\Local\\Temp\\ipykernel_21288\\2886358829.py:60: FutureWarning: DataFrame.fillna with 'method' is deprecated and will raise in a future version. Use obj.ffill() or obj.bfill() instead.\n",
      "  df.fillna(method=\"bfill\", inplace=True)\n"
     ]
    },
    {
     "name": "stdout",
     "output_type": "stream",
     "text": [
      "Train anomalies (pm2_5cnc): 2074\n",
      "Test anomalies (pm2_5cnc): 592\n",
      "Validation anomalies (pm2_5cnc): 295\n",
      "✅ JSON saved: jsons/5811.json\n",
      "Processing site_5814_data.csv (Site ID: 5814)...\n"
     ]
    },
    {
     "name": "stderr",
     "output_type": "stream",
     "text": [
      "C:\\Users\\21til\\AppData\\Local\\Temp\\ipykernel_21288\\2886358829.py:37: SettingWithCopyWarning: \n",
      "A value is trying to be set on a copy of a slice from a DataFrame\n",
      "\n",
      "See the caveats in the documentation: https://pandas.pydata.org/pandas-docs/stable/user_guide/indexing.html#returning-a-view-versus-a-copy\n",
      "  df.interpolate(method=\"time\", inplace=True)\n",
      "C:\\Users\\21til\\AppData\\Local\\Temp\\ipykernel_21288\\2886358829.py:59: FutureWarning: DataFrame.fillna with 'method' is deprecated and will raise in a future version. Use obj.ffill() or obj.bfill() instead.\n",
      "  df.fillna(method=\"ffill\", inplace=True)\n",
      "C:\\Users\\21til\\AppData\\Local\\Temp\\ipykernel_21288\\2886358829.py:60: FutureWarning: DataFrame.fillna with 'method' is deprecated and will raise in a future version. Use obj.ffill() or obj.bfill() instead.\n",
      "  df.fillna(method=\"bfill\", inplace=True)\n"
     ]
    },
    {
     "name": "stdout",
     "output_type": "stream",
     "text": [
      "Train anomalies (pm10cnc): 2074\n",
      "Test anomalies (pm10cnc): 593\n",
      "Validation anomalies (pm10cnc): 297\n"
     ]
    },
    {
     "name": "stderr",
     "output_type": "stream",
     "text": [
      "C:\\Users\\21til\\AppData\\Local\\Temp\\ipykernel_21288\\2886358829.py:37: SettingWithCopyWarning: \n",
      "A value is trying to be set on a copy of a slice from a DataFrame\n",
      "\n",
      "See the caveats in the documentation: https://pandas.pydata.org/pandas-docs/stable/user_guide/indexing.html#returning-a-view-versus-a-copy\n",
      "  df.interpolate(method=\"time\", inplace=True)\n",
      "C:\\Users\\21til\\AppData\\Local\\Temp\\ipykernel_21288\\2886358829.py:59: FutureWarning: DataFrame.fillna with 'method' is deprecated and will raise in a future version. Use obj.ffill() or obj.bfill() instead.\n",
      "  df.fillna(method=\"ffill\", inplace=True)\n",
      "C:\\Users\\21til\\AppData\\Local\\Temp\\ipykernel_21288\\2886358829.py:60: FutureWarning: DataFrame.fillna with 'method' is deprecated and will raise in a future version. Use obj.ffill() or obj.bfill() instead.\n",
      "  df.fillna(method=\"bfill\", inplace=True)\n"
     ]
    },
    {
     "name": "stdout",
     "output_type": "stream",
     "text": [
      "Train anomalies (pm2_5cnc): 2071\n",
      "Test anomalies (pm2_5cnc): 592\n",
      "Validation anomalies (pm2_5cnc): 296\n",
      "✅ JSON saved: jsons/5814.json\n",
      "Processing site_5852_data.csv (Site ID: 5852)...\n"
     ]
    },
    {
     "name": "stderr",
     "output_type": "stream",
     "text": [
      "C:\\Users\\21til\\AppData\\Local\\Temp\\ipykernel_21288\\2886358829.py:37: SettingWithCopyWarning: \n",
      "A value is trying to be set on a copy of a slice from a DataFrame\n",
      "\n",
      "See the caveats in the documentation: https://pandas.pydata.org/pandas-docs/stable/user_guide/indexing.html#returning-a-view-versus-a-copy\n",
      "  df.interpolate(method=\"time\", inplace=True)\n",
      "C:\\Users\\21til\\AppData\\Local\\Temp\\ipykernel_21288\\2886358829.py:59: FutureWarning: DataFrame.fillna with 'method' is deprecated and will raise in a future version. Use obj.ffill() or obj.bfill() instead.\n",
      "  df.fillna(method=\"ffill\", inplace=True)\n",
      "C:\\Users\\21til\\AppData\\Local\\Temp\\ipykernel_21288\\2886358829.py:60: FutureWarning: DataFrame.fillna with 'method' is deprecated and will raise in a future version. Use obj.ffill() or obj.bfill() instead.\n",
      "  df.fillna(method=\"bfill\", inplace=True)\n"
     ]
    },
    {
     "name": "stdout",
     "output_type": "stream",
     "text": [
      "Train anomalies (pm10cnc): 0\n",
      "Test anomalies (pm10cnc): 0\n",
      "Validation anomalies (pm10cnc): 0\n"
     ]
    },
    {
     "name": "stderr",
     "output_type": "stream",
     "text": [
      "C:\\Users\\21til\\AppData\\Local\\Temp\\ipykernel_21288\\2886358829.py:37: SettingWithCopyWarning: \n",
      "A value is trying to be set on a copy of a slice from a DataFrame\n",
      "\n",
      "See the caveats in the documentation: https://pandas.pydata.org/pandas-docs/stable/user_guide/indexing.html#returning-a-view-versus-a-copy\n",
      "  df.interpolate(method=\"time\", inplace=True)\n",
      "C:\\Users\\21til\\AppData\\Local\\Temp\\ipykernel_21288\\2886358829.py:59: FutureWarning: DataFrame.fillna with 'method' is deprecated and will raise in a future version. Use obj.ffill() or obj.bfill() instead.\n",
      "  df.fillna(method=\"ffill\", inplace=True)\n",
      "C:\\Users\\21til\\AppData\\Local\\Temp\\ipykernel_21288\\2886358829.py:60: FutureWarning: DataFrame.fillna with 'method' is deprecated and will raise in a future version. Use obj.ffill() or obj.bfill() instead.\n",
      "  df.fillna(method=\"bfill\", inplace=True)\n"
     ]
    },
    {
     "name": "stdout",
     "output_type": "stream",
     "text": [
      "Train anomalies (pm2_5cnc): 2074\n",
      "Test anomalies (pm2_5cnc): 589\n",
      "Validation anomalies (pm2_5cnc): 297\n",
      "✅ JSON saved: jsons/5852.json\n",
      "Processing site_5960_data.csv (Site ID: 5960)...\n"
     ]
    },
    {
     "name": "stderr",
     "output_type": "stream",
     "text": [
      "C:\\Users\\21til\\AppData\\Local\\Temp\\ipykernel_21288\\2886358829.py:37: SettingWithCopyWarning: \n",
      "A value is trying to be set on a copy of a slice from a DataFrame\n",
      "\n",
      "See the caveats in the documentation: https://pandas.pydata.org/pandas-docs/stable/user_guide/indexing.html#returning-a-view-versus-a-copy\n",
      "  df.interpolate(method=\"time\", inplace=True)\n",
      "C:\\Users\\21til\\AppData\\Local\\Temp\\ipykernel_21288\\2886358829.py:59: FutureWarning: DataFrame.fillna with 'method' is deprecated and will raise in a future version. Use obj.ffill() or obj.bfill() instead.\n",
      "  df.fillna(method=\"ffill\", inplace=True)\n",
      "C:\\Users\\21til\\AppData\\Local\\Temp\\ipykernel_21288\\2886358829.py:60: FutureWarning: DataFrame.fillna with 'method' is deprecated and will raise in a future version. Use obj.ffill() or obj.bfill() instead.\n",
      "  df.fillna(method=\"bfill\", inplace=True)\n"
     ]
    },
    {
     "name": "stdout",
     "output_type": "stream",
     "text": [
      "Train anomalies (pm10cnc): 2066\n",
      "Test anomalies (pm10cnc): 593\n",
      "Validation anomalies (pm10cnc): 297\n"
     ]
    },
    {
     "name": "stderr",
     "output_type": "stream",
     "text": [
      "C:\\Users\\21til\\AppData\\Local\\Temp\\ipykernel_21288\\2886358829.py:37: SettingWithCopyWarning: \n",
      "A value is trying to be set on a copy of a slice from a DataFrame\n",
      "\n",
      "See the caveats in the documentation: https://pandas.pydata.org/pandas-docs/stable/user_guide/indexing.html#returning-a-view-versus-a-copy\n",
      "  df.interpolate(method=\"time\", inplace=True)\n",
      "C:\\Users\\21til\\AppData\\Local\\Temp\\ipykernel_21288\\2886358829.py:59: FutureWarning: DataFrame.fillna with 'method' is deprecated and will raise in a future version. Use obj.ffill() or obj.bfill() instead.\n",
      "  df.fillna(method=\"ffill\", inplace=True)\n",
      "C:\\Users\\21til\\AppData\\Local\\Temp\\ipykernel_21288\\2886358829.py:60: FutureWarning: DataFrame.fillna with 'method' is deprecated and will raise in a future version. Use obj.ffill() or obj.bfill() instead.\n",
      "  df.fillna(method=\"bfill\", inplace=True)\n"
     ]
    },
    {
     "name": "stdout",
     "output_type": "stream",
     "text": [
      "Train anomalies (pm2_5cnc): 2073\n",
      "Test anomalies (pm2_5cnc): 591\n",
      "Validation anomalies (pm2_5cnc): 297\n",
      "✅ JSON saved: jsons/5960.json\n",
      "Processing site_5961_data.csv (Site ID: 5961)...\n"
     ]
    },
    {
     "name": "stderr",
     "output_type": "stream",
     "text": [
      "C:\\Users\\21til\\AppData\\Local\\Temp\\ipykernel_21288\\2886358829.py:37: SettingWithCopyWarning: \n",
      "A value is trying to be set on a copy of a slice from a DataFrame\n",
      "\n",
      "See the caveats in the documentation: https://pandas.pydata.org/pandas-docs/stable/user_guide/indexing.html#returning-a-view-versus-a-copy\n",
      "  df.interpolate(method=\"time\", inplace=True)\n",
      "C:\\Users\\21til\\AppData\\Local\\Temp\\ipykernel_21288\\2886358829.py:59: FutureWarning: DataFrame.fillna with 'method' is deprecated and will raise in a future version. Use obj.ffill() or obj.bfill() instead.\n",
      "  df.fillna(method=\"ffill\", inplace=True)\n",
      "C:\\Users\\21til\\AppData\\Local\\Temp\\ipykernel_21288\\2886358829.py:60: FutureWarning: DataFrame.fillna with 'method' is deprecated and will raise in a future version. Use obj.ffill() or obj.bfill() instead.\n",
      "  df.fillna(method=\"bfill\", inplace=True)\n"
     ]
    },
    {
     "name": "stdout",
     "output_type": "stream",
     "text": [
      "Train anomalies (pm10cnc): 2069\n",
      "Test anomalies (pm10cnc): 592\n",
      "Validation anomalies (pm10cnc): 297\n"
     ]
    },
    {
     "name": "stderr",
     "output_type": "stream",
     "text": [
      "C:\\Users\\21til\\AppData\\Local\\Temp\\ipykernel_21288\\2886358829.py:37: SettingWithCopyWarning: \n",
      "A value is trying to be set on a copy of a slice from a DataFrame\n",
      "\n",
      "See the caveats in the documentation: https://pandas.pydata.org/pandas-docs/stable/user_guide/indexing.html#returning-a-view-versus-a-copy\n",
      "  df.interpolate(method=\"time\", inplace=True)\n",
      "C:\\Users\\21til\\AppData\\Local\\Temp\\ipykernel_21288\\2886358829.py:59: FutureWarning: DataFrame.fillna with 'method' is deprecated and will raise in a future version. Use obj.ffill() or obj.bfill() instead.\n",
      "  df.fillna(method=\"ffill\", inplace=True)\n",
      "C:\\Users\\21til\\AppData\\Local\\Temp\\ipykernel_21288\\2886358829.py:60: FutureWarning: DataFrame.fillna with 'method' is deprecated and will raise in a future version. Use obj.ffill() or obj.bfill() instead.\n",
      "  df.fillna(method=\"bfill\", inplace=True)\n"
     ]
    },
    {
     "name": "stdout",
     "output_type": "stream",
     "text": [
      "Train anomalies (pm2_5cnc): 2074\n",
      "Test anomalies (pm2_5cnc): 593\n",
      "Validation anomalies (pm2_5cnc): 297\n",
      "✅ JSON saved: jsons/5961.json\n",
      "Processing site_5962_data.csv (Site ID: 5962)...\n"
     ]
    },
    {
     "name": "stderr",
     "output_type": "stream",
     "text": [
      "C:\\Users\\21til\\AppData\\Local\\Temp\\ipykernel_21288\\2886358829.py:37: SettingWithCopyWarning: \n",
      "A value is trying to be set on a copy of a slice from a DataFrame\n",
      "\n",
      "See the caveats in the documentation: https://pandas.pydata.org/pandas-docs/stable/user_guide/indexing.html#returning-a-view-versus-a-copy\n",
      "  df.interpolate(method=\"time\", inplace=True)\n",
      "C:\\Users\\21til\\AppData\\Local\\Temp\\ipykernel_21288\\2886358829.py:59: FutureWarning: DataFrame.fillna with 'method' is deprecated and will raise in a future version. Use obj.ffill() or obj.bfill() instead.\n",
      "  df.fillna(method=\"ffill\", inplace=True)\n",
      "C:\\Users\\21til\\AppData\\Local\\Temp\\ipykernel_21288\\2886358829.py:60: FutureWarning: DataFrame.fillna with 'method' is deprecated and will raise in a future version. Use obj.ffill() or obj.bfill() instead.\n",
      "  df.fillna(method=\"bfill\", inplace=True)\n"
     ]
    },
    {
     "name": "stdout",
     "output_type": "stream",
     "text": [
      "Train anomalies (pm10cnc): 2073\n",
      "Test anomalies (pm10cnc): 590\n",
      "Validation anomalies (pm10cnc): 297\n"
     ]
    },
    {
     "name": "stderr",
     "output_type": "stream",
     "text": [
      "C:\\Users\\21til\\AppData\\Local\\Temp\\ipykernel_21288\\2886358829.py:37: SettingWithCopyWarning: \n",
      "A value is trying to be set on a copy of a slice from a DataFrame\n",
      "\n",
      "See the caveats in the documentation: https://pandas.pydata.org/pandas-docs/stable/user_guide/indexing.html#returning-a-view-versus-a-copy\n",
      "  df.interpolate(method=\"time\", inplace=True)\n",
      "C:\\Users\\21til\\AppData\\Local\\Temp\\ipykernel_21288\\2886358829.py:59: FutureWarning: DataFrame.fillna with 'method' is deprecated and will raise in a future version. Use obj.ffill() or obj.bfill() instead.\n",
      "  df.fillna(method=\"ffill\", inplace=True)\n",
      "C:\\Users\\21til\\AppData\\Local\\Temp\\ipykernel_21288\\2886358829.py:60: FutureWarning: DataFrame.fillna with 'method' is deprecated and will raise in a future version. Use obj.ffill() or obj.bfill() instead.\n",
      "  df.fillna(method=\"bfill\", inplace=True)\n"
     ]
    },
    {
     "name": "stdout",
     "output_type": "stream",
     "text": [
      "Train anomalies (pm2_5cnc): 2071\n",
      "Test anomalies (pm2_5cnc): 591\n",
      "Validation anomalies (pm2_5cnc): 296\n",
      "✅ JSON saved: jsons/5962.json\n",
      "Processing site_5963_data.csv (Site ID: 5963)...\n"
     ]
    },
    {
     "name": "stderr",
     "output_type": "stream",
     "text": [
      "C:\\Users\\21til\\AppData\\Local\\Temp\\ipykernel_21288\\2886358829.py:37: SettingWithCopyWarning: \n",
      "A value is trying to be set on a copy of a slice from a DataFrame\n",
      "\n",
      "See the caveats in the documentation: https://pandas.pydata.org/pandas-docs/stable/user_guide/indexing.html#returning-a-view-versus-a-copy\n",
      "  df.interpolate(method=\"time\", inplace=True)\n",
      "C:\\Users\\21til\\AppData\\Local\\Temp\\ipykernel_21288\\2886358829.py:59: FutureWarning: DataFrame.fillna with 'method' is deprecated and will raise in a future version. Use obj.ffill() or obj.bfill() instead.\n",
      "  df.fillna(method=\"ffill\", inplace=True)\n",
      "C:\\Users\\21til\\AppData\\Local\\Temp\\ipykernel_21288\\2886358829.py:60: FutureWarning: DataFrame.fillna with 'method' is deprecated and will raise in a future version. Use obj.ffill() or obj.bfill() instead.\n",
      "  df.fillna(method=\"bfill\", inplace=True)\n"
     ]
    },
    {
     "name": "stdout",
     "output_type": "stream",
     "text": [
      "Train anomalies (pm10cnc): 2071\n",
      "Test anomalies (pm10cnc): 591\n",
      "Validation anomalies (pm10cnc): 297\n"
     ]
    },
    {
     "name": "stderr",
     "output_type": "stream",
     "text": [
      "C:\\Users\\21til\\AppData\\Local\\Temp\\ipykernel_21288\\2886358829.py:37: SettingWithCopyWarning: \n",
      "A value is trying to be set on a copy of a slice from a DataFrame\n",
      "\n",
      "See the caveats in the documentation: https://pandas.pydata.org/pandas-docs/stable/user_guide/indexing.html#returning-a-view-versus-a-copy\n",
      "  df.interpolate(method=\"time\", inplace=True)\n",
      "C:\\Users\\21til\\AppData\\Local\\Temp\\ipykernel_21288\\2886358829.py:59: FutureWarning: DataFrame.fillna with 'method' is deprecated and will raise in a future version. Use obj.ffill() or obj.bfill() instead.\n",
      "  df.fillna(method=\"ffill\", inplace=True)\n",
      "C:\\Users\\21til\\AppData\\Local\\Temp\\ipykernel_21288\\2886358829.py:60: FutureWarning: DataFrame.fillna with 'method' is deprecated and will raise in a future version. Use obj.ffill() or obj.bfill() instead.\n",
      "  df.fillna(method=\"bfill\", inplace=True)\n"
     ]
    },
    {
     "name": "stdout",
     "output_type": "stream",
     "text": [
      "Train anomalies (pm2_5cnc): 2073\n",
      "Test anomalies (pm2_5cnc): 592\n",
      "Validation anomalies (pm2_5cnc): 297\n",
      "✅ JSON saved: jsons/5963.json\n",
      "Processing site_5964_data.csv (Site ID: 5964)...\n"
     ]
    },
    {
     "name": "stderr",
     "output_type": "stream",
     "text": [
      "C:\\Users\\21til\\AppData\\Local\\Temp\\ipykernel_21288\\2886358829.py:37: SettingWithCopyWarning: \n",
      "A value is trying to be set on a copy of a slice from a DataFrame\n",
      "\n",
      "See the caveats in the documentation: https://pandas.pydata.org/pandas-docs/stable/user_guide/indexing.html#returning-a-view-versus-a-copy\n",
      "  df.interpolate(method=\"time\", inplace=True)\n",
      "C:\\Users\\21til\\AppData\\Local\\Temp\\ipykernel_21288\\2886358829.py:59: FutureWarning: DataFrame.fillna with 'method' is deprecated and will raise in a future version. Use obj.ffill() or obj.bfill() instead.\n",
      "  df.fillna(method=\"ffill\", inplace=True)\n",
      "C:\\Users\\21til\\AppData\\Local\\Temp\\ipykernel_21288\\2886358829.py:60: FutureWarning: DataFrame.fillna with 'method' is deprecated and will raise in a future version. Use obj.ffill() or obj.bfill() instead.\n",
      "  df.fillna(method=\"bfill\", inplace=True)\n"
     ]
    },
    {
     "name": "stdout",
     "output_type": "stream",
     "text": [
      "Train anomalies (pm10cnc): 2064\n",
      "Test anomalies (pm10cnc): 590\n",
      "Validation anomalies (pm10cnc): 297\n"
     ]
    },
    {
     "name": "stderr",
     "output_type": "stream",
     "text": [
      "C:\\Users\\21til\\AppData\\Local\\Temp\\ipykernel_21288\\2886358829.py:37: SettingWithCopyWarning: \n",
      "A value is trying to be set on a copy of a slice from a DataFrame\n",
      "\n",
      "See the caveats in the documentation: https://pandas.pydata.org/pandas-docs/stable/user_guide/indexing.html#returning-a-view-versus-a-copy\n",
      "  df.interpolate(method=\"time\", inplace=True)\n",
      "C:\\Users\\21til\\AppData\\Local\\Temp\\ipykernel_21288\\2886358829.py:59: FutureWarning: DataFrame.fillna with 'method' is deprecated and will raise in a future version. Use obj.ffill() or obj.bfill() instead.\n",
      "  df.fillna(method=\"ffill\", inplace=True)\n",
      "C:\\Users\\21til\\AppData\\Local\\Temp\\ipykernel_21288\\2886358829.py:60: FutureWarning: DataFrame.fillna with 'method' is deprecated and will raise in a future version. Use obj.ffill() or obj.bfill() instead.\n",
      "  df.fillna(method=\"bfill\", inplace=True)\n"
     ]
    },
    {
     "name": "stdout",
     "output_type": "stream",
     "text": [
      "Train anomalies (pm2_5cnc): 2074\n",
      "Test anomalies (pm2_5cnc): 593\n",
      "Validation anomalies (pm2_5cnc): 297\n",
      "✅ JSON saved: jsons/5964.json\n"
     ]
    }
   ],
   "source": [
    "import os\n",
    "import pandas as pd\n",
    "import json\n",
    "\n",
    "# Folder paths\n",
    "CSV_FOLDER = \"csvs/\"\n",
    "JSON_FOLDER = \"jsons/\"\n",
    "\n",
    "# Ensure JSON folder exists\n",
    "os.makedirs(JSON_FOLDER, exist_ok=True)\n",
    "\n",
    "# Function to process all CSV files dynamically\n",
    "def process_all_sites():\n",
    "    \"\"\"\n",
    "    Reads all CSV files from `csvs/` folder, processes data for each site,\n",
    "    detects anomalies, and stores output in `jsons/` folder.\n",
    "    \"\"\"\n",
    "    site_files = [f for f in os.listdir(CSV_FOLDER) if f.endswith(\".csv\")]\n",
    "\n",
    "    for file in site_files:\n",
    "        site_id = file.split(\"_\")[1]  # Extract site_id from filename\n",
    "        file_path = os.path.join(CSV_FOLDER, file)\n",
    "\n",
    "        print(f\"Processing {file} (Site ID: {site_id})...\")\n",
    "\n",
    "        # Read CSV with proper date parsing\n",
    "        df = pd.read_csv(file_path, parse_dates=[\"dt_time\"], index_col=\"dt_time\")\n",
    "\n",
    "        # Ensure essential columns exist\n",
    "        if not all(col in df.columns for col in [\"pm2_5cnc\", \"pm10cnc\"]):\n",
    "            print(f\"⚠️ Skipping {file}: Required columns missing.\")\n",
    "            continue\n",
    "\n",
    "        # Run anomaly detection models\n",
    "        df10iforest = process_and_plot_anomalies(df, pollutant=\"pm10cnc\")\n",
    "        df25iforest = process_and_plot_anomalies(df, pollutant=\"pm2_5cnc\")\n",
    "\n",
    "        # Merge PM10 and PM2.5 anomaly data\n",
    "        merged_df = pd.merge(\n",
    "            df10iforest[['pm10cnc', 'Anomaly_pm10cnc']], \n",
    "            df25iforest[['pm2_5cnc', 'Anomaly_pm2_5cnc']], \n",
    "            left_index=True, \n",
    "            right_index=True, \n",
    "            how=\"inner\"\n",
    "        )\n",
    "\n",
    "        # Reset index for JSON output\n",
    "        merged_df.reset_index(inplace=True)\n",
    "        merged_df[\"dt_time\"] = merged_df[\"dt_time\"].astype(str)  # Convert datetime to string\n",
    "\n",
    "        # Convert processed DataFrame to JSON structure\n",
    "        site_json_data = {site_id: merged_df.to_dict(orient=\"records\")}\n",
    "\n",
    "        # Save JSON file\n",
    "        json_file_path = os.path.join(JSON_FOLDER, f\"{site_id}.json\")\n",
    "        with open(json_file_path, \"w\") as json_file:\n",
    "            json.dump(site_json_data, json_file, indent=4)\n",
    "\n",
    "        print(f\"✅ JSON saved: {json_file_path}\")\n",
    "\n",
    "# Run the processing function\n",
    "if __name__ == \"__main__\":\n",
    "    process_all_sites()\n"
   ]
  },
  {
   "cell_type": "code",
   "execution_count": null,
   "id": "47463378-bb16-453b-9156-53d22da8400b",
   "metadata": {},
   "outputs": [],
   "source": []
  }
 ],
 "metadata": {
  "kernelspec": {
   "display_name": "Python 3 (ipykernel)",
   "language": "python",
   "name": "python3"
  },
  "language_info": {
   "codemirror_mode": {
    "name": "ipython",
    "version": 3
   },
   "file_extension": ".py",
   "mimetype": "text/x-python",
   "name": "python",
   "nbconvert_exporter": "python",
   "pygments_lexer": "ipython3",
   "version": "3.11.4"
  }
 },
 "nbformat": 4,
 "nbformat_minor": 5
}
